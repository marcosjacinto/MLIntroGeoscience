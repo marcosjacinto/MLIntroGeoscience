{
 "cells": [
  {
   "cell_type": "markdown",
   "metadata": {
    "id": "1lgKjCwzarOk"
   },
   "source": [
    "# Introdução a Machine Learning nas Geociências\n",
    "**Ministrante: Marcos Jacinto, Geólogo, Mestrando e Geocientista de Dados na Geowellex**\n",
    "\n",
    "[LinkedIn](https://www.linkedin.com/in/marcos-jacinto/)\n",
    "\n",
    "O presente curso fornece uma introdução aos conceitos de Machine Learning, utilizando a linguagem python e a plataforma Google Colaboratory como ambiente de programação. \n",
    "\n",
    "O intuito do uso do Google Colaboratory é evitar a obrigação de instalar um software no computador de cada participante. Com isso podemos evitar eventuais problemas de instalação e configuração, e, ao mesmo tempo, acelerar o estudo dos conceitos aqui apresentados.\n",
    "\n",
    "O objetivo do nosso curso é:\n",
    "\n",
    "*   Adquirir conhecimentos básicos sobre o workflow necessário para executar um trabalho de Machine Learning, aplicando-o para predição de litologias em poços;\n",
    "*   Aprender o funcionamento básico de alguns métodos de Machine Learning;\n",
    "*   Aprender a avaliar e criticar os resultados obtidos.\n",
    "\n",
    "O roteiro da parte prática será:\n",
    "\n",
    "1.   Como os Dados são vistos pelo computador?\n",
    "2.   Preparação dos Dados;\n",
    "3.   Treinando Diferentes Modelos\n",
    "\n",
    "---\n",
    "Antes de iniciar os primeiros passos, tenha certeza de ter colocado<b> esse notebook junto com demais arquivos que foram enviados na raíz do seu Google Drive, dentro de uma pasta com o nome</b>: \n",
    "\n",
    "*   Curso AAPG\n",
    "\n",
    "É importante que o nome seja exatamente esse para evitar problemas de carregamento dos dados. Se a pasta não estiver localizada na raíz ou o nome estiver ligeiramente diferente o carregamento dos dados não irá funcionar como esperado.\n",
    "\n",
    "\n",
    "---\n",
    "\n",
    "A primeira coisa que iremos fazer é <b> configurar o Google Colaboratory para utilizar uma GPU</b> na nuvem. Isso deve ser feito para que quando utilizarmos uma rede neural artificial o treinamento seja mais rápido. Repita os seguintes passos:\n",
    "\n",
    "\n",
    "*   No canto superior esquerdo clique em Editar;\n",
    "*   Escolha a opção 'Configurações do Notebook';\n",
    "*   Em 'Acelerador de Hardware' selecione GPU e depois clique em Salvar.\n",
    "\n",
    "---\n",
    "\n",
    "Uma vez feito isso, podemos proceder para a nossa parte prática. \n",
    "Os códigos estarão dívidos em células. Ao se executar uma célula, somente o código dentro dela será executado. Não se preocupem com as linhas de código abaixo e seus significados, pois o que vocês deverão saber será explicado ao longo do texto. Como exemplo, <b>o que iremos fazer abaixo é importar para o nosso ambiente a maior parte das funcionalidades que iremos precisar durante o minicurso </b>.\n",
    "\n",
    "Para executar clique no ícone do lado esquerdo referente a 'Executar célula' ou clique dentro dele (onde há texto/código) e aperte Control + Enter.\n",
    "\n",
    "\n"
   ]
  },
  {
   "cell_type": "code",
   "execution_count": null,
   "metadata": {
    "executionInfo": {
     "elapsed": 330,
     "status": "ok",
     "timestamp": 1637188210444,
     "user": {
      "displayName": "Marcos Jacinto",
      "photoUrl": "https://lh3.googleusercontent.com/a-/AOh14GgbcVTAhRu9oGb5IKipaiU_8kupX4M204C8_T4b=s64",
      "userId": "07933679891367927601"
     },
     "user_tz": 180
    },
    "id": "TTG-eLMoB84D"
   },
   "outputs": [],
   "source": [
    "from __future__ import print_function\n",
    "from ipywidgets import interact, interactive, fixed, interact_manual\n",
    "import ipywidgets as widgets\n",
    "from IPython.display import display\n",
    "import time"
   ]
  },
  {
   "cell_type": "code",
   "execution_count": null,
   "metadata": {
    "colab": {
     "base_uri": "https://localhost:8080/"
    },
    "executionInfo": {
     "elapsed": 285,
     "status": "ok",
     "timestamp": 1637189010552,
     "user": {
      "displayName": "Marcos Jacinto",
      "photoUrl": "https://lh3.googleusercontent.com/a-/AOh14GgbcVTAhRu9oGb5IKipaiU_8kupX4M204C8_T4b=s64",
      "userId": "07933679891367927601"
     },
     "user_tz": 180
    },
    "id": "RSUKvj2v4wpI",
    "outputId": "a90d585b-15f3-4749-822c-98468dcc82dd"
   },
   "outputs": [],
   "source": [
    "import tensorflow as tf\n",
    "# tf.compat.v1.disable_v2_behavior() # REMOVE FOR COURSE\n",
    "from tensorflow.keras.layers import Dense, Dropout\n",
    "from tensorflow.keras.models import Sequential\n",
    "\n",
    "import numpy as np\n",
    "import pandas as pd\n",
    "import matplotlib.pyplot as plt\n",
    "import missingno as msno\n",
    "import seaborn as sns\n",
    "import plotly.express as px\n",
    "\n",
    "from sklearn.model_selection import train_test_split\n",
    "from sklearn import preprocessing\n",
    "from sklearn.metrics import classification_report\n",
    "from matplotlib.colors import ListedColormap\n",
    "from sklearn.metrics import confusion_matrix\n",
    "\n",
    "seed = np.random.seed(42)"
   ]
  },
  {
   "cell_type": "markdown",
   "metadata": {
    "id": "LmGOvK3Naxre"
   },
   "source": [
    "## Como os Dados são vistos pelo computador?\n",
    "\n",
    "Conhecer os dados e suas representações é essencial para quem deseja trabalhar com Machine Learning. Entender detalhes sobre os mesmos nos permite identificar se os dados podem ou não serem utilizados junto com algum modelo de Machine Learning, ou, caso necessário, entender o processamento que seria necessário para adequar os dados ao formato necessário.\n",
    "\n",
    "Dentro do contexto de Machine Learning, iremos trabalhar com dados estruturados ou não-estruturados. \n",
    "\n",
    "\n",
    "> Os dados estruturados são organizados e representados como uma estrutura rígida, pensada previamente. Um exemplo são os próprios arquivos LAS, padrão da indústria para registrar dados de poços, que contém uma estrutura rígida onde cada curva é previamente planejada. \n",
    "\n",
    "> Os dados não estruturados não possuem uma estrutura bem definida, podendo ser flexíveis ou dinâmicos em sua estrutra. Um exemplo de dado não estruturado é um documento de texto. Não sabemos previamente quantas linhas, caracteres e páginas um texto terá, por exemplo.\n",
    "\n",
    "Trabalhar com dados estruturados é geralmente mais fácil, devido a sua estrutura bem definida e conhecida. Vejamos um pouco mais sobre dados abaixo.\n"
   ]
  },
  {
   "cell_type": "markdown",
   "metadata": {
    "id": "qXFFNpEIgSm9"
   },
   "source": [
    "### Matrizes\n",
    "\n",
    "Uma matriz é um exemplo de dado estruturado e pode ser entendida como uma tabela que contém um certo número de linhas (m) e um certo número de colunas (n), em que cada termo da matriz pode ser representado pela notação $ A_{i,j}$, onde i representa o número da linha e j o número da coluna. Abaixo temos uma representação genérica de uma matriz.\n",
    "\n",
    "\\begin{bmatrix}\n",
    "A_{1,1} & A_{1,2} & ... & A_{1,n} \\\\\n",
    "A_{2,1} & A_{2,2} & ... & A_{1,n} \\\\\n",
    "... & ... & ... &... \\\\\n",
    "A_{m,1} & A_{m,2} & ... & A_{m,n}\n",
    "\\end{bmatrix}\n",
    "\n",
    "No nosso contexto, iremos usualmente trabalhar com dados que podem ser representados como uma matriz, são as tabelas usuais, a exemplo da representação de dados de curvas de geofísica de poço obtidos a partir de um arquivo LAS, ou ainda dados de geoquímica, dentre outras possibilidades.\n",
    "\n",
    "Vejamos também abaixo uma matriz gerada aleatoriamente."
   ]
  },
  {
   "cell_type": "code",
   "execution_count": null,
   "metadata": {
    "colab": {
     "base_uri": "https://localhost:8080/"
    },
    "executionInfo": {
     "elapsed": 6223,
     "status": "ok",
     "timestamp": 1621463436664,
     "user": {
      "displayName": "Marcos Jacinto",
      "photoUrl": "https://lh3.googleusercontent.com/a-/AOh14GgbcVTAhRu9oGb5IKipaiU_8kupX4M204C8_T4b=s64",
      "userId": "07933679891367927601"
     },
     "user_tz": 180
    },
    "id": "TDuXospPEYeA",
    "outputId": "26d289ba-28eb-4f39-b8eb-766a5e86ab9e"
   },
   "outputs": [],
   "source": [
    "matriz = np.random.randint(0, 100, size = (20, 3))\n",
    "print(matriz)"
   ]
  },
  {
   "cell_type": "markdown",
   "metadata": {
    "id": "Q0_P0N7yRgBZ"
   },
   "source": [
    "Vamos representar essa matriz como uma tabela, em um formato que estamos habituados, em que cada coluna da matriz representa uma variável, por exemplo."
   ]
  },
  {
   "cell_type": "code",
   "execution_count": null,
   "metadata": {
    "colab": {
     "base_uri": "https://localhost:8080/",
     "height": 662
    },
    "executionInfo": {
     "elapsed": 6219,
     "status": "ok",
     "timestamp": 1621463436665,
     "user": {
      "displayName": "Marcos Jacinto",
      "photoUrl": "https://lh3.googleusercontent.com/a-/AOh14GgbcVTAhRu9oGb5IKipaiU_8kupX4M204C8_T4b=s64",
      "userId": "07933679891367927601"
     },
     "user_tz": 180
    },
    "id": "I1EOvuCRmuwH",
    "outputId": "e68792c4-77c5-480b-c27d-0898413612b8"
   },
   "outputs": [],
   "source": [
    "pd.DataFrame(matriz, columns = ['Variável 1', 'Variável 2', 'Variável 3'])"
   ]
  },
  {
   "cell_type": "markdown",
   "metadata": {
    "id": "buDVb3GXgKB2"
   },
   "source": [
    "### Imagens\n",
    "\n",
    "Imagens podem ser consideradas como dados não estruturados, e seu entendimento é importante no ramo das geociências, pois podemos eventualmente trabalhar com seções sísmicas ou imagens de satélite, por exemplo. \n",
    "\n",
    "As imagens são formadas por matrizes, onde cada elemento da matriz representa o valor do pixel da imagem.  Se a imagem estiver em preto e branco, uma única matriz é suficiente para descrever os tons de cinza da imagem. Caso a imagem esteja em RGB, serão necessários três matrizes, em que a primeira descreva os valores no canal Red, a segunda, os valores no canal Green, e a terceira, no canal Blue.\n",
    "\n",
    "Vejamos abaixo um exemplo de uma imagem aleatória, em que foram geradas três matrizes para descrevê-la, configurando uma imagem com os canais RGB, por exemplo."
   ]
  },
  {
   "cell_type": "code",
   "execution_count": null,
   "metadata": {
    "id": "w9T8naLxa_eW"
   },
   "outputs": [],
   "source": [
    "imagem = np.random.randint(0, 255, size = (12, 12, 3))\n",
    "imagem[..., 0]"
   ]
  },
  {
   "cell_type": "markdown",
   "metadata": {
    "id": "XR2oG1BkXwEx"
   },
   "source": [
    "Vejamos agora cada canal representado separadamente, e, por fim, a imagem completa, resultado dos três canais."
   ]
  },
  {
   "cell_type": "code",
   "execution_count": null,
   "metadata": {
    "colab": {
     "base_uri": "https://localhost:8080/",
     "height": 785
    },
    "executionInfo": {
     "elapsed": 5171,
     "status": "error",
     "timestamp": 1621463437697,
     "user": {
      "displayName": "Marcos Jacinto",
      "photoUrl": "https://lh3.googleusercontent.com/a-/AOh14GgbcVTAhRu9oGb5IKipaiU_8kupX4M204C8_T4b=s64",
      "userId": "07933679891367927601"
     },
     "user_tz": 180
    },
    "id": "tGh9dlzybNmv",
    "outputId": "7eae4d44-a816-4e96-ad0e-0db43e5f5cc6"
   },
   "outputs": [],
   "source": [
    "fig, ax = plt.subplots(1, 4, figsize = (30, 10), sharey = True)\n",
    "\n",
    "ax[0].imshow(imagem[..., 0], cmap = 'gray') # Primeiro canal da imagem\n",
    "ax[0].set_title('Primeiro Canal')\n",
    "ax[1].imshow(imagem[..., 1], cmap = 'gray') # Segundo canal da imagem\n",
    "ax[1].set_title('Segundo Canal')\n",
    "ax[2].imshow(imagem[..., 2], cmap = 'gray') # Terceiro canal da imagem\n",
    "ax[2].set_title('Terceiro Canal')\n",
    "ax[3].imshow(imagem) # Imagem completa com todos os canais\n",
    "ax[3].set_title('Imagem Completa');\n",
    "\n",
    "for (j,i),label in np.ndenumerate(imagem[..., 0]):\n",
    "    ax[0].text(i, j, label, ha='center', va='center')\n",
    "\n",
    "for (j,i),label in np.ndenumerate(imagem[..., 1]):\n",
    "    ax[1].text(i, j, label, ha='center', va='center')\n",
    "\n",
    "for (j,i),label in np.ndenumerate(imagem[..., 2]):\n",
    "    ax[2].text(i, j, label, ha='center', va='center')\n",
    "    \n",
    "fig.tight_layout()"
   ]
  },
  {
   "cell_type": "markdown",
   "metadata": {
    "id": "PXBHRha2X8vl"
   },
   "source": [
    "Caso trabalhemos com uma seção sísmica, por exemplo, cada pixel na imagem vai representar o valor da amplitude da onda. Se gerarmos atributos, cada pixel irá representar aquele dado transformado. Se gerarmos cinco atributos, por exemplo, serão necessárias 6 matrizes para descrever a seção e os demais atributos."
   ]
  },
  {
   "cell_type": "markdown",
   "metadata": {
    "id": "dO5LeuPpo2Rz"
   },
   "source": [
    "## Preparação dos Dados\n",
    "\n",
    "**A qualidade do seu modelo preditivo irá depender não só do tipo de abordagem (algoritmo) que você escolheu, mas principalmente da qualidade do seus dados.** Assim, uma fase extremamente importante é a preparação dos dados, que pode ser subdividida em diversas subetapas, a exemplo: exploração/visualização dos dados, limpeza de dados, criação de novas features/variáveis, normalização dos dados, e estratégias de separação de teste e treino. Essas etapas serão discutidas adiantes, mas antes vamos fazer uma breve reflexão sobre a fase geral de preparação de dados.\n",
    "\n",
    "\n",
    "Um exemplo, fora das geociências, sobre a importância da fase de preparação de dados está em AIs que discriminam pessoas com base em sua renda ou ainda em sua cor de pele. [Um caso](https://www.technologyreview.com/2019/01/21/137783/algorithms-criminal-justice-ai/), por exemplo, pode ser citado através dos controversos algoritmos de avaliação de risco criminal aplicados nos EUA.\n",
    "\n",
    "> \"As ferramentas de avaliação de risco são projetadas para fazer uma coisa: tomar os detalhes do perfil de um réu e cuspir uma pontuação de reincidência - um único número estimando a probabilidade de que ele ou ela reincidirá. Um juiz então leva em conta essa pontuação em uma quantidade inumerável de decisões que podem determinar que tipo de serviços de reabilitação determinados réus devem receber, se eles devem ser mantidos na prisão antes do julgamento e quão severas suas sentenças devem ser. Uma pontuação baixa abre caminho para um destino mais amável. Uma pontuação alta faz exatamente o oposto.\"\n",
    "\n",
    "> [...] algoritmos de aprendizado de máquina usam estatísticas para encontrar padrões nos dados. Portanto, se você alimentá-lo com dados históricos de crimes, ele selecionará os padrões associados ao crime. Mas esses padrões são correlações estatísticas - nem de longe o mesmo que causações. Se um algoritmo descobrir, por exemplo, que a baixa renda está correlacionada com a alta reincidência, não ficaria sabendo se a baixa renda realmente causou o crime. Mas é exatamente isso que as ferramentas de avaliação de risco fazem: elas transformam percepções correlativas em mecanismos de pontuação causal.\n",
    "\n",
    "E nas geociências que tipo de erros podem ser gerados por uma fase de preparação dos dados inadequada?\n",
    "\n",
    "[Outro link sobre esse tipo de assunto, caso queiram saber mais](https://www.technologyreview.com/2020/07/17/1005396/predictive-policing-algorithms-racist-dismantled-machine-learning-bias-criminal-justice/)\n",
    "\n",
    "Na célula abaixo, iremos realizar a leitura do nosso conjunto de dados, em seguida passaremos por diversas partes do workflow."
   ]
  },
  {
   "cell_type": "code",
   "execution_count": null,
   "metadata": {
    "executionInfo": {
     "elapsed": 8939,
     "status": "ok",
     "timestamp": 1637188247432,
     "user": {
      "displayName": "Marcos Jacinto",
      "photoUrl": "https://lh3.googleusercontent.com/a-/AOh14GgbcVTAhRu9oGb5IKipaiU_8kupX4M204C8_T4b=s64",
      "userId": "07933679891367927601"
     },
     "user_tz": 180
    },
    "id": "7djlzh07gErG"
   },
   "outputs": [],
   "source": [
    "caminho = 'https://github.com/marcosjacinto/MLIntroGeoscience/blob/master/data.zip?raw=true'\n",
    "dataset = pd.read_csv(caminho, compression='zip')"
   ]
  },
  {
   "cell_type": "markdown",
   "metadata": {
    "id": "6LwNjr83aMXv"
   },
   "source": [
    "A célula abaixo irá nos informar o número de poços diferentes no nosso conjunto de dados."
   ]
  },
  {
   "cell_type": "code",
   "execution_count": null,
   "metadata": {
    "colab": {
     "base_uri": "https://localhost:8080/"
    },
    "executionInfo": {
     "elapsed": 9527,
     "status": "ok",
     "timestamp": 1621463447638,
     "user": {
      "displayName": "Marcos Jacinto",
      "photoUrl": "https://lh3.googleusercontent.com/a-/AOh14GgbcVTAhRu9oGb5IKipaiU_8kupX4M204C8_T4b=s64",
      "userId": "07933679891367927601"
     },
     "user_tz": 180
    },
    "id": "YOF26FMlAljh",
    "outputId": "6db10fcc-7e6d-4274-ff61-23f7d88893eb"
   },
   "outputs": [],
   "source": [
    "numeroDePocos = len(list(np.unique(dataset.WELL)))\n",
    "print(f'Temos nesse dataset {numeroDePocos} poços diferentes')"
   ]
  },
  {
   "cell_type": "markdown",
   "metadata": {
    "id": "V936IT6Eo9RR"
   },
   "source": [
    "### Explorando e Visualizando os Dados\n",
    "\n",
    "Iniciaremos nosso worfklow observando as algumas características do dataset e das suas variáveis.\n",
    "\n",
    "O primeiro passo é observar quais são as variáveis presentes que podem nos auxiliar para montar nosso modelo preditivo.\n",
    "\n",
    "O dataset contém as seguintes informações:\n",
    "* WELL: nome do poço;\n",
    "* DEPTH_MD: profundidade medida;\n",
    "* X_LOC: coordenada UTM X; \n",
    "* Y_LOC: coordenada UTM Y;\n",
    "* Z_LOC: profundidade Z;\n",
    "* GROUP: grupo litoestratigráfico;\n",
    "* FORMATION: formação litoestratigráfica;\n",
    "\n",
    "As colunas a seguir, contidas no dataset, são referentes às curvas de geofísica de poço, dentre outras curvas:\n",
    "* BS: tamanho da broca;\n",
    "* CALI: caliper;\n",
    "* RDEP: resistividade profunda;\n",
    "* RHOB: densidade;\n",
    "* GR: raios gama;\n",
    "* SGR: raios gama espectral;\n",
    "* RMED: resistividade média;\n",
    "* ROP: taxa de penetração;\n",
    "* NPHI: porosidade neutrão;\n",
    "* PEF: fator de absorção fotoelétrico;\n",
    "* RSHA: resistividade rasa;\n",
    "* DTS: sônico (cisalhante)\n",
    "* DTC: sônico (compressional)\n",
    "\n",
    "Possui ainda colunas referentes a litologia, o que queremos predizer:\n",
    "* LITHOLOGY: tipo de rocha;\n",
    "* CONFIDENCE: confiança na interpretação dessa litologia (1: alta, 2: média, 3: baixa).\n",
    "\n",
    "A célula abaixo irá nos mostrar um exemplo de como estão as colunas no nosso dataset, e como está seu preenchimento."
   ]
  },
  {
   "cell_type": "code",
   "execution_count": null,
   "metadata": {
    "colab": {
     "base_uri": "https://localhost:8080/",
     "height": 309
    },
    "executionInfo": {
     "elapsed": 7906,
     "status": "ok",
     "timestamp": 1621463447639,
     "user": {
      "displayName": "Marcos Jacinto",
      "photoUrl": "https://lh3.googleusercontent.com/a-/AOh14GgbcVTAhRu9oGb5IKipaiU_8kupX4M204C8_T4b=s64",
      "userId": "07933679891367927601"
     },
     "user_tz": 180
    },
    "id": "lu1EYK33tfE-",
    "outputId": "5602ee07-fe01-4d04-ae69-736252283eb9"
   },
   "outputs": [],
   "source": [
    "dataset.sample(5)"
   ]
  },
  {
   "cell_type": "markdown",
   "metadata": {
    "id": "YYf1nZlA6wBc"
   },
   "source": [
    "É importante também ter uma noção básica da distribuição dos valores de cada variável. A célula abaixo nos mostrará alguns parâmetros estatísticos, onde:\n",
    "* count: contagem do número de registros dessa variável;\n",
    "* mean: valor médio;\n",
    "* std: desvio-padrão;\n",
    "* min: valor mínimo:\n",
    "* 25%: percentil 25;\n",
    "* 50%: percentil 50 ou mediana;\n",
    "* 75%: percentil 75;\n",
    "* max: valor máximo."
   ]
  },
  {
   "cell_type": "code",
   "execution_count": null,
   "metadata": {
    "colab": {
     "base_uri": "https://localhost:8080/",
     "height": 846
    },
    "executionInfo": {
     "elapsed": 8349,
     "status": "ok",
     "timestamp": 1621463448471,
     "user": {
      "displayName": "Marcos Jacinto",
      "photoUrl": "https://lh3.googleusercontent.com/a-/AOh14GgbcVTAhRu9oGb5IKipaiU_8kupX4M204C8_T4b=s64",
      "userId": "07933679891367927601"
     },
     "user_tz": 180
    },
    "id": "SsZ_KK3S66eH",
    "outputId": "bb3fb046-ffab-4b5b-9e26-e03e21f394a4"
   },
   "outputs": [],
   "source": [
    "dataset.describe().T"
   ]
  },
  {
   "cell_type": "markdown",
   "metadata": {
    "id": "2Tog4ZZqvoeI"
   },
   "source": [
    "Algo que devemos fazer é observar o comportamento dessas curvas nos poços. As células abaixo nos permitem visualizar os diferentes poços contidos no nosso dataset.\n",
    "\n",
    "Primeiramente, execute a célula abaixo para criar uma função que será utilizada pra visualizar os poços."
   ]
  },
  {
   "cell_type": "code",
   "execution_count": null,
   "metadata": {
    "id": "it1uyhoLkcr_"
   },
   "outputs": [],
   "source": [
    "from matplotlib.patches import Rectangle\n",
    "from mpl_toolkits.axes_grid1 import make_axes_locatable\n",
    "\n",
    "cmap = ListedColormap(['yellow', 'yellowgreen', 'forestgreen', 'springgreen', 'teal',\n",
    "                       'steelblue', 'darkslategray', 'paleturquoise', 'darkturquoise',\n",
    "                       'saddlebrown', 'grey', 'orangered'])\n",
    "\n",
    "def plotarPoco(dataFrame, numeroDoPoco):\n",
    "\n",
    "    nomeDoPoco = dataFrame.WELL.unique()[numeroDoPoco]\n",
    "\n",
    "    well = dataFrame[dataFrame.WELL == nomeDoPoco]\n",
    "\n",
    "    assert numeroDoPoco < len(dataFrame.WELL.unique()), f'Inserir número do poço entre 0 e {len(dataFrame.WELL.unique())}'\n",
    "\n",
    "    lithology_keys = {0: ['Sandstone', 'yellow'],\n",
    "                 1: ['Sandstone/Shale', 'yellowgreen'],\n",
    "                 2: ['Shale', 'forestgreen'],\n",
    "                 3: ['Marl', 'springgreen'],\n",
    "                 4: ['Dolomite', 'teal'],\n",
    "                 5: ['Limestone', 'steelblue'],\n",
    "                 6: ['Chalk', 'darkslategray'],\n",
    "                 7: ['Halite', 'paleturquoise'],\n",
    "                 8: ['Anhydrite', 'darkturquoise'],\n",
    "                 9: ['Tuff', 'saddlebrown'],\n",
    "                 10: ['Coal', 'grey'],\n",
    "                 11: ['Basement', 'orangered']}\n",
    "\n",
    "    fig, ax = plt.subplots(1, 6, figsize = (30, 15), sharey = False)\n",
    "\n",
    "    ax[0].plot(well.CALI, well.DEPTH_MD, color = 'black',\n",
    "             label = 'Caliper')\n",
    "    ax[0].plot(well.BS, well.DEPTH_MD, color = 'red',\n",
    "           label = 'Diâmetro da Broca')\n",
    "    #ax[0].invert_yaxis()\n",
    "    ax[0].grid()\n",
    "    ax[0].set_title('Caliper')\n",
    "\n",
    "    ax[1].set_title('Gamma Ray')\n",
    "    ax[1].plot(well.GR, well.DEPTH_MD, color = 'green',\n",
    "           label = 'Gamma Ray', linewidth = '0.5')\n",
    "    ax[1].set_xlim(0, 150)\n",
    "    axtwin1 = ax[1].twiny()\n",
    "    axtwin1.plot(well.GR, well.DEPTH_MD, 'g--',\n",
    "           label = 'Gamma Ray', linewidth = 0.5)\n",
    "    axtwin1.set_xlim(150, 300)\n",
    "    ax[1].grid()\n",
    "    #ax[1].invert_yaxis()\n",
    "\n",
    "    ax[2].set_title('Resistividade')\n",
    "    ax[2].semilogx(well.RDEP, well.DEPTH_MD, color = 'r',\n",
    "           label = 'Res. Profunda', linewidth = '0.5')\n",
    "    ax[2].semilogx(well.RMED, well.DEPTH_MD, color = 'm',\n",
    "           label = 'Res. Média', linewidth = '0.5')\n",
    "    ax[2].semilogx(well.RSHA, well.DEPTH_MD, color = 'k',\n",
    "           label = 'Res. Rasa', linewidth = '0.5')\n",
    "    ax[2].set_xlim(0.2 , 2000)\n",
    "    #ax[2].set_xticks([0.2, 2, 20, 200, 2000])\n",
    "    ax[2].grid()\n",
    "    #ax[2].invert_yaxis()\n",
    "    ax[2].legend()\n",
    "\n",
    "    ax[3].set_title('Sônico')\n",
    "    ax[3].plot(well.DTC, well.DEPTH_MD, color = 'k',\n",
    "             label = 'Sônico', linewidth = '0.5')\n",
    "    ax[3].set_xlim(40,240)\n",
    "    ax[3].grid()\n",
    "    #ax[3].invert_yaxis()\n",
    "    ax[3].invert_xaxis()\n",
    "\n",
    "    ax[4].set_title('Densidade', color = 'r', fontsize = 12)\n",
    "    ax[4].plot(well.NPHI, well.DEPTH_MD,\n",
    "             label = 'Neutrão', color = 'b', linewidth = '0.5')\n",
    "    ax[4].tick_params(axis='x', labelcolor='b')\n",
    "    ax[4].set_xlim(-0.15, 0.45)\n",
    "    ax[4].set_xticks(np.linspace(-0.15,0.45,4))\n",
    "    ax[4].set_xlabel('Neutrão', color = 'b', fontsize = 12)\n",
    "    ax[4].invert_xaxis()\n",
    "    axtwin4 = ax[4].twiny()\n",
    "    axtwin4.plot(well.RHOB, well.DEPTH_MD,\n",
    "           label = 'Densidade', color = 'r', linewidth = '0.5')\n",
    "    axtwin4.tick_params(axis='x', labelcolor= 'r')\n",
    "    axtwin4.set_xlim(2, 3)\n",
    "    axtwin4.set_xticks(np.linspace(2,3,5))  \n",
    "    axtwin4.grid()\n",
    "    ax[4].grid()\n",
    "    #ax[4].invert_yaxis()\n",
    "\n",
    "    im = ax[5].imshow(np.array(well.LITHOLOGY).reshape(-1, 1), aspect = 'auto',\n",
    "               vmin = 0, vmax = 11, cmap = cmap,)\n",
    "              #  extent = [0, 1, well.DEPTH_MD.iloc[-1], well.DEPTH_MD.iloc[0]])\n",
    "    divider = make_axes_locatable(ax[5])\n",
    "    cax = divider.append_axes(\"right\", size=\"20%\", pad=0.05)\n",
    "    cbar=plt.colorbar(im, cax=cax, cmap = cmap)\n",
    "\n",
    "    cbar.set_label((16*' ').join(['SS', 'SS-Sh', 'Sh', \n",
    "                               ' Ml', 'Dm', 'LS', 'Chk ', \n",
    "                                ' Hl', 'Ann', 'Tuf', 'Coal', 'Bsmt']))\n",
    "    cbar.set_ticks(range(0,1)); cbar.set_ticklabels('')\n",
    "\n",
    "\n",
    "    #ax[5].legend()\n",
    "\n",
    "    ax[0].set_ylim(well.DEPTH_MD.iloc[0], well.DEPTH_MD.iloc[-1])\n",
    "    ax[1].set_ylim(well.DEPTH_MD.iloc[0], well.DEPTH_MD.iloc[-1])\n",
    "    ax[2].set_ylim(well.DEPTH_MD.iloc[0], well.DEPTH_MD.iloc[-1])\n",
    "    ax[3].set_ylim(well.DEPTH_MD.iloc[0], well.DEPTH_MD.iloc[-1])\n",
    "    ax[4].set_ylim(well.DEPTH_MD.iloc[0], well.DEPTH_MD.iloc[-1])\n",
    "    ax[5].set_xticks([])\n",
    "    ax[5].set_yticks([])\n",
    "\n",
    "    ax[0].invert_yaxis()\n",
    "    ax[1].invert_yaxis()\n",
    "    ax[2].invert_yaxis()\n",
    "    ax[3].invert_yaxis()\n",
    "    ax[4].invert_yaxis()\n",
    "    #ax[5].invert_yaxis()"
   ]
  },
  {
   "cell_type": "markdown",
   "metadata": {
    "id": "QkNPEcUIdlb8"
   },
   "source": [
    "Agora, execute a célula abaixo para escolher um número referente a um dos 96 poços E, em seguida, execute a próxima célula, para visualizar os dados do respectivo poço."
   ]
  },
  {
   "cell_type": "code",
   "execution_count": null,
   "metadata": {
    "colab": {
     "base_uri": "https://localhost:8080/",
     "height": 66,
     "referenced_widgets": [
      "9c8ebecdc6054fe4bd4370dc87047057",
      "c7e0613858ae498ca98ab6b191c352df",
      "3403d626de6f402ab9e944019f15ac46"
     ]
    },
    "executionInfo": {
     "elapsed": 5344,
     "status": "ok",
     "timestamp": 1621463448474,
     "user": {
      "displayName": "Marcos Jacinto",
      "photoUrl": "https://lh3.googleusercontent.com/a-/AOh14GgbcVTAhRu9oGb5IKipaiU_8kupX4M204C8_T4b=s64",
      "userId": "07933679891367927601"
     },
     "user_tz": 180
    },
    "id": "QLyxLhhap_R2",
    "outputId": "1213c124-0754-4dea-a5a3-3cacee4a7c01"
   },
   "outputs": [],
   "source": [
    "numeroDoPoco = widgets.IntSlider(min = 1, max = 96, step = 1,\n",
    "                                 description = 'Número do poço')\n",
    "print('Selecione abaixo o número do poço:')\n",
    "display(numeroDoPoco)"
   ]
  },
  {
   "cell_type": "code",
   "execution_count": null,
   "metadata": {
    "colab": {
     "base_uri": "https://localhost:8080/",
     "height": 860
    },
    "executionInfo": {
     "elapsed": 7010,
     "status": "ok",
     "timestamp": 1621463452515,
     "user": {
      "displayName": "Marcos Jacinto",
      "photoUrl": "https://lh3.googleusercontent.com/a-/AOh14GgbcVTAhRu9oGb5IKipaiU_8kupX4M204C8_T4b=s64",
      "userId": "07933679891367927601"
     },
     "user_tz": 180
    },
    "id": "S7Y11q2vlN7c",
    "outputId": "9ca6191d-bb93-427b-e750-9267d93d672b"
   },
   "outputs": [],
   "source": [
    "plotarPoco(dataset, numeroDoPoco.value - 1)"
   ]
  },
  {
   "cell_type": "markdown",
   "metadata": {
    "id": "75Cp4DFvdwsR"
   },
   "source": [
    "Execute a célula abaixo para observar a distribuição dos poços em 2D e 3D."
   ]
  },
  {
   "cell_type": "code",
   "execution_count": null,
   "metadata": {
    "colab": {
     "base_uri": "https://localhost:8080/",
     "height": 513
    },
    "executionInfo": {
     "elapsed": 16087,
     "status": "ok",
     "timestamp": 1621463462616,
     "user": {
      "displayName": "Marcos Jacinto",
      "photoUrl": "https://lh3.googleusercontent.com/a-/AOh14GgbcVTAhRu9oGb5IKipaiU_8kupX4M204C8_T4b=s64",
      "userId": "07933679891367927601"
     },
     "user_tz": 180
    },
    "id": "Ns1PgWUt55PC",
    "outputId": "2b03f19c-b70c-45cd-d6bb-66317fa5c384"
   },
   "outputs": [],
   "source": [
    "from mpl_toolkits.mplot3d import Axes3D\n",
    "\n",
    "fig,ax = plt.subplots(nrows = 1, ncols = 2, figsize = (14, 7))\n",
    "ax[1].remove()\n",
    "ax[1]=fig.add_subplot(1, 2, 2,projection='3d')\n",
    "\n",
    "ax[0].set_xlabel('X Coord.')\n",
    "ax[0].set_ylabel('Y Coord.')\n",
    "ax[0].set_title('Distribuição dos poços em mapa')\n",
    "ax[0].grid()\n",
    "\n",
    "ax[1].set_xlabel('X Coord.')\n",
    "ax[1].set_ylabel('Y Coord.')\n",
    "ax[1].set_zlabel('Depth')\n",
    "ax[1].set_title('Distribuição dos poços em 3D')\n",
    "ax[1].set_xticks(range(420000, 560000, 30000))\n",
    "\n",
    "for nomeDoPoco in dataset.WELL.unique():\n",
    "    well = dataset[dataset.WELL == nomeDoPoco]\n",
    "    ax[1].plot(well.X_LOC, well.Y_LOC, well.Z_LOC, color = 'black')\n",
    "    ax[0].plot(well.X_LOC, well.Y_LOC, 'kx')\n",
    "\n",
    "fig.tight_layout()"
   ]
  },
  {
   "cell_type": "markdown",
   "metadata": {
    "id": "s-Z_LOopd2xH"
   },
   "source": [
    "Devemos observar ainda quais as rochas existentes nos nossos poços e sua ocorrência relativa. A partir disso, é importante discutir quais problemas podem surgir devido a uma ocorrência baixa de um tipo de rocha, havendo também um alto número de ocorrências de outro(s) tipo(s) de rocha."
   ]
  },
  {
   "cell_type": "code",
   "execution_count": null,
   "metadata": {
    "colab": {
     "base_uri": "https://localhost:8080/",
     "height": 485
    },
    "executionInfo": {
     "elapsed": 15647,
     "status": "ok",
     "timestamp": 1621463463380,
     "user": {
      "displayName": "Marcos Jacinto",
      "photoUrl": "https://lh3.googleusercontent.com/a-/AOh14GgbcVTAhRu9oGb5IKipaiU_8kupX4M204C8_T4b=s64",
      "userId": "07933679891367927601"
     },
     "user_tz": 180
    },
    "id": "dMvsRqvYYEUS",
    "outputId": "71df2a6c-06f2-4527-9580-5e82d88d7a63"
   },
   "outputs": [],
   "source": [
    "lithology_keys = {\n",
    "    0: 'Sandstone',\n",
    "    1: 'Sandstone/Shale',\n",
    "    2: 'Shale',\n",
    "    3: 'Marl',\n",
    "    4: 'Dolomite',\n",
    "    5: 'Limestone',\n",
    "    6: 'Chalk',\n",
    "    7: 'Halite',\n",
    "    8: 'Anhydrite',\n",
    "    9: 'Tuff',\n",
    "    10: 'Coal',\n",
    "    11: 'Basement'\n",
    "}\n",
    "\n",
    "\n",
    "counts = dataset['LITHOLOGY'].value_counts()\n",
    "names = []\n",
    "percentage = []\n",
    "N = dataset['LITHOLOGY'].shape[0]\n",
    "for item in counts.iteritems():\n",
    "    names.append(lithology_keys[item[0]])\n",
    "    percentage.append(float(item[1])/N*100)\n",
    "fig, ax = plt.subplots(1, 1, figsize=(14, 7))\n",
    "ax.bar(x=np.arange(len(names)), height=percentage, color = 'k')\n",
    "ax.set_xticklabels(names, rotation=45)\n",
    "ax.set_xticks(np.arange(len(names)))\n",
    "ax.set_ylabel('Litologia em porcentagem');"
   ]
  },
  {
   "cell_type": "markdown",
   "metadata": {
    "id": "2m7PoyQqpmkS"
   },
   "source": [
    "### Criação de novas features/variáveis\n",
    "\n",
    "É interessante se perguntar se as variáveis que estão no nosso conjunto de dados são suficientes para modelar o nosso problema. Além disso, devemos levar em conta quais modelos iremos utilizar. Modelos de Deep Learning, possuem a capacidade de durante o treinamento \"extrair\" novas features automaticamente, isso é exemplificado por exemplo em redes neurais convolucionais. O link exemplifica um caso do que uma rede neural convolucional aplicada à previsão de números aprende durante o treinamento.\n",
    "\n",
    "[2D Visualization of a Convolutional Neural Network](https://www.cs.ryerson.ca/~aharley/vis/conv/flat.html)\n",
    "\n",
    "Modelos que não pertencem à classe de Deep Learning, por outro lado, não possuem a mesma capacidade, e, por consequência, se beneficiam bastante da chamada fase de <i>feature engineering</i>. Nessa fase é nosso papel gerar novas features/variáveis a partir do que já existe no nosso conjunto de dados atuais. Dentre os tipos de conhecimentos que podem nos ajudar nessa fase está o entendimento do próprio problema. Se estamos trabalhando com dados de poços, tipos de features novas que podem ser criadas podem ser similares ao que seria feito numa processo de interpretação petrofísica, por exemplo calculando valores de porosidade ou volume de folhelho.\n",
    "\n",
    "Por isso, é importante a participação de um geólogo ou geofísico no processo, pois o mesmo poderá identificar como obter novas features, e terá maior capacidade para criticar esse procedimento bem como os resultados obtidos.\n",
    "\n",
    "Outras features que podem gerados, por outro lado, podem depender de conhecimentos não necessariamente geológicos, mas matemáticos e/ou estatísticos, por exemplo. Isso justifica, por exemplo, a importância de demais profissionais envolvidos em projetos de Machine Learning. \n",
    "\n",
    "No exemplo abaixo, não iremos gerar uma variável resultante de uma interpretação petrofísica. Iremos criar uma <i>lag feature</i>. Não se preocupem muito com esse termo, basta entender que a partir da coluna de litologia iremos criar uma nova coluna que vai guardar qual foi a litologia anterior. Execute a célula abaixo para criar três colunas:\n",
    "\n",
    "\n",
    "1.   Lag feature guardando a litologia imediatamente anterior;\n",
    "2.   Lag feature guardando a décima litologia anterior;\n",
    "3.   Lag feature guardando a centésima litologia anterior.\n",
    "\n",
    "\n"
   ]
  },
  {
   "cell_type": "code",
   "execution_count": null,
   "metadata": {
    "id": "6mOwOB9EFiLq"
   },
   "outputs": [],
   "source": [
    "pocos = dataset.WELL.unique()\n",
    "\n",
    "dataset['LAG_LITO_1'] = -99\n",
    "dataset['LAG_LITO_10'] = -99\n",
    "dataset['LAG_LITO_100'] = -99\n",
    "\n",
    "for poco in pocos:\n",
    "    dataset.loc[dataset.loc[:, 'WELL'] == poco, 'LAG_LITO_1'] = dataset.loc[dataset.loc[:, 'WELL'] == poco, 'LITHOLOGY'].shift(1)\n",
    "    dataset.loc[dataset.loc[:, 'WELL'] == poco, 'LAG_LITO_10'] = dataset.loc[dataset.loc[:, 'WELL'] == poco, 'LITHOLOGY'].shift(10)\n",
    "    dataset.loc[dataset.loc[:, 'WELL'] == poco, 'LAG_LITO_100'] = dataset.loc[dataset.loc[:, 'WELL'] == poco, 'LITHOLOGY'].shift(100)"
   ]
  },
  {
   "cell_type": "markdown",
   "metadata": {
    "id": "TzmjVO3-kNd6"
   },
   "source": [
    "Vejamos agora como fica o nosso banco de dados:"
   ]
  },
  {
   "cell_type": "code",
   "execution_count": null,
   "metadata": {
    "colab": {
     "base_uri": "https://localhost:8080/",
     "height": 789
    },
    "executionInfo": {
     "elapsed": 52777,
     "status": "ok",
     "timestamp": 1621463502532,
     "user": {
      "displayName": "Marcos Jacinto",
      "photoUrl": "https://lh3.googleusercontent.com/a-/AOh14GgbcVTAhRu9oGb5IKipaiU_8kupX4M204C8_T4b=s64",
      "userId": "07933679891367927601"
     },
     "user_tz": 180
    },
    "id": "eWT4VZlqG-MC",
    "outputId": "6e645c90-7ee4-4aca-f357-f16083729c85"
   },
   "outputs": [],
   "source": [
    "dataset.sample(15)"
   ]
  },
  {
   "cell_type": "markdown",
   "metadata": {
    "id": "4TmoR7Qyo__z"
   },
   "source": [
    "### Limpeza dos Dados\n",
    "\n",
    "A limpeza de dados é uma das etapas mais importantes no workflow de um trabalho de Machine Learning. É importante ter qualidade nos dados, pois não importa o quão sofisticado e avançado seja o modelo que você vai criar, sem dados de qualidade, eles não serão realmente válidos ou mesmo irão retornar um reultado medíocre.\n",
    "\n",
    "---\n",
    "\n",
    "O tipo de limpeza de dados que será executada dependerá do problema que está sendo resolvido e tambem dos tipos de dados com que se está trabalhando. Para essa etapa também é fundamental compreender o máximo possível sobre os dados sendo utilizados. \n",
    "\n",
    "Alguns exemplos do que pode ser realizado nessa etapa são: \n",
    "\n",
    "1.   Tratamento de valores anômalos;\n",
    "2.   Checagem de validade dos dados;\n",
    "3.   Modificação do formato dos dados;\n",
    "4.   Padronização dos dados;\n",
    "5.   Tratamento de valores ausentes.\n",
    "\n",
    "Dentre outros."
   ]
  },
  {
   "cell_type": "markdown",
   "metadata": {
    "id": "vmnje95yeHEK"
   },
   "source": [
    "#### Apresentando os NaNs\n",
    "\n",
    "<center> \n",
    "Lixo entra, lixo sai.\n",
    "</center> \n",
    "\n",
    "<figure>\n",
    "<center>\n",
    "<img src='https://imgs.xkcd.com/comics/machine_learning.png' />\n",
    "<figcaption>Muita atenção com os dados que estão sendo utilizados [1]. </figcaption></center>\n",
    "</figure>\n",
    "\n",
    "O que é um NaN? Essa sigla significa **Not a Number**, e é usada para representar um valor número indefinido ou que não pode ser representado. A raiz quadrada de um número negativo ou uma divisão por zero, são exemplos de operações que retornariam *NaNs* como resultados.\n",
    "\n",
    "A exemplo de dados de poços, os NaNs podem aparecer no intervalo de profundidade que a ferramenta não realizou medidas ou mesmo quando a ferramenta geofísica falha e não registra um valor a uma dada profundidade. No arquivo LAS ocorre um valor nulo, geralmente representado pelo valor -999.25.\n",
    "\n",
    "No python ele em geral é representado por:\n",
    "\n",
    "```\n",
    "np.nan\n",
    "```\n",
    "\n",
    "Abaixo iremos exemplificar algumas situações relacionadas aos NaNs e em seguida sua importância dentro do contexto de Machine Learning.\n",
    "\n",
    "[[1] - Referência da figura](https://subscription.packtpub.com/book/application_development/9781788838535/1/ch01lvl1sec12/garbage-in-garbage-out)"
   ]
  },
  {
   "cell_type": "code",
   "execution_count": null,
   "metadata": {
    "colab": {
     "base_uri": "https://localhost:8080/"
    },
    "executionInfo": {
     "elapsed": 51300,
     "status": "ok",
     "timestamp": 1621463502534,
     "user": {
      "displayName": "Marcos Jacinto",
      "photoUrl": "https://lh3.googleusercontent.com/a-/AOh14GgbcVTAhRu9oGb5IKipaiU_8kupX4M204C8_T4b=s64",
      "userId": "07933679891367927601"
     },
     "user_tz": 180
    },
    "id": "dGb_wyoheFcO",
    "outputId": "11ed3fed-5ecb-4c77-b5df-64cacaca180b"
   },
   "outputs": [],
   "source": [
    "print('Realizando operações que resultam em NaN:')\n",
    "print(f'Ao calcular a raíz quadrada de -1, o valor retornado é: {np.sqrt(-1)}')\n",
    "print(f'Ao calcular 10 dividido por 0, o valor retornado é: {np.divide(10,0)}')"
   ]
  },
  {
   "cell_type": "markdown",
   "metadata": {
    "id": "Mo0uqk1b6iWw"
   },
   "source": [
    "Observem que um dos resultados retornou o valor 'inf', resultado de uma divisão por zero. Esse valor também irá prejudicar os modelos preditivos e deve ser evitado."
   ]
  },
  {
   "cell_type": "code",
   "execution_count": null,
   "metadata": {
    "colab": {
     "base_uri": "https://localhost:8080/"
    },
    "executionInfo": {
     "elapsed": 43158,
     "status": "ok",
     "timestamp": 1621463502534,
     "user": {
      "displayName": "Marcos Jacinto",
      "photoUrl": "https://lh3.googleusercontent.com/a-/AOh14GgbcVTAhRu9oGb5IKipaiU_8kupX4M204C8_T4b=s64",
      "userId": "07933679891367927601"
     },
     "user_tz": 180
    },
    "id": "x3jMvBxveLjn",
    "outputId": "bc49cdbd-6214-4511-8d08-981e94e3fdac"
   },
   "outputs": [],
   "source": [
    "exemplo = np.array([1, 2, 3, 4, 5])\n",
    "print('Array de exemplo:')\n",
    "print(exemplo)"
   ]
  },
  {
   "cell_type": "code",
   "execution_count": null,
   "metadata": {
    "colab": {
     "base_uri": "https://localhost:8080/"
    },
    "executionInfo": {
     "elapsed": 42695,
     "status": "ok",
     "timestamp": 1621463502535,
     "user": {
      "displayName": "Marcos Jacinto",
      "photoUrl": "https://lh3.googleusercontent.com/a-/AOh14GgbcVTAhRu9oGb5IKipaiU_8kupX4M204C8_T4b=s64",
      "userId": "07933679891367927601"
     },
     "user_tz": 180
    },
    "id": "89uG9eM4eaYH",
    "outputId": "b7ddba8f-bb49-4e18-9685-1ab4ee13ae2d"
   },
   "outputs": [],
   "source": [
    "print('Somando cada elemento da array com um NaN:')\n",
    "print(f'{exemplo} + {np.nan} = {exemplo + np.nan}')"
   ]
  },
  {
   "cell_type": "code",
   "execution_count": null,
   "metadata": {
    "colab": {
     "base_uri": "https://localhost:8080/"
    },
    "executionInfo": {
     "elapsed": 42155,
     "status": "ok",
     "timestamp": 1621463502536,
     "user": {
      "displayName": "Marcos Jacinto",
      "photoUrl": "https://lh3.googleusercontent.com/a-/AOh14GgbcVTAhRu9oGb5IKipaiU_8kupX4M204C8_T4b=s64",
      "userId": "07933679891367927601"
     },
     "user_tz": 180
    },
    "id": "twM7bESuerB-",
    "outputId": "2724034a-2580-4535-a83a-bb780750e038"
   },
   "outputs": [],
   "source": [
    "print('Multiplicando cada elemento da array por um NaN:')\n",
    "print(f'{exemplo} * {np.nan} = {exemplo * np.nan}')"
   ]
  },
  {
   "cell_type": "markdown",
   "metadata": {
    "id": "vC1M-u1IfL_R"
   },
   "source": [
    "Como os NaNs não são exatamente números, cálculos que os envolvam geram também NaNs. Observem a partir dos exemplos acima que os NaNs ao interagirem com outros números (somar, multiplicar ou qualquer outra operação) irão ser 'propagados'. \n",
    "\n",
    "Para Machine Learning, que depende inteiramente de operações matemáticas, os NaNs são indesejáveis. Algumas possibilidades de como resolver a presença de NaNs na base de dados são:\n",
    "- Eliminar as observações que contém NaNs;\n",
    "- Substituir NaNs por algum valor como zero, mediana, média, o valor imediatamente anterior, ou o valor mais comum, por exemplo.\n",
    "\n",
    "#### Observando os NaNs dentro da base de dados\n",
    "\n",
    "Primeiro vamos observar a cobertura de dados na base de treinos. Abaixo, veremos o nome da coluna representando uma variável diferente, e onde há a presença de dados veremos um preenchimento cinza. Por outro lado, onde há ausência de dados, ou seja, ocorrem NaNs, veremos branco no lugar do cinza.\n",
    "\n"
   ]
  },
  {
   "cell_type": "code",
   "execution_count": null,
   "metadata": {
    "colab": {
     "base_uri": "https://localhost:8080/",
     "height": 742
    },
    "executionInfo": {
     "elapsed": 42090,
     "status": "ok",
     "timestamp": 1621463506612,
     "user": {
      "displayName": "Marcos Jacinto",
      "photoUrl": "https://lh3.googleusercontent.com/a-/AOh14GgbcVTAhRu9oGb5IKipaiU_8kupX4M204C8_T4b=s64",
      "userId": "07933679891367927601"
     },
     "user_tz": 180
    },
    "id": "ELNps5Oq6qDP",
    "outputId": "c703e70b-0060-4845-d1d4-523dcafbdd50"
   },
   "outputs": [],
   "source": [
    "msno.bar(dataset);"
   ]
  },
  {
   "cell_type": "code",
   "execution_count": null,
   "metadata": {
    "colab": {
     "base_uri": "https://localhost:8080/",
     "height": 686
    },
    "executionInfo": {
     "elapsed": 52262,
     "status": "ok",
     "timestamp": 1621463517475,
     "user": {
      "displayName": "Marcos Jacinto",
      "photoUrl": "https://lh3.googleusercontent.com/a-/AOh14GgbcVTAhRu9oGb5IKipaiU_8kupX4M204C8_T4b=s64",
      "userId": "07933679891367927601"
     },
     "user_tz": 180
    },
    "id": "aJJ81_JyX5Lq",
    "outputId": "375ce6ac-00ab-4973-f7f4-0f26986234c3"
   },
   "outputs": [],
   "source": [
    "msno.matrix(dataset);"
   ]
  },
  {
   "cell_type": "markdown",
   "metadata": {
    "id": "SyEdjnsRrdMN"
   },
   "source": [
    "#### Tratando os NaNs\n",
    "\n",
    "Uma vez que observamos a presença e a distribuição de NaNs na base de dados, temos algumas perguntas a fazer:\n",
    "\n",
    "1. Quais colunas (variáveis) iremos utilizar passar os nossos modelos realizarem as predições?\n",
    "2. Das colunas que escolhemos iremos eliminar as observações que contêm ausência de informação (NaN) ou iremos preencher com algum valor?\n",
    "3. Se escolhermos eliminar as observações com NaNs, como fica a distribuição de classes? Todas as classes estão presentes ainda ou alguma foi eliminada?\n",
    "\n",
    "Então, baseando-se no que discutimos até agora. Quais colunas vocês usariam?"
   ]
  },
  {
   "cell_type": "code",
   "execution_count": null,
   "metadata": {
    "id": "cx_Cin6D7sqY"
   },
   "outputs": [],
   "source": [
    "datasetLimpo = dataset.drop(\n",
    "    columns = [\n",
    "        'SGR', 'DTS', 'DCAL', 'MUDWEIGHT', 'RMIC',\n",
    "        'ROPA', 'RXO', 'RSHA', 'ROP', 'BS', 'PEF'\n",
    "    ]\n",
    ")"
   ]
  },
  {
   "cell_type": "markdown",
   "metadata": {
    "id": "uen73rbOC5ox"
   },
   "source": [
    "Vamos eliminar também colunas que não pretendemos utilizar durante o treinamento."
   ]
  },
  {
   "cell_type": "code",
   "execution_count": null,
   "metadata": {
    "id": "ZJZ-LXpduCEB"
   },
   "outputs": [],
   "source": [
    "datasetLimpo = datasetLimpo.drop(columns = ['GROUP', 'FORMATION'])\n",
    "datasetLimpo = datasetLimpo.drop(columns = ['X_LOC', 'Y_LOC', 'Z_LOC', 'CONFIDENCE'])"
   ]
  },
  {
   "cell_type": "markdown",
   "metadata": {
    "id": "_Zg9dI_00POh"
   },
   "source": [
    "Veja o efeito disso no nosso conjunto de dados:"
   ]
  },
  {
   "cell_type": "code",
   "execution_count": null,
   "metadata": {
    "cellView": "both",
    "colab": {
     "base_uri": "https://localhost:8080/",
     "height": 509
    },
    "executionInfo": {
     "elapsed": 1058,
     "status": "ok",
     "timestamp": 1621463636933,
     "user": {
      "displayName": "Marcos Jacinto",
      "photoUrl": "https://lh3.googleusercontent.com/a-/AOh14GgbcVTAhRu9oGb5IKipaiU_8kupX4M204C8_T4b=s64",
      "userId": "07933679891367927601"
     },
     "user_tz": 180
    },
    "id": "zIyTTJmAvgSy",
    "outputId": "e7401f32-5c05-450b-ed38-3c0aa3adc9bc"
   },
   "outputs": [],
   "source": [
    "datasetLimpo.sample(15)"
   ]
  },
  {
   "cell_type": "markdown",
   "metadata": {
    "id": "NLLDeludKwdE"
   },
   "source": [
    "Vamos tratar os NaNs que surgiram com a criação das lag features referentes à litologia, de um modo diferente através de uma técnica chamada one-hot encoding.\n",
    "\n",
    "Imagine a seguinte representação das litologias através de números:\n",
    "\n",
    "\\begin{bmatrix}\n",
    "0 \\\\ \n",
    "1 \\\\\n",
    "2 \\\\\n",
    "2 \\\\\n",
    "1\n",
    "\\end{bmatrix}\n",
    "\n",
    "Onde 0 representa a primeira litologia, 1 a segunda litologia, e 2 a terceira litologia. Através de one-hot encoding transformamos o vetor acima em uma matriz, cuja coluna agora representa a litologia, o 0 representa ausência e 1 indica presença. Veja que não perdemos nenhuma das informações acima, apenas mudamos como representá-las:\n",
    "\n",
    "\\begin{bmatrix}\n",
    "1 & 0 & 0 \\\\ \n",
    "0 & 1 & 0 \\\\\n",
    "0 & 0 & 1 \\\\\n",
    "0 & 0 & 1 \\\\\n",
    "0 & 1 & 0\n",
    "\\end{bmatrix}\n",
    "\n",
    "Imagine agora a presença de um NaN na coluna de litologias:\n",
    "\n",
    "\\begin{bmatrix}\n",
    "0 \\\\ \n",
    "1 \\\\\n",
    "2 \\\\\n",
    "NaN \\\\\n",
    "1\n",
    "\\end{bmatrix}\n",
    "\n",
    "Transformando com one-hot encoding eliminamos-o:\n",
    "\n",
    "\n",
    "\\begin{bmatrix}\n",
    "1 & 0 & 0 \\\\ \n",
    "0 & 1 & 0 \\\\\n",
    "0 & 0 & 1 \\\\\n",
    "0 & 0 & 0 \\\\\n",
    "0 & 1 & 0\n",
    "\\end{bmatrix}\n",
    "\n",
    "Execute a célula abaixo para realizar essa transformação, e depois veja como ficou o nosso dataset.\n"
   ]
  },
  {
   "cell_type": "code",
   "execution_count": null,
   "metadata": {
    "colab": {
     "base_uri": "https://localhost:8080/",
     "height": 633
    },
    "executionInfo": {
     "elapsed": 1250,
     "status": "ok",
     "timestamp": 1621463726622,
     "user": {
      "displayName": "Marcos Jacinto",
      "photoUrl": "https://lh3.googleusercontent.com/a-/AOh14GgbcVTAhRu9oGb5IKipaiU_8kupX4M204C8_T4b=s64",
      "userId": "07933679891367927601"
     },
     "user_tz": 180
    },
    "id": "cRND84dZK3tE",
    "outputId": "6d4471a4-2992-4959-e8db-6d75dc3ee6bd"
   },
   "outputs": [],
   "source": [
    "dataset = pd.get_dummies(datasetLimpo, columns = ['LAG_LITO_1', 'LAG_LITO_10', 'LAG_LITO_100'])\n",
    "dataset.sample(15)"
   ]
  },
  {
   "cell_type": "markdown",
   "metadata": {
    "id": "tBCQdJsZoOFG"
   },
   "source": [
    "Vejamos agora o nosso dataset, como se encontra:"
   ]
  },
  {
   "cell_type": "code",
   "execution_count": null,
   "metadata": {
    "colab": {
     "base_uri": "https://localhost:8080/",
     "height": 717
    },
    "executionInfo": {
     "elapsed": 13976,
     "status": "ok",
     "timestamp": 1621463751396,
     "user": {
      "displayName": "Marcos Jacinto",
      "photoUrl": "https://lh3.googleusercontent.com/a-/AOh14GgbcVTAhRu9oGb5IKipaiU_8kupX4M204C8_T4b=s64",
      "userId": "07933679891367927601"
     },
     "user_tz": 180
    },
    "id": "OToScWJNLYwq",
    "outputId": "9e124dbd-dc1a-46ad-85c5-4362b8c0a4e2"
   },
   "outputs": [],
   "source": [
    "msno.matrix(dataset);"
   ]
  },
  {
   "cell_type": "markdown",
   "metadata": {
    "id": "rRgWvPPboXEF"
   },
   "source": [
    "Iremos tratar o restante dos NaNs eliminando as linhas que contém algum NaN."
   ]
  },
  {
   "cell_type": "code",
   "execution_count": null,
   "metadata": {
    "colab": {
     "base_uri": "https://localhost:8080/"
    },
    "executionInfo": {
     "elapsed": 1115,
     "status": "ok",
     "timestamp": 1621463776121,
     "user": {
      "displayName": "Marcos Jacinto",
      "photoUrl": "https://lh3.googleusercontent.com/a-/AOh14GgbcVTAhRu9oGb5IKipaiU_8kupX4M204C8_T4b=s64",
      "userId": "07933679891367927601"
     },
     "user_tz": 180
    },
    "id": "ncziySZ1uV_9",
    "outputId": "b8cb8cd2-1ca8-4625-b50f-5f3fa9cff8df"
   },
   "outputs": [],
   "source": [
    "tamanhoInicial = dataset.shape[0]\n",
    "finalDataset = dataset.dropna()\n",
    "tamanhoFinal = finalDataset.shape[0]\n",
    "num = len(list(np.unique(finalDataset.WELL)))\n",
    "\n",
    "print(f'Agora temos {num} poços.') \n",
    "print(f'O tamanho inicial de exemplos era de {tamanhoInicial} e agora temos {tamanhoFinal} exemplos.')\n",
    "print(f'Isso representa um redução de {100 - (100*tamanhoFinal/tamanhoInicial):.2f}%')"
   ]
  },
  {
   "cell_type": "markdown",
   "metadata": {
    "id": "YYXqL43moEY5"
   },
   "source": [
    "Iremos eliminar também o nome do poço, pois ele não nos fornece uma informação necessariamente importante para realizar a previsão das litologias."
   ]
  },
  {
   "cell_type": "code",
   "execution_count": null,
   "metadata": {
    "colab": {
     "base_uri": "https://localhost:8080/"
    },
    "executionInfo": {
     "elapsed": 721,
     "status": "ok",
     "timestamp": 1621463785294,
     "user": {
      "displayName": "Marcos Jacinto",
      "photoUrl": "https://lh3.googleusercontent.com/a-/AOh14GgbcVTAhRu9oGb5IKipaiU_8kupX4M204C8_T4b=s64",
      "userId": "07933679891367927601"
     },
     "user_tz": 180
    },
    "id": "484hlcJGhpIL",
    "outputId": "09d8a714-eb53-42d4-b4ac-8e7c323e81a0"
   },
   "outputs": [],
   "source": [
    "finalDataset.drop(columns = ['WELL'], inplace = True)"
   ]
  },
  {
   "cell_type": "markdown",
   "metadata": {
    "id": "zlL7L4GQEjOq"
   },
   "source": [
    "Feito isso, vamos verificar novamente como está a nossa base de dados e visualizar a ocorrência de NaNs na mesma."
   ]
  },
  {
   "cell_type": "code",
   "execution_count": null,
   "metadata": {
    "colab": {
     "base_uri": "https://localhost:8080/",
     "height": 717
    },
    "executionInfo": {
     "elapsed": 6427,
     "status": "ok",
     "timestamp": 1621463795282,
     "user": {
      "displayName": "Marcos Jacinto",
      "photoUrl": "https://lh3.googleusercontent.com/a-/AOh14GgbcVTAhRu9oGb5IKipaiU_8kupX4M204C8_T4b=s64",
      "userId": "07933679891367927601"
     },
     "user_tz": 180
    },
    "id": "tUokRTD4EriS",
    "outputId": "5f2b951f-852d-4b4e-8b77-4f62e57a8d26"
   },
   "outputs": [],
   "source": [
    "msno.matrix(finalDataset);"
   ]
  },
  {
   "cell_type": "markdown",
   "metadata": {
    "id": "H60IeLb3qHGC"
   },
   "source": [
    "### Separando em Teste e Treino\n",
    "\n",
    "Vejamos abaixo algumas estratégias que devemos considerar para podermos avaliar a performance dos modelos que iremos desenvolver.\n",
    "\n",
    "\n",
    "\n",
    "1.   <b>Estratégia 1</b>\n",
    "\n",
    "<center> \n",
    "A estratégia mais básica de separação, separar o dataset original no Treino e Teste.\n",
    "</center> \n",
    "\n",
    "<figure>\n",
    "<center>\n",
    "<img src='https://developers.google.com/machine-learning/crash-course/images/PartitionTwoSets.svg' />\n",
    "<img src='https://developers.google.com/machine-learning/crash-course/images/WorkflowWithTestSet.svg' />\n",
    "<figcaption> Avaliamos a performance no conjunto de teste, e escolhemos o melhor resultado em função disso [2, 3]. </figcaption></center>\n",
    "</figure>\n",
    "\n",
    "2.   <b>Estratégia 2</b>\n",
    "\n",
    "<center> \n",
    "Uma estratégia mais robusta, separar o dataset original no Teste, Validação e Teste.\n",
    "</center> \n",
    "\n",
    "<figure>\n",
    "<center>\n",
    "<img src='https://developers.google.com/machine-learning/crash-course/images/PartitionThreeSets.svg' />\n",
    "<img src='https://developers.google.com/machine-learning/crash-course/images/WorkflowWithValidationSet.svg' />\n",
    "<figcaption>Avaliamos a performance no conjunto de validação, e escolhemos o melhor resultado em função disso [2, 3]. </figcaption></center>\n",
    "</figure>\n",
    "\n",
    "É importante ressaltar que quando se trata de dados geológicos, alguns fatores poderiam ser considerados durante a separação. Por exemplo, poderíamos separar o conjunto de teste considerando todos os dados ou considerando os poços. No primeiro caso, aleatoriamente partes diferentes de poços seriam selecionadas para teste. No segundo caso, selecionaríamos aleatoriamente poços inteiros para testes. Porém, deve se ter certeza que durante a separação, tenhamos todos os tipos de litologias tanto no treino quanto no teste.\n",
    "\n",
    "[[2] - Referência da Figura](https://developers.google.com/machine-learning/crash-course/training-and-test-sets/splitting-data)\n",
    "\n",
    "[[3] - Referência da Figura](https://developers.google.com/machine-learning/crash-course/validation/another-partition)"
   ]
  },
  {
   "cell_type": "code",
   "execution_count": null,
   "metadata": {
    "id": "4ODKaid6u9F7"
   },
   "outputs": [],
   "source": [
    "from sklearn.model_selection import train_test_split\n",
    "\n",
    "treino, teste = train_test_split(finalDataset, test_size = 0.2, stratify = finalDataset.LITHOLOGY)\n",
    "\n",
    "# Explicar as diferentes estratégias\n",
    "target = ['LITHOLOGY']\n",
    "\n",
    "feature_names = treino.drop(columns = target).columns\n",
    "\n",
    "xtreino = np.array(treino.drop(columns = target))\n",
    "xteste = np.array(teste.drop(columns = target))\n",
    "ytreino = np.array(treino.loc[:, 'LITHOLOGY'])\n",
    "yteste = np.array(teste.loc[:, 'LITHOLOGY'])"
   ]
  },
  {
   "cell_type": "markdown",
   "metadata": {
    "id": "XMUOetGOzsW8"
   },
   "source": [
    "Executando as células acima nós criamos as seguintes separações:\n",
    "\n",
    "\n",
    "*   X Treino - Variáveis preditoras do conjunto de treino;\n",
    "*   Y Treino - Variável resposta (litologia) do conjunto de treino;\n",
    "*   X Teste - Variáveis preditoras do conjunto de teste;\n",
    "*   Y Teste - Variável resposta (litologia) do conjunto de teste;\n",
    "\n"
   ]
  },
  {
   "cell_type": "markdown",
   "metadata": {
    "id": "TxZkXJaSvviL"
   },
   "source": [
    "### Normalização dos dados\n",
    "\n",
    "Uma etapa importante é a normalização dos dados. Seu objetivo é adequar os valores dos dados a uma escala comum, porém sem distorcer as diferenças na amplitude dos valores. Isso é particularmente importante no aprendizado de redes neurais, as quais veremos no final desse minicurso.\n",
    "\n",
    "Abaixo iremos utilizar uma estratégia que vai normalizar os dados entre os valores 0 e 1, através do cálculo:\n",
    "\n",
    "<center> $ \\frac{Valor - Mínimo}{Máximo - Mínimo} $  </center>\n",
    "\n",
    "Esse cálculo é realizado para cada variável preditora, obtendo cada máximo e mínimo e depois transformando os dados usando a fórmula acima. Execute a célula abaixo para realizar essa etapa."
   ]
  },
  {
   "cell_type": "code",
   "execution_count": null,
   "metadata": {
    "executionInfo": {
     "elapsed": 320,
     "status": "ok",
     "timestamp": 1637188269654,
     "user": {
      "displayName": "Marcos Jacinto",
      "photoUrl": "https://lh3.googleusercontent.com/a-/AOh14GgbcVTAhRu9oGb5IKipaiU_8kupX4M204C8_T4b=s64",
      "userId": "07933679891367927601"
     },
     "user_tz": 180
    },
    "id": "9vinRXq2dO5d"
   },
   "outputs": [],
   "source": [
    "scaler = preprocessing.MinMaxScaler()\n",
    "\n",
    "scaler.fit(np.concatenate([xtreino]))\n",
    "\n",
    "xtreino = scaler.transform(xtreino)\n",
    "xteste = scaler.transform(xteste)"
   ]
  },
  {
   "cell_type": "markdown",
   "metadata": {
    "id": "fnkPx-ue_Jqu"
   },
   "source": [
    "## Treinando Diferentes Modelos\n",
    "\n",
    "Com os dados devidamente preparados, iremos agora para parte da modelagem, onde testaremos e compararemos alguns métodos de machine learning. A princípio executamos a célula abaixo que nos ajudará posteriormente para visualizar os resultados, e em seguida partiremos para criação dos modelos em si."
   ]
  },
  {
   "cell_type": "code",
   "execution_count": null,
   "metadata": {
    "executionInfo": {
     "elapsed": 393,
     "status": "ok",
     "timestamp": 1637188270456,
     "user": {
      "displayName": "Marcos Jacinto",
      "photoUrl": "https://lh3.googleusercontent.com/a-/AOh14GgbcVTAhRu9oGb5IKipaiU_8kupX4M204C8_T4b=s64",
      "userId": "07933679891367927601"
     },
     "user_tz": 180
    },
    "id": "K8-g4TC5_a41"
   },
   "outputs": [],
   "source": [
    "def plotarPredicao(numeroDoPoco, modelo, redeNeural = False):\n",
    "\n",
    "    fig, ax = plt.subplots(1, 3, figsize = (20, 15), sharey = False)\n",
    "\n",
    "    pocos = dataset.WELL.unique()\n",
    "    data = dataset.loc[dataset.WELL == pocos[numeroDoPoco], feature_names].copy()\n",
    "    x = scaler.transform(data)\n",
    "\n",
    "    mask = np.where((data.isnull().sum(axis = 1)) >= 1, True, False)\n",
    "\n",
    "    if redeNeural:\n",
    "        prediction = np.zeros((x.shape[0])) * np.nan\n",
    "        if prediction[~mask].shape[0] == 0:\n",
    "            print('Ao eliminar os NaNs, não restou nenhuma amostra do poço')\n",
    "        else:\n",
    "            prediction[~mask] = np.argmax(modelo.predict(x[~mask]), axis = 1)\n",
    "\n",
    "    else:\n",
    "        prediction = np.zeros((x.shape[0])) * np.nan\n",
    "        if prediction[~mask].shape[0] == 0:\n",
    "            print('Ao eliminar os NaNs, não restou nenhuma amostra do poço')\n",
    "        else: \n",
    "            prediction[~mask] = modelo.predict(x[~mask])\n",
    "\n",
    "    real = np.expand_dims(dataset.loc[dataset.WELL == pocos[numeroDoPoco], 'LITHOLOGY'].copy(), axis = 1)\n",
    "\n",
    "    ax[0].set_title('Gamma Ray')\n",
    "    ax[0].plot(data.GR, data.DEPTH_MD, color = 'green',\n",
    "           label = 'Gamma Ray', linewidth = '0.5')\n",
    "    ax[0].set_xlim(0, 150)\n",
    "    axtwin1 = ax[0].twiny()\n",
    "    axtwin1.plot(data.GR, data.DEPTH_MD, 'g--',\n",
    "           label = 'Gamma Ray', linewidth = 0.5)\n",
    "    axtwin1.set_xlim(150, 300)\n",
    "    ax[0].set_ylim(data.DEPTH_MD.iloc[0], data.DEPTH_MD.iloc[-1])\n",
    "    ax[0].grid(which = 'both')\n",
    "\n",
    "    ax[1].imshow(real, aspect = 'auto', cmap = cmap, vmin = 0, vmax = 11,\n",
    "               extent = [0, 1, data.DEPTH_MD.iloc[-1], data.DEPTH_MD.iloc[0]])\n",
    "    im = ax[2].imshow(prediction.reshape(-1, 1), aspect = 'auto', cmap = cmap,\n",
    "                    vmin = 0, vmax = 11,\n",
    "                    extent = [0, 1, 0, len(real)])\n",
    "    ax[2].set_yticks([])\n",
    "\n",
    "    divider = make_axes_locatable(ax[2])\n",
    "    cax = divider.append_axes(\"right\", size=\"20%\", pad=0.05)\n",
    "    cbar = plt.colorbar(im, cax=cax, cmap = cmap)\n",
    "\n",
    "    cbar.set_label((16*' ').join(['SS', 'SS-Sh', 'Sh', \n",
    "                                ' Ml', 'Dm', 'LS', 'Chk ', \n",
    "                                ' Hl', 'Ann', 'Tuf', 'Coal', 'Bsmt']))\n",
    "    cbar.set_ticks(range(0,1)); cbar.set_ticklabels('')\n",
    "\n",
    "    ax[1].set_title('Litologia Real')\n",
    "    ax[2].set_title('Litologia Prevista pelo Modelo')\n",
    "    ax[1].set_xticks([])\n",
    "    ax[2].set_xticks([])\n",
    "\n",
    "    ax[0].invert_yaxis()\n",
    "    \n",
    "  \n",
    "def plotarTeste(modelo, litologia, redeNeural = False):\n",
    "\n",
    "    fig, ax = plt.subplots(1, 2, figsize = (15, 15), sharey = True)\n",
    "\n",
    "    ypred = modelo.predict(xteste)\n",
    "    if redeNeural:\n",
    "        ypred = np.argmax(ypred, axis = 1)\n",
    "\n",
    "    ax[0].imshow(yteste[yteste == litologia].reshape(-1, 1), vmin = 0, vmax = 11, cmap = cmap,\n",
    "               aspect = 'auto', extent = [0, 1, 0, len(ypred[yteste == litologia])])\n",
    "\n",
    "    im = ax[1].imshow(ypred[yteste == litologia].reshape(-1, 1), vmin = 0, vmax = 11, cmap = cmap,\n",
    "               aspect = 'auto', extent = [0, 1, 0, len(ypred[yteste == litologia])])\n",
    "\n",
    "    divider = make_axes_locatable(ax[1])\n",
    "    cax = divider.append_axes(\"right\", size=\"20%\", pad=0.05)\n",
    "    cbar = plt.colorbar(im, cax=cax, cmap = cmap)\n",
    "\n",
    "    cbar.set_label((16*' ').join(['SS', 'SS-Sh', 'Sh', \n",
    "                                ' Ml', 'Dm', 'LS', 'Chk ', \n",
    "                                ' Hl', 'Ann', 'Tuf', 'Coal', 'Bsmt']))\n",
    "    cbar.set_ticks(range(0,1)); cbar.set_ticklabels('')\n",
    "\n",
    "    #ax[0].set_yticks([])\n",
    "    ax[1].set_xticks([])\n",
    "    ax[0].set_xticks([])\n",
    "    ax[0].set_title(f'{lithology_keys[litologia]} no Conjunto de Teste')\n",
    "    ax[1].set_title('Litologia Prevista pelo Modelo para o Teste');"
   ]
  },
  {
   "cell_type": "markdown",
   "metadata": {
    "id": "RpbNky8Ujken"
   },
   "source": [
    "### Classificador Fictício"
   ]
  },
  {
   "cell_type": "markdown",
   "metadata": {
    "id": "F5b27f1Ua7Hr"
   },
   "source": [
    "Um classificador fictício (ou [dummy classifier](https://scikit-learn.org/stable/modules/generated/sklearn.dummy.DummyClassifier.html)) é um tipo de classificador que utiliza regras simples para realizar previsões. As possiveis estratégias que esse classificador pode utilizar são:\n",
    "- Estratificado: gera previsões baseadas na distribuição de classes do conjunto de dados de treino;\n",
    "- Mais frequente: sempre prediz a classe que mais ocorre no conjunto de dados de treino;\n",
    "- Uniforme: gera previsões de forma aleatória.\n",
    "- Constante: o classificador sempre irá prever a mesma classe, escolhida pelo usuário.\n",
    "\n",
    "Ou seja, esse tipo de classificador não busca entender a relação entre as diversas variáveis com as classes que está tentando prever. Ele não deve ser utilizado para resolver problemas reais, e somente serve como uma linha base para comparações.\n",
    "\n",
    "Execute as células abaixo para treinarmos nosso classificador fictício.\n",
    "\n",
    "\n",
    "\n"
   ]
  },
  {
   "cell_type": "code",
   "execution_count": null,
   "metadata": {
    "id": "WoXxA-2O9pbY"
   },
   "outputs": [],
   "source": [
    "from sklearn.dummy import DummyClassifier"
   ]
  },
  {
   "cell_type": "markdown",
   "metadata": {
    "id": "aP302bDO35ow"
   },
   "source": [
    "Sugestão: tentar modificar o modo abaixo (na primeira linha) para alguma das estratégias abaixo:\n",
    "\n",
    "\n",
    "\n",
    "*   'most_frequent'\n",
    "*   'stratified'\n",
    "*   'uniform'\n",
    "\n"
   ]
  },
  {
   "cell_type": "code",
   "execution_count": null,
   "metadata": {
    "colab": {
     "base_uri": "https://localhost:8080/"
    },
    "executionInfo": {
     "elapsed": 792,
     "status": "ok",
     "timestamp": 1621464357341,
     "user": {
      "displayName": "Marcos Jacinto",
      "photoUrl": "https://lh3.googleusercontent.com/a-/AOh14GgbcVTAhRu9oGb5IKipaiU_8kupX4M204C8_T4b=s64",
      "userId": "07933679891367927601"
     },
     "user_tz": 180
    },
    "id": "h9Fyyzs-7nCN",
    "outputId": "1535593d-0b3b-40ea-e10a-11d4d3165447"
   },
   "outputs": [],
   "source": [
    "modo = 'most_frequent' #'most_frequent', 'stratified' ou 'uniform'\n",
    "\n",
    "dummy_model = DummyClassifier(strategy = modo)\n",
    "\n",
    "dummy_model.fit(xtreino, ytreino)"
   ]
  },
  {
   "cell_type": "markdown",
   "metadata": {
    "id": "t_kAUXmD4hf5"
   },
   "source": [
    "Após treinar a célula abaixo nos informará da acurácia do nosso modelo."
   ]
  },
  {
   "cell_type": "code",
   "execution_count": null,
   "metadata": {
    "colab": {
     "base_uri": "https://localhost:8080/"
    },
    "executionInfo": {
     "elapsed": 799,
     "status": "ok",
     "timestamp": 1621464362148,
     "user": {
      "displayName": "Marcos Jacinto",
      "photoUrl": "https://lh3.googleusercontent.com/a-/AOh14GgbcVTAhRu9oGb5IKipaiU_8kupX4M204C8_T4b=s64",
      "userId": "07933679891367927601"
     },
     "user_tz": 180
    },
    "id": "oTKfgssD8BiS",
    "outputId": "684e5056-2550-45c0-be1f-3ac6f9ec5a55"
   },
   "outputs": [],
   "source": [
    "score = dummy_model.score(xteste, yteste)\n",
    "print(f'O modelo treinado teve uma acurácia de {100*score:.2f}%')"
   ]
  },
  {
   "cell_type": "markdown",
   "metadata": {
    "id": "lemERDc24pUJ"
   },
   "source": [
    "As duas próximas células serão utilizadas para comparar as litologias reais nos poços com as previsões realizadas pelo modelo acima. Selecione um número entre 1 e 96 para ver o respectivo resultado para aquele poço."
   ]
  },
  {
   "cell_type": "code",
   "execution_count": null,
   "metadata": {
    "colab": {
     "base_uri": "https://localhost:8080/",
     "height": 66,
     "referenced_widgets": [
      "c3ad1aa7b7f9423d9b7c14a878a9fa03",
      "7b2f5616a6aa4897b10b3d2a4d179baf",
      "e2fdf54045304f569573ffbdbd735630"
     ]
    },
    "executionInfo": {
     "elapsed": 814,
     "status": "ok",
     "timestamp": 1621464404048,
     "user": {
      "displayName": "Marcos Jacinto",
      "photoUrl": "https://lh3.googleusercontent.com/a-/AOh14GgbcVTAhRu9oGb5IKipaiU_8kupX4M204C8_T4b=s64",
      "userId": "07933679891367927601"
     },
     "user_tz": 180
    },
    "id": "TKF13JQxvnfQ",
    "outputId": "e4b4d42c-9fec-49e0-d581-0565b80969b2"
   },
   "outputs": [],
   "source": [
    "numeroDoPocoPred = widgets.IntSlider(min = 1, max = 96, step = 1,\n",
    "                                 description = 'Número do poço')\n",
    "print('Selecione abaixo o número do poço a ser previsto:')\n",
    "display(numeroDoPocoPred)"
   ]
  },
  {
   "cell_type": "code",
   "execution_count": null,
   "metadata": {
    "colab": {
     "base_uri": "https://localhost:8080/",
     "height": 896
    },
    "executionInfo": {
     "elapsed": 4180,
     "status": "ok",
     "timestamp": 1621464410988,
     "user": {
      "displayName": "Marcos Jacinto",
      "photoUrl": "https://lh3.googleusercontent.com/a-/AOh14GgbcVTAhRu9oGb5IKipaiU_8kupX4M204C8_T4b=s64",
      "userId": "07933679891367927601"
     },
     "user_tz": 180
    },
    "id": "EadwRQVMvhHn",
    "outputId": "f1d71fec-b1f8-43c1-88eb-d35f7469b3c3"
   },
   "outputs": [],
   "source": [
    "plotarPredicao(numeroDoPocoPred.value - 1, dummy_model)"
   ]
  },
  {
   "cell_type": "markdown",
   "metadata": {
    "id": "0m6nN_Dn7t4u"
   },
   "source": [
    "Devemos lembrar que na estratégia de separação, consideramos todo o conjunto de dados. Logo, alguns poços visualizados acima todos podem conter todo o seu trecho utilizado durante o treino. Isso implica não podermos usá-los como comparativo para avaliar visualmente a performance do nosso modelo. \n",
    "\n",
    "Assim, execute as duas células abaixo para observar somente os dados de teste e suas respectivas previsões, comparando litologia a litologia. Note ainda que essa visualização não reflete de forma alguma estratigrafia ou a disposição das litologias em um poço específico."
   ]
  },
  {
   "cell_type": "code",
   "execution_count": null,
   "metadata": {
    "colab": {
     "base_uri": "https://localhost:8080/",
     "height": 66,
     "referenced_widgets": [
      "d480e000c33748f294fa13a4fa1c2b62",
      "46636ef61ed94531abf5d1aaa3d5f283",
      "5a36a58d148a4a728bf1876fd018a00d"
     ]
    },
    "executionInfo": {
     "elapsed": 770,
     "status": "ok",
     "timestamp": 1621464443048,
     "user": {
      "displayName": "Marcos Jacinto",
      "photoUrl": "https://lh3.googleusercontent.com/a-/AOh14GgbcVTAhRu9oGb5IKipaiU_8kupX4M204C8_T4b=s64",
      "userId": "07933679891367927601"
     },
     "user_tz": 180
    },
    "id": "SXTBxxKyZf8i",
    "outputId": "884afcae-7042-460a-d79f-96e8c98b3964"
   },
   "outputs": [],
   "source": [
    "numeroLito = widgets.IntSlider(min = 1, max = 12, step = 1,\n",
    "                                 description = 'Litologia:')\n",
    "print('Escolha um número entre 1 e 12 refere à litologia, para comparação:')\n",
    "display(numeroLito)\n"
   ]
  },
  {
   "cell_type": "code",
   "execution_count": null,
   "metadata": {
    "colab": {
     "base_uri": "https://localhost:8080/",
     "height": 868
    },
    "executionInfo": {
     "elapsed": 1285,
     "status": "ok",
     "timestamp": 1621464475274,
     "user": {
      "displayName": "Marcos Jacinto",
      "photoUrl": "https://lh3.googleusercontent.com/a-/AOh14GgbcVTAhRu9oGb5IKipaiU_8kupX4M204C8_T4b=s64",
      "userId": "07933679891367927601"
     },
     "user_tz": 180
    },
    "id": "VHoUD_XwZhwk",
    "outputId": "066c4d1b-25a6-467e-e4aa-6325b60c9950"
   },
   "outputs": [],
   "source": [
    "plotarTeste(dummy_model, numeroLito.value - 1)"
   ]
  },
  {
   "cell_type": "markdown",
   "metadata": {
    "id": "ZsyRMyRw8VPG"
   },
   "source": [
    "Vimos acima uma métrica numérica para avaliar a performance do nosso modelo: a acurácia. A acurácia compara o total de acertos com o número de exemplos na nosso conjunto de teste que está sendo avaliado através da fórmula:\n",
    "\n",
    "<center> $ \\frac {Total \\: de \\: acertos} {Total  \\:  de  \\:  exemplos}$ </center>\n",
    "\n",
    "O problema dessa métrica é que ela avalia todas as classes/litologias ao mesmo tempo, mas não nos informa individualmente a eficiência de previsão de uma certa litologia. Por isso, é importante também utilizar as métricas Precisão, Recall e F1-Score, definidas do seguinte modo:\n",
    "\n",
    "<center>\n",
    "Precisão:\n",
    "\n",
    "$ \\frac {Positivos \\: verdadeiros} {Positivos \\: verdadeiros \\: + \\:Falsos \\: verdadeiros}$\n",
    "\n",
    "Recall:\n",
    "\n",
    "$ \\frac {Positivos \\: verdadeiros} {Positivos \\: verdadeiros \\: + \\:Falsos \\: negativos}$\n",
    "\n",
    "F1-Score:\n",
    "\n",
    "$ 2 \\cdot \\frac {Precisao \\:\\cdot\\: Recall} {Precisao \\:+\\: Recall}$\n",
    "\n",
    "</center>\n",
    "\n",
    "Quanto mais próximos de 1, melhor a eficiência de predição da litologia, e quanto mais próximo de 0, pior. Na dúvida, basta olhar para o F1-Score visto que o mesmo leva em consideração tanto precisão quanto recall para unificar as métricas."
   ]
  },
  {
   "cell_type": "code",
   "execution_count": null,
   "metadata": {
    "colab": {
     "base_uri": "https://localhost:8080/"
    },
    "executionInfo": {
     "elapsed": 698,
     "status": "ok",
     "timestamp": 1621464540334,
     "user": {
      "displayName": "Marcos Jacinto",
      "photoUrl": "https://lh3.googleusercontent.com/a-/AOh14GgbcVTAhRu9oGb5IKipaiU_8kupX4M204C8_T4b=s64",
      "userId": "07933679891367927601"
     },
     "user_tz": 180
    },
    "id": "Zvj46_FywwB4",
    "outputId": "81d3eaf3-dea2-45dd-a164-67e02fccdb3c"
   },
   "outputs": [],
   "source": [
    "print(classification_report(yteste, dummy_model.predict(xteste),\n",
    "                            target_names = lithology_keys.values()))"
   ]
  },
  {
   "cell_type": "markdown",
   "metadata": {
    "id": "EWoqeYG0-kki"
   },
   "source": [
    "Uma outra forma de observar os resultados individualmente é a matriz de confusão. Execute a célula abaixo e vamos discutir o significado da matriz de confusão e como realizar sua leitura."
   ]
  },
  {
   "cell_type": "code",
   "execution_count": null,
   "metadata": {
    "colab": {
     "base_uri": "https://localhost:8080/",
     "height": 805
    },
    "executionInfo": {
     "elapsed": 2244,
     "status": "ok",
     "timestamp": 1621464556455,
     "user": {
      "displayName": "Marcos Jacinto",
      "photoUrl": "https://lh3.googleusercontent.com/a-/AOh14GgbcVTAhRu9oGb5IKipaiU_8kupX4M204C8_T4b=s64",
      "userId": "07933679891367927601"
     },
     "user_tz": 180
    },
    "id": "SNXn4lhpbYGR",
    "outputId": "5d675f22-b36e-4f77-d35a-cb5e82dc1ee6"
   },
   "outputs": [],
   "source": [
    "confusionMatrix = confusion_matrix(yteste, dummy_model.predict(xteste))\n",
    "\n",
    "fig, ax = plt.subplots(1, 1, figsize = (20 , 12))\n",
    "\n",
    "sns.heatmap(confusionMatrix, cmap = 'GnBu', annot = True, square = True,\n",
    "            ax = ax, fmt = 'g')\n",
    "ax.set_xticklabels(list(lithology_keys.values()), rotation = 'vertical')\n",
    "ax.set_yticklabels(list(lithology_keys.values()), rotation = 'horizontal')\n",
    "ax.set_title('Matriz de confusão', fontsize = 14)\n",
    "ax.set_xlabel('Previsto')\n",
    "ax.set_ylabel('Verdadeiro');"
   ]
  },
  {
   "cell_type": "markdown",
   "metadata": {
    "id": "ukqZmySvQmCy"
   },
   "source": [
    "### Decision Trees (Árvores de Decisão)\n",
    "\n",
    "[Árvores de decisão](https://scikit-learn.org/stable/modules/tree.html) é um método supervisionado que pode ser utilizado tanto para regressão quanto para classificação. Seu objetivo é criar um modelo que realiza predições a partir de regras simples.\n",
    "\n",
    "As árvores de decisão requerem pouca preparação de dados. Para esse modelo, algumas fases, como normalização dos dados, não seriam necessárias, por exemplo. Também possui a vantagem de poder ser visualizada, e, consequentemente, interpretável.\n",
    "\n",
    "Deve-se tomar cuidado para que as árvores geradas não se tornem complexas demais, de modo que o modelo criado não consiga generalizar bem para novos dados.\n",
    "\n",
    "[Esse vídeo](https://www.youtube.com/watch?v=7VeUPuFGJHk&ab_channel=StatQuestwithJoshStarmer) apresenta um excelente resumo de como funciona uma árvore de decisão e como a mesma é criada. Vamos dar uma olhada e observar alguns pontos, como exemplos de árvores de decisão, a sua estrutura dentre outros.\n",
    "\n",
    "Execute as duas células abaixo para realizar o treinamento. O tempo esperado de treino é de cerca de 30 segundos."
   ]
  },
  {
   "cell_type": "code",
   "execution_count": null,
   "metadata": {
    "id": "ySYekKnuQj6G"
   },
   "outputs": [],
   "source": [
    "from sklearn.tree import DecisionTreeClassifier, plot_tree"
   ]
  },
  {
   "cell_type": "code",
   "execution_count": null,
   "metadata": {
    "colab": {
     "base_uri": "https://localhost:8080/"
    },
    "executionInfo": {
     "elapsed": 11238,
     "status": "ok",
     "timestamp": 1621465490974,
     "user": {
      "displayName": "Marcos Jacinto",
      "photoUrl": "https://lh3.googleusercontent.com/a-/AOh14GgbcVTAhRu9oGb5IKipaiU_8kupX4M204C8_T4b=s64",
      "userId": "07933679891367927601"
     },
     "user_tz": 180
    },
    "id": "xt3wLZgaRABb",
    "outputId": "e54f8c8e-8d60-4e26-d7b9-8980c208ce3d"
   },
   "outputs": [],
   "source": [
    "# Modifque aqui, com valores acima de 1 ou None:\n",
    "max_depth = 10\n",
    "\n",
    "tree_model = DecisionTreeClassifier(max_depth = max_depth, class_weight = 'balanced')\n",
    "\n",
    "start = time.time()\n",
    "tree_model.fit(xtreino, ytreino)\n",
    "end = time.time()\n",
    "print(f'Treino concluído. Tempo de treino {end - start} s')"
   ]
  },
  {
   "cell_type": "markdown",
   "metadata": {
    "id": "KdPBb9up_X-1"
   },
   "source": [
    "Após treinar a célula abaixo nos informará da acurácia do nosso modelo."
   ]
  },
  {
   "cell_type": "code",
   "execution_count": null,
   "metadata": {
    "colab": {
     "base_uri": "https://localhost:8080/"
    },
    "executionInfo": {
     "elapsed": 712,
     "status": "ok",
     "timestamp": 1621465494131,
     "user": {
      "displayName": "Marcos Jacinto",
      "photoUrl": "https://lh3.googleusercontent.com/a-/AOh14GgbcVTAhRu9oGb5IKipaiU_8kupX4M204C8_T4b=s64",
      "userId": "07933679891367927601"
     },
     "user_tz": 180
    },
    "id": "g5erqt6uRdF_",
    "outputId": "375a4490-cb82-4c2d-857d-5f30750b2ff1"
   },
   "outputs": [],
   "source": [
    "score = tree_model.score(xteste, yteste)\n",
    "print(f'O modelo treinado teve uma acurácia de {100*score:.2f}%')"
   ]
  },
  {
   "cell_type": "markdown",
   "metadata": {
    "id": "tLE7mQaX_ccW"
   },
   "source": [
    "As duas próximas células serão utilizadas para comparar as litologias reais nos poços com as previsões realizadas pelo modelo acima. Selecione um número entre 1 e 96 para ver o respectivo resultado para aquele poço."
   ]
  },
  {
   "cell_type": "code",
   "execution_count": null,
   "metadata": {
    "colab": {
     "base_uri": "https://localhost:8080/",
     "height": 66,
     "referenced_widgets": [
      "edd57f44bc8646fab73262ed9e7ac52f",
      "7fcdbb974d004b84bfdb7840edc65996",
      "aef9c89fa55d4052ac186a47d845fcf7"
     ]
    },
    "executionInfo": {
     "elapsed": 569,
     "status": "ok",
     "timestamp": 1621465496949,
     "user": {
      "displayName": "Marcos Jacinto",
      "photoUrl": "https://lh3.googleusercontent.com/a-/AOh14GgbcVTAhRu9oGb5IKipaiU_8kupX4M204C8_T4b=s64",
      "userId": "07933679891367927601"
     },
     "user_tz": 180
    },
    "id": "WTj6ynqtIcSS",
    "outputId": "8e0b8a15-bddc-4254-8c8e-0e559437a71a"
   },
   "outputs": [],
   "source": [
    "numeroDoPocoPred = widgets.IntSlider(min = 1, max = 96, step = 1,\n",
    "                                 description = 'Número do poço')\n",
    "print('Selecione abaixo o número do poço a ser previsto:')\n",
    "display(numeroDoPocoPred)"
   ]
  },
  {
   "cell_type": "code",
   "execution_count": null,
   "metadata": {
    "colab": {
     "base_uri": "https://localhost:8080/",
     "height": 896
    },
    "executionInfo": {
     "elapsed": 3258,
     "status": "ok",
     "timestamp": 1621465530621,
     "user": {
      "displayName": "Marcos Jacinto",
      "photoUrl": "https://lh3.googleusercontent.com/a-/AOh14GgbcVTAhRu9oGb5IKipaiU_8kupX4M204C8_T4b=s64",
      "userId": "07933679891367927601"
     },
     "user_tz": 180
    },
    "id": "E2_G2SSmIyX1",
    "outputId": "70df76c7-7a40-4240-9f5e-4cb7317046ff"
   },
   "outputs": [],
   "source": [
    "plotarPredicao(numeroDoPocoPred.value - 1, tree_model)"
   ]
  },
  {
   "cell_type": "markdown",
   "metadata": {
    "id": "TRMzUlNY_d_T"
   },
   "source": [
    "Devemos lembrar que na estratégia de separação, consideramos todo o conjunto de dados. Logo, alguns poços visualizados acima todos podem conter todo o seu trecho utilizado durante o treino. Isso implica não podermos usá-los como comparativo para avaliar visualmente a performance do nosso modelo. \n",
    "\n",
    "Assim, execute as duas células abaixo para observar somente os dados de teste e suas respectivas previsões, comparando litologia a litologia. Note ainda que essa visualização não reflete de forma alguma estratigrafia ou a disposição das litologias em um poço específico."
   ]
  },
  {
   "cell_type": "code",
   "execution_count": null,
   "metadata": {
    "colab": {
     "base_uri": "https://localhost:8080/",
     "height": 66,
     "referenced_widgets": [
      "ede39935252e487289edcdd30b823251",
      "4de7397cd9e248d69154adeac764dad3",
      "cc56fa161dc647679053aeeb25b902f2"
     ]
    },
    "executionInfo": {
     "elapsed": 823,
     "status": "ok",
     "timestamp": 1621465386258,
     "user": {
      "displayName": "Marcos Jacinto",
      "photoUrl": "https://lh3.googleusercontent.com/a-/AOh14GgbcVTAhRu9oGb5IKipaiU_8kupX4M204C8_T4b=s64",
      "userId": "07933679891367927601"
     },
     "user_tz": 180
    },
    "id": "v96U0qPnY0wC",
    "outputId": "a8a934b1-f73f-4680-8bf5-ecfd14c8f133"
   },
   "outputs": [],
   "source": [
    "numeroLito = widgets.IntSlider(min = 1, max = 12, step = 1,\n",
    "                                 description = 'Litologia:')\n",
    "print('Escolha um número entre 1 e 12 refere à litologia, para comparação:')\n",
    "display(numeroLito)"
   ]
  },
  {
   "cell_type": "code",
   "execution_count": null,
   "metadata": {
    "colab": {
     "base_uri": "https://localhost:8080/",
     "height": 868
    },
    "executionInfo": {
     "elapsed": 1163,
     "status": "ok",
     "timestamp": 1621465594169,
     "user": {
      "displayName": "Marcos Jacinto",
      "photoUrl": "https://lh3.googleusercontent.com/a-/AOh14GgbcVTAhRu9oGb5IKipaiU_8kupX4M204C8_T4b=s64",
      "userId": "07933679891367927601"
     },
     "user_tz": 180
    },
    "id": "HfXyd034XTkw",
    "outputId": "0ae60f2b-0bbc-43da-f27e-f09fff0025b7"
   },
   "outputs": [],
   "source": [
    "plotarTeste(tree_model, numeroLito.value - 1)"
   ]
  },
  {
   "cell_type": "markdown",
   "metadata": {
    "id": "bM9B0BWK_fE6"
   },
   "source": [
    "Vimos acima uma métrica numérica para avaliar a performance do nosso modelo: a acurácia. A acurácia compara o total de acertos com o número de exemplos na nosso conjunto de teste que está sendo avaliado através da fórmula:\n",
    "\n",
    "<center> $ \\frac {Total \\: de \\: acertos} {Total  \\:  de  \\:  exemplos}$ </center>\n",
    "\n",
    "O problema dessa métrica é que ela avalia todas as classes/litologias ao mesmo tempo, mas não nos informa individualmente a eficiência de previsão de uma certa litologia. Por isso, é importante também utilizar as métricas Precisão, Recall e F1-Score, definidas do seguinte modo:\n",
    "\n",
    "<center>\n",
    "Precisão:\n",
    "\n",
    "$ \\frac {Positivos \\: verdadeiros} {Positivos \\: verdadeiros \\: + \\:Falsos \\: verdadeiros}$\n",
    "\n",
    "Recall:\n",
    "\n",
    "$ \\frac {Positivos \\: verdadeiros} {Positivos \\: verdadeiros \\: + \\:Falsos \\: negativos}$\n",
    "\n",
    "F1-Score:\n",
    "\n",
    "$ 2 \\cdot \\frac {Precisao \\:\\cdot\\: Recall} {Precisao \\:+\\: Recall}$\n",
    "\n",
    "</center>\n",
    "\n",
    "Quanto mais próximos de 1, melhor a eficiência de predição da litologia, e quanto mais próximo de 0, pior. Na dúvida, basta olhar para o F1-Score visto que o mesmo leva em consideração tanto precisão quanto recall para unificar as métricas."
   ]
  },
  {
   "cell_type": "code",
   "execution_count": null,
   "metadata": {
    "colab": {
     "base_uri": "https://localhost:8080/"
    },
    "executionInfo": {
     "elapsed": 844,
     "status": "ok",
     "timestamp": 1621465567222,
     "user": {
      "displayName": "Marcos Jacinto",
      "photoUrl": "https://lh3.googleusercontent.com/a-/AOh14GgbcVTAhRu9oGb5IKipaiU_8kupX4M204C8_T4b=s64",
      "userId": "07933679891367927601"
     },
     "user_tz": 180
    },
    "id": "ApMk5JsHjDBU",
    "outputId": "e2271f97-f0d8-448a-e981-82749a647ad9"
   },
   "outputs": [],
   "source": [
    "print(classification_report(yteste, tree_model.predict(xteste),\n",
    "                            target_names = lithology_keys.values()))"
   ]
  },
  {
   "cell_type": "markdown",
   "metadata": {
    "id": "QsSIZ5N2_fxH"
   },
   "source": [
    "Uma outra forma de observar os resultados individualmente é a matriz de confusão. Execute a célula abaixo e vamos discutir o significado da matriz de confusão e como realizar sua leitura."
   ]
  },
  {
   "cell_type": "code",
   "execution_count": null,
   "metadata": {
    "colab": {
     "base_uri": "https://localhost:8080/",
     "height": 805
    },
    "executionInfo": {
     "elapsed": 2224,
     "status": "ok",
     "timestamp": 1621465617636,
     "user": {
      "displayName": "Marcos Jacinto",
      "photoUrl": "https://lh3.googleusercontent.com/a-/AOh14GgbcVTAhRu9oGb5IKipaiU_8kupX4M204C8_T4b=s64",
      "userId": "07933679891367927601"
     },
     "user_tz": 180
    },
    "id": "zSbTVJCkibMl",
    "outputId": "3b6b6bb5-327e-46cb-f65f-b8ad275afaf5"
   },
   "outputs": [],
   "source": [
    "confusionMatrix = confusion_matrix(yteste, tree_model.predict(xteste))\n",
    "\n",
    "fig, ax = plt.subplots(1, 1, figsize = (20 , 12))\n",
    "\n",
    "sns.heatmap(confusionMatrix, cmap = 'GnBu', annot = True, square = True,\n",
    "            ax = ax, fmt = 'g')\n",
    "ax.set_xticklabels(list(lithology_keys.values()), rotation = 'vertical')\n",
    "ax.set_yticklabels(list(lithology_keys.values()), rotation = 'horizontal')\n",
    "ax.set_title('Matriz de confusão', fontsize = 14)\n",
    "ax.set_xlabel('Previsto')\n",
    "ax.set_ylabel('Verdadeiro');"
   ]
  },
  {
   "cell_type": "markdown",
   "metadata": {
    "id": "v3Od15VD_hxV"
   },
   "source": [
    "Esse modelo nos permite obter uma medida da importância de cada variável para realizar a previsão da litologia. Execute a célula abaixo para gerar um gráfico que nos irá mostrar essas informações."
   ]
  },
  {
   "cell_type": "code",
   "execution_count": null,
   "metadata": {
    "colab": {
     "base_uri": "https://localhost:8080/",
     "height": 710
    },
    "executionInfo": {
     "elapsed": 1553,
     "status": "ok",
     "timestamp": 1621465633162,
     "user": {
      "displayName": "Marcos Jacinto",
      "photoUrl": "https://lh3.googleusercontent.com/a-/AOh14GgbcVTAhRu9oGb5IKipaiU_8kupX4M204C8_T4b=s64",
      "userId": "07933679891367927601"
     },
     "user_tz": 180
    },
    "id": "EMRBu4P1TwbD",
    "outputId": "d98a87aa-f62b-437a-98b4-4b2cf7622404"
   },
   "outputs": [],
   "source": [
    "fig, ax = plt.subplots(1, 1, figsize = (20, 10))\n",
    "\n",
    "feature_importances = tree_model.feature_importances_\n",
    "\n",
    "ax.bar(range(1, len(feature_names) + 1), height = feature_importances, color = 'k');\n",
    "ax.grid(axis = 'y')\n",
    "\n",
    "ax.set_title('Importância de cada variável');\n",
    "ax.set_ylabel('Valor atribuído de importância pela Árvore de Decisão')\n",
    "ax.set_xticks(range(1, len(feature_names) + 1))\n",
    "ax.set_xticklabels(feature_names, rotation = 'vertical')\n",
    "ax.set_xlabel('Variáveis');"
   ]
  },
  {
   "cell_type": "markdown",
   "metadata": {
    "id": "_5YGOXCh_hFG"
   },
   "source": [
    "Em particular, o modelo Árvores de Decisão pode ser interpretável. O código abaixo nos mostra a árvore de decisão criada para realizar as previsões. Caso a profundidade da árvore seja muito grande, dificilmente iremos conseguir ver nitidamente a imagem gerada. Para entender esse conceito, sugiro modificar o tamanho da árvore para um numéro pequeno (menor que 5, por exemplo) e só depois executar a célula abaixo. Evite executar a célula caso o tamanho da árvore seja grande."
   ]
  },
  {
   "cell_type": "code",
   "execution_count": null,
   "metadata": {
    "colab": {
     "base_uri": "https://localhost:8080/",
     "height": 466
    },
    "executionInfo": {
     "elapsed": 5178,
     "status": "ok",
     "timestamp": 1621465651277,
     "user": {
      "displayName": "Marcos Jacinto",
      "photoUrl": "https://lh3.googleusercontent.com/a-/AOh14GgbcVTAhRu9oGb5IKipaiU_8kupX4M204C8_T4b=s64",
      "userId": "07933679891367927601"
     },
     "user_tz": 180
    },
    "id": "LuZDyWFqUF-k",
    "outputId": "b937e086-050e-46dd-a5c7-784766945f53"
   },
   "outputs": [],
   "source": [
    "fig, ax = plt.subplots(1, 1, figsize = (30, 30))\n",
    "\n",
    "class_names = list(lithology_keys.values())\n",
    "\n",
    "plot_tree(tree_model,\n",
    "          filled = True,\n",
    "          class_names = class_names,\n",
    "          feature_names = feature_names,\n",
    "          ax = ax);"
   ]
  },
  {
   "cell_type": "markdown",
   "metadata": {
    "id": "FNxaAmBopz05"
   },
   "source": [
    "### Random Forest (Florestas Aleatórias)\n",
    "\n",
    "As [Florestas Aleatórias ou Random Forests](https://scikit-learn.org/stable/modules/ensemble.html#forests-of-randomized-trees) pertencem ao grupo de métodos <i>ensemble</i>. Esses métodos possuem a característica de combinar vários preditores como base para realizar sua predição, com o objetivo de aumentar a capacidade de generalização e a robustez das previsões. Nesse caso, em específico uma Random Forest é formada por diversas árvores de decisão. Vamos entender um pouco mais sobre esse método abaixo.\n",
    "\n",
    "Em uma floresta aleatória, cada árvore precisa ser diferente da outra, do contrário todas as árvores fariam exatamente a mesma predição e não faria sentido combinar várias árvores, pois bastaria somente uma. Por isso, existe uma 'aleatoriedade' na construção de cada árvore. Essa aleatoridade ocorre em dois momentos principais:\n",
    "\n",
    "*   O conjunto de dados inteiro não é utilizado, sendo selecionado aleatoriamente apenas parte do mesmo para a construção de árvore;\n",
    "*   No momento de escolher a raíz da árvore, e cada nó interno, as opções são limitadas através de uma escolha aleatória dentre as possíveis variáveis preditoras existentes no dataset.\n",
    "\n",
    "Após construir todas as árvores, no momento da predição no final cada árvore irá ter o seu voto. Desse modo, a classe (litologia) que obtiver mais votos será a escolhida.\n",
    "\n",
    "[Vamos observar esse video](https://www.youtube.com/watch?v=7VeUPuFGJHk&ab_channel=StatQuestwithJoshStarmer) para entender como são construídas as Florestas Aleatórias.\n",
    "\n"
   ]
  },
  {
   "cell_type": "code",
   "execution_count": null,
   "metadata": {
    "id": "pUCHVzdNkoq6"
   },
   "outputs": [],
   "source": [
    "from sklearn.ensemble import RandomForestClassifier"
   ]
  },
  {
   "cell_type": "code",
   "execution_count": null,
   "metadata": {
    "id": "akJuF9p2Z2iv"
   },
   "outputs": [],
   "source": [
    "# Escolher profundidade e número de estimadores\n",
    "\n",
    "rf = RandomForestClassifier(n_estimators = 100,\n",
    "                            criterion = 'gini',\n",
    "                            max_depth = 3,\n",
    "                            class_weight = 'balanced',\n",
    "                            )"
   ]
  },
  {
   "cell_type": "code",
   "execution_count": null,
   "metadata": {
    "colab": {
     "base_uri": "https://localhost:8080/"
    },
    "executionInfo": {
     "elapsed": 231182,
     "status": "ok",
     "timestamp": 1621465990375,
     "user": {
      "displayName": "Marcos Jacinto",
      "photoUrl": "https://lh3.googleusercontent.com/a-/AOh14GgbcVTAhRu9oGb5IKipaiU_8kupX4M204C8_T4b=s64",
      "userId": "07933679891367927601"
     },
     "user_tz": 180
    },
    "id": "LuLSaa2Wbesr",
    "outputId": "e87757de-9c69-4c43-b332-dc4394e5d2ab"
   },
   "outputs": [],
   "source": [
    "start = time.time()\n",
    "rf.fit(xtreino, ytreino)\n",
    "end = time.time()\n",
    "print(f'Treino concluído. Tempo de treino {(end - start):.2f} s')"
   ]
  },
  {
   "cell_type": "markdown",
   "metadata": {
    "id": "XIomrCqObcrJ"
   },
   "source": [
    "Após treinar a célula abaixo nos informará da acurácia do nosso modelo."
   ]
  },
  {
   "cell_type": "code",
   "execution_count": null,
   "metadata": {
    "colab": {
     "base_uri": "https://localhost:8080/"
    },
    "executionInfo": {
     "elapsed": 131680,
     "status": "ok",
     "timestamp": 1621465994733,
     "user": {
      "displayName": "Marcos Jacinto",
      "photoUrl": "https://lh3.googleusercontent.com/a-/AOh14GgbcVTAhRu9oGb5IKipaiU_8kupX4M204C8_T4b=s64",
      "userId": "07933679891367927601"
     },
     "user_tz": 180
    },
    "id": "rIxT5EKKbhEr",
    "outputId": "ccb679d7-b3bd-4c55-c7ae-772d572c5fe6"
   },
   "outputs": [],
   "source": [
    "score = rf.score(xteste, yteste)\n",
    "print(f'O modelo treinado teve uma acurácia de {100*score:.2f}%')"
   ]
  },
  {
   "cell_type": "markdown",
   "metadata": {
    "id": "m36aQtbxbV4M"
   },
   "source": [
    "As duas próximas células serão utilizadas para comparar as litologias reais nos poços com as previsões realizadas pelo modelo acima. Selecione um número entre 1 e 96 para ver o respectivo resultado para aquele poço."
   ]
  },
  {
   "cell_type": "code",
   "execution_count": null,
   "metadata": {
    "colab": {
     "base_uri": "https://localhost:8080/",
     "height": 66,
     "referenced_widgets": [
      "3731d8f01c7b4804b2090d69c1b4e567",
      "80a025a1efc5486caf650b0b7c80fa5c",
      "fe0c47077ed146029d87c01e4f03e003"
     ]
    },
    "executionInfo": {
     "elapsed": 130262,
     "status": "ok",
     "timestamp": 1621465994734,
     "user": {
      "displayName": "Marcos Jacinto",
      "photoUrl": "https://lh3.googleusercontent.com/a-/AOh14GgbcVTAhRu9oGb5IKipaiU_8kupX4M204C8_T4b=s64",
      "userId": "07933679891367927601"
     },
     "user_tz": 180
    },
    "id": "QZnn_v2tjSjC",
    "outputId": "a8d5ac9b-8a0b-426f-f27a-1a9626300805"
   },
   "outputs": [],
   "source": [
    "numeroDoPocoPred = widgets.IntSlider(min = 1, max = 96, step = 1,\n",
    "                                 description = 'Número do poço')\n",
    "print('Selecione abaixo o número do poço a ser previsto:')\n",
    "display(numeroDoPocoPred)"
   ]
  },
  {
   "cell_type": "code",
   "execution_count": null,
   "metadata": {
    "colab": {
     "base_uri": "https://localhost:8080/",
     "height": 896
    },
    "executionInfo": {
     "elapsed": 3182,
     "status": "ok",
     "timestamp": 1621466082476,
     "user": {
      "displayName": "Marcos Jacinto",
      "photoUrl": "https://lh3.googleusercontent.com/a-/AOh14GgbcVTAhRu9oGb5IKipaiU_8kupX4M204C8_T4b=s64",
      "userId": "07933679891367927601"
     },
     "user_tz": 180
    },
    "id": "fGT8PJMWjZ-Z",
    "outputId": "492b9949-1d6d-41ac-8885-529619db30f4"
   },
   "outputs": [],
   "source": [
    "plotarPredicao(numeroDoPocoPred.value - 1, rf)"
   ]
  },
  {
   "cell_type": "markdown",
   "metadata": {
    "id": "h8IB82XJbOmO"
   },
   "source": [
    "Devemos lembrar que na estratégia de separação, consideramos todo o conjunto de dados. Logo, alguns poços visualizados acima todos podem conter todo o seu trecho utilizado durante o treino. Isso implica não podermos usá-los como comparativo para avaliar visualmente a performance do nosso modelo. \n",
    "\n",
    "Assim, execute as duas células abaixo para observar somente os dados de teste e suas respectivas previsões, comparando litologia a litologia. Note ainda que essa visualização não reflete de forma alguma estratigrafia ou a disposição das litologias em um poço específico."
   ]
  },
  {
   "cell_type": "code",
   "execution_count": null,
   "metadata": {
    "colab": {
     "base_uri": "https://localhost:8080/",
     "height": 66,
     "referenced_widgets": [
      "f0b948ef6c234349bfcff000b7c501f0",
      "1cd2ac0def9c41d091a7ac6db6d1baad",
      "abcd0308f5b14eb0a84b913d12238a1d"
     ]
    },
    "executionInfo": {
     "elapsed": 127762,
     "status": "ok",
     "timestamp": 1621465998261,
     "user": {
      "displayName": "Marcos Jacinto",
      "photoUrl": "https://lh3.googleusercontent.com/a-/AOh14GgbcVTAhRu9oGb5IKipaiU_8kupX4M204C8_T4b=s64",
      "userId": "07933679891367927601"
     },
     "user_tz": 180
    },
    "id": "LkFuIGmWZlxD",
    "outputId": "ecbae501-cbd7-4d5f-b15c-d344763c20c7"
   },
   "outputs": [],
   "source": [
    "numeroLito = widgets.IntSlider(min = 1, max = 12, step = 1,\n",
    "                                 description = 'Litologia:')\n",
    "print('Escolha um número entre 1 e 12 refere à litologia, para comparação:')\n",
    "display(numeroLito)"
   ]
  },
  {
   "cell_type": "code",
   "execution_count": null,
   "metadata": {
    "colab": {
     "base_uri": "https://localhost:8080/",
     "height": 868
    },
    "executionInfo": {
     "elapsed": 5879,
     "status": "ok",
     "timestamp": 1621466130567,
     "user": {
      "displayName": "Marcos Jacinto",
      "photoUrl": "https://lh3.googleusercontent.com/a-/AOh14GgbcVTAhRu9oGb5IKipaiU_8kupX4M204C8_T4b=s64",
      "userId": "07933679891367927601"
     },
     "user_tz": 180
    },
    "id": "4WjEyRUvZmhP",
    "outputId": "7e1821e4-2856-47f3-b264-129f88aab5af"
   },
   "outputs": [],
   "source": [
    "plotarTeste(rf, numeroLito.value - 1)"
   ]
  },
  {
   "cell_type": "markdown",
   "metadata": {
    "id": "2CKORKM4a-Yl"
   },
   "source": [
    "Vimos acima uma métrica numérica para avaliar a performance do nosso modelo: a acurácia. A acurácia compara o total de acertos com o número de exemplos na nosso conjunto de teste que está sendo avaliado através da fórmula:\n",
    "\n",
    "<center> $ \\frac {Total \\: de \\: acertos} {Total  \\:  de  \\:  exemplos}$ </center>\n",
    "\n",
    "O problema dessa métrica é que ela avalia todas as classes/litologias ao mesmo tempo, mas não nos informa individualmente a eficiência de previsão de uma certa litologia. Por isso, é importante também utilizar as métricas Precisão, Recall e F1-Score, definidas do seguinte modo:\n",
    "\n",
    "<center>\n",
    "Precisão:\n",
    "\n",
    "$ \\frac {Positivos \\: verdadeiros} {Positivos \\: verdadeiros \\: + \\:Falsos \\: verdadeiros}$\n",
    "\n",
    "Recall:\n",
    "\n",
    "$ \\frac {Positivos \\: verdadeiros} {Positivos \\: verdadeiros \\: + \\:Falsos \\: negativos}$\n",
    "\n",
    "F1-Score:\n",
    "\n",
    "$ 2 \\cdot \\frac {Precisao \\:\\cdot\\: Recall} {Precisao \\:+\\: Recall}$\n",
    "\n",
    "</center>\n",
    "\n",
    "Quanto mais próximos de 1, melhor a eficiência de predição da litologia, e quanto mais próximo de 0, pior. Na dúvida, basta olhar para o F1-Score visto que o mesmo leva em consideração tanto precisão quanto recall para unificar as métricas."
   ]
  },
  {
   "cell_type": "code",
   "execution_count": null,
   "metadata": {
    "colab": {
     "base_uri": "https://localhost:8080/"
    },
    "executionInfo": {
     "elapsed": 124121,
     "status": "ok",
     "timestamp": 1621466009758,
     "user": {
      "displayName": "Marcos Jacinto",
      "photoUrl": "https://lh3.googleusercontent.com/a-/AOh14GgbcVTAhRu9oGb5IKipaiU_8kupX4M204C8_T4b=s64",
      "userId": "07933679891367927601"
     },
     "user_tz": 180
    },
    "id": "5QA3a3Q-dDL6",
    "outputId": "70b89c8a-336c-435a-8259-53c38a62d87a"
   },
   "outputs": [],
   "source": [
    "print(classification_report(yteste, rf.predict(xteste),\n",
    "                            target_names = lithology_keys.values()))"
   ]
  },
  {
   "cell_type": "markdown",
   "metadata": {
    "id": "nttHcI2Ra50Q"
   },
   "source": [
    "Uma outra forma de observar os resultados individualmente é a matriz de confusão. Execute a célula abaixo e vamos discutir o significado da matriz de confusão e como realizar sua leitura."
   ]
  },
  {
   "cell_type": "code",
   "execution_count": null,
   "metadata": {
    "colab": {
     "base_uri": "https://localhost:8080/",
     "height": 805
    },
    "executionInfo": {
     "elapsed": 129151,
     "status": "ok",
     "timestamp": 1621466016063,
     "user": {
      "displayName": "Marcos Jacinto",
      "photoUrl": "https://lh3.googleusercontent.com/a-/AOh14GgbcVTAhRu9oGb5IKipaiU_8kupX4M204C8_T4b=s64",
      "userId": "07933679891367927601"
     },
     "user_tz": 180
    },
    "id": "nAeU1kQF2hkD",
    "outputId": "84f0d29d-523e-45c1-b653-30c39f38998a"
   },
   "outputs": [],
   "source": [
    "confusionMatrix = confusion_matrix(yteste, rf.predict(xteste))\n",
    "\n",
    "fig, ax = plt.subplots(1, 1, figsize = (20 , 12))\n",
    "\n",
    "sns.heatmap(confusionMatrix, cmap = 'GnBu', annot = True, square = True,\n",
    "            ax = ax, fmt = 'g')\n",
    "ax.set_xticklabels(list(lithology_keys.values()), rotation = 'vertical')\n",
    "ax.set_yticklabels(list(lithology_keys.values()), rotation = 'horizontal')\n",
    "ax.set_title('Matriz de confusão', fontsize = 14)\n",
    "ax.set_xlabel('Previsto')\n",
    "ax.set_ylabel('Verdadeiro');"
   ]
  },
  {
   "cell_type": "markdown",
   "metadata": {
    "id": "1wYI8bxXa1iH"
   },
   "source": [
    "Esse modelo nos permite obter uma medida da importância de cada variável para realizar a previsão da litologia. Execute a célula abaixo para gerar um gráfico que nos irá mostrar essas informações."
   ]
  },
  {
   "cell_type": "code",
   "execution_count": null,
   "metadata": {
    "colab": {
     "base_uri": "https://localhost:8080/",
     "height": 710
    },
    "executionInfo": {
     "elapsed": 125668,
     "status": "ok",
     "timestamp": 1621466017052,
     "user": {
      "displayName": "Marcos Jacinto",
      "photoUrl": "https://lh3.googleusercontent.com/a-/AOh14GgbcVTAhRu9oGb5IKipaiU_8kupX4M204C8_T4b=s64",
      "userId": "07933679891367927601"
     },
     "user_tz": 180
    },
    "id": "-vWfH4mXjg7v",
    "outputId": "80de01ba-a11e-4170-929d-e88e5f487727"
   },
   "outputs": [],
   "source": [
    "fig, ax = plt.subplots(1, 1, figsize = (20, 10))\n",
    "\n",
    "feature_importances = rf.feature_importances_\n",
    "\n",
    "ax.bar(range(1, len(feature_names) + 1), height = feature_importances, color = 'k');\n",
    "ax.grid(axis = 'y')\n",
    "\n",
    "ax.set_title('Importância de cada variável');\n",
    "ax.set_ylabel('Valor atribuído de importância pela Árvore de Decisão')\n",
    "ax.set_xticks(range(1, len(feature_names) + 1))\n",
    "ax.set_xticklabels(feature_names, rotation = 'vertical')\n",
    "ax.set_xlabel('Variáveis');"
   ]
  },
  {
   "cell_type": "markdown",
   "metadata": {
    "id": "-hmCxZ0g_9Tt"
   },
   "source": [
    "### AdaBoost\n",
    "\n",
    "[AdaBoost](https://scikit-learn.org/stable/modules/ensemble.html#adaboost) também pertence aos métdos de <i>ensemble</i>, porém seu funcionamento diferente de Random Forests. A ideia principal por trás desse método é ajustar uma sequência de preditores fracos em versões repetidas dos dados modificados. As predições feitas por cada preditor são, então, combinadas através de um peso, diferentemente de Random Forests onde todas as árvores possuem o mesmo peso.\n",
    "\n",
    "Inicialmente, o peso é igual para todas as árvores, porém eles são modificados sucessivamente, de modo que exemplos incorretamente previstos passam a ter um peso maior. Isso força com que cada preditor fraco subsequente passe a focar em exemplos que foram incorretamente classificados pelos preditores anteriores.\n",
    "\n",
    "[Vamos observar esse video](https://www.youtube.com/watch?v=LsK-xG1cLYA) para entender como é construído o modelo AdaBoost.\n",
    "\n",
    "Em seguida, execute as células abaixo para realizar o treinamento do modelo."
   ]
  },
  {
   "cell_type": "code",
   "execution_count": null,
   "metadata": {
    "id": "PRWlsh2S__kd"
   },
   "outputs": [],
   "source": [
    "from sklearn.ensemble import AdaBoostClassifier"
   ]
  },
  {
   "cell_type": "code",
   "execution_count": null,
   "metadata": {
    "id": "cCJQnSPRAFtP"
   },
   "outputs": [],
   "source": [
    "ab = AdaBoostClassifier(base_estimator = DecisionTreeClassifier(max_depth = 3,\n",
    "                                                                class_weight = 'balanced'),\n",
    "                        n_estimators = 150,)"
   ]
  },
  {
   "cell_type": "code",
   "execution_count": null,
   "metadata": {
    "colab": {
     "background_save": true
    },
    "id": "oowlHCSMDjKl",
    "outputId": "ec5b3d4c-e802-458e-8950-309242aedc86"
   },
   "outputs": [],
   "source": [
    "start = time.time()\n",
    "ab.fit(xtreino, ytreino)\n",
    "end = time.time()\n",
    "print(f'Tempo de treino {end - start} s')"
   ]
  },
  {
   "cell_type": "markdown",
   "metadata": {
    "id": "JI5ZjNHYbrVp"
   },
   "source": [
    "Após treinar a célula abaixo nos informará da acurácia do nosso modelo."
   ]
  },
  {
   "cell_type": "code",
   "execution_count": null,
   "metadata": {
    "colab": {
     "background_save": true
    },
    "id": "05MtpBOc9Akx",
    "outputId": "b8457fef-26f5-4281-96d2-471a52ec6699"
   },
   "outputs": [],
   "source": [
    "score = ab.score(xteste, yteste)\n",
    "print(f'O modelo treinado teve uma acurácia de {100*score:.2f}%')"
   ]
  },
  {
   "cell_type": "markdown",
   "metadata": {
    "id": "J_APWsL6cJrh"
   },
   "source": [
    "As duas próximas células serão utilizadas para comparar as litologias reais nos poços com as previsões realizadas pelo modelo acima. Selecione um número entre 1 e 96 para ver o respectivo resultado para aquele poço."
   ]
  },
  {
   "cell_type": "code",
   "execution_count": null,
   "metadata": {
    "id": "aYBZQwfFkBfo"
   },
   "outputs": [],
   "source": [
    "numeroDoPocoPred = widgets.IntSlider(min = 1, max = 96, step = 1,\n",
    "                                 description = 'Número do poço')\n",
    "print('Selecione abaixo o número do poço a ser previsto:')\n",
    "display(numeroDoPocoPred)"
   ]
  },
  {
   "cell_type": "code",
   "execution_count": null,
   "metadata": {
    "id": "tr3CQNhnkEJ4"
   },
   "outputs": [],
   "source": [
    "plotarPredicao(numeroDoPocoPred.value - 1, ab)"
   ]
  },
  {
   "cell_type": "markdown",
   "metadata": {
    "id": "iCcHwOXvb776"
   },
   "source": [
    "Devemos lembrar que na estratégia de separação, consideramos todo o conjunto de dados. Logo, alguns poços visualizados acima todos podem conter todo o seu trecho utilizado durante o treino. Isso implica não podermos usá-los como comparativo para avaliar visualmente a performance do nosso modelo. \n",
    "\n",
    "Assim, execute as duas células abaixo para observar somente os dados de teste e suas respectivas previsões, comparando litologia a litologia. Note ainda que essa visualização não reflete de forma alguma estratigrafia ou a disposição das litologias em um poço específico."
   ]
  },
  {
   "cell_type": "code",
   "execution_count": null,
   "metadata": {
    "colab": {
     "background_save": true,
     "referenced_widgets": [
      "6bd6437962cc4ebba359324806b872b6"
     ]
    },
    "id": "k9IXxY4AZoeo",
    "outputId": "25cf9717-faad-43a9-a474-f99ede03d26e"
   },
   "outputs": [],
   "source": [
    "numeroLito = widgets.IntSlider(min = 1, max = 12, step = 1,\n",
    "                                 description = 'Litologia:')\n",
    "print('Escolha um número entre 1 e 12 refere à litologia, para comparação:')\n",
    "display(numeroLito)"
   ]
  },
  {
   "cell_type": "code",
   "execution_count": null,
   "metadata": {
    "colab": {
     "background_save": true
    },
    "id": "gzXCEI4FZvTz",
    "outputId": "8c307892-4a9e-4753-ecc3-a7d9a4225e60"
   },
   "outputs": [],
   "source": [
    "plotarTeste(ab, numeroLito.value - 1)"
   ]
  },
  {
   "cell_type": "markdown",
   "metadata": {
    "id": "r-n73WuGb4B6"
   },
   "source": [
    "Vimos acima uma métrica numérica para avaliar a performance do nosso modelo: a acurácia. A acurácia compara o total de acertos com o número de exemplos na nosso conjunto de teste que está sendo avaliado através da fórmula:\n",
    "\n",
    "<center> $ \\frac {Total \\: de \\: acertos} {Total  \\:  de  \\:  exemplos}$ </center>\n",
    "\n",
    "O problema dessa métrica é que ela avalia todas as classes/litologias ao mesmo tempo, mas não nos informa individualmente a eficiência de previsão de uma certa litologia. Por isso, é importante também utilizar as métricas Precisão, Recall e F1-Score, definidas do seguinte modo:\n",
    "\n",
    "<center>\n",
    "Precisão:\n",
    "\n",
    "$ \\frac {Positivos \\: verdadeiros} {Positivos \\: verdadeiros \\: + \\:Falsos \\: verdadeiros}$\n",
    "\n",
    "Recall:\n",
    "\n",
    "$ \\frac {Positivos \\: verdadeiros} {Positivos \\: verdadeiros \\: + \\:Falsos \\: negativos}$\n",
    "\n",
    "F1-Score:\n",
    "\n",
    "$ 2 \\cdot \\frac {Precisao \\:\\cdot\\: Recall} {Precisao \\:+\\: Recall}$\n",
    "\n",
    "</center>\n",
    "\n",
    "Quanto mais próximos de 1, melhor a eficiência de predição da litologia, e quanto mais próximo de 0, pior. Na dúvida, basta olhar para o F1-Score visto que o mesmo leva em consideração tanto precisão quanto recall para unificar as métricas."
   ]
  },
  {
   "cell_type": "code",
   "execution_count": null,
   "metadata": {
    "colab": {
     "background_save": true
    },
    "id": "AQmx_BOYkLOd",
    "outputId": "a8380b21-28db-4569-d9e3-62e1980b8be3"
   },
   "outputs": [],
   "source": [
    "print(classification_report(yteste, ab.predict(xteste),\n",
    "                            target_names = lithology_keys.values()))"
   ]
  },
  {
   "cell_type": "markdown",
   "metadata": {
    "id": "FlUtdyTBbw1s"
   },
   "source": [
    "Uma outra forma de observar os resultados individualmente é a matriz de confusão. Execute a célula abaixo e vamos discutir o significado da matriz de confusão e como realizar sua leitura."
   ]
  },
  {
   "cell_type": "code",
   "execution_count": null,
   "metadata": {
    "colab": {
     "background_save": true
    },
    "id": "FYrRByyFkMem",
    "outputId": "8bda9b62-8f00-4119-b3e2-fa3b4e26328d"
   },
   "outputs": [],
   "source": [
    "confusionMatrix = confusion_matrix(yteste, ab.predict(xteste))\n",
    "\n",
    "fig, ax = plt.subplots(1, 1, figsize = (20 , 12))\n",
    "\n",
    "sns.heatmap(confusionMatrix, cmap = 'GnBu', annot = True, square = True,\n",
    "            ax = ax, fmt = 'g')\n",
    "ax.set_xticklabels(list(lithology_keys.values()), rotation = 'vertical')\n",
    "ax.set_yticklabels(list(lithology_keys.values()), rotation = 'horizontal')\n",
    "ax.set_title('Matriz de confusão', fontsize = 14)\n",
    "ax.set_xlabel('Previsto')\n",
    "ax.set_ylabel('Verdadeiro');"
   ]
  },
  {
   "cell_type": "markdown",
   "metadata": {
    "id": "w4ghx4_rbtyK"
   },
   "source": [
    "Esse modelo nos permite obter uma medida da importância de cada variável para realizar a previsão da litologia. Execute a célula abaixo para gerar um gráfico que nos irá mostrar essas informações."
   ]
  },
  {
   "cell_type": "code",
   "execution_count": null,
   "metadata": {
    "colab": {
     "background_save": true
    },
    "id": "n8fSG14DkQcq",
    "outputId": "44a28b21-68d8-40ce-b67e-455fc83266c1"
   },
   "outputs": [],
   "source": [
    "fig, ax = plt.subplots(1, 1, figsize = (20, 10))\n",
    "\n",
    "feature_importances = ab.feature_importances_\n",
    "\n",
    "ax.bar(range(1, len(feature_names) + 1), height = feature_importances, color = 'k');\n",
    "ax.grid(axis = 'y')\n",
    "\n",
    "ax.set_title('Importância de cada variável');\n",
    "ax.set_ylabel('Valor atribuído de importância pela Árvore de Decisão')\n",
    "ax.set_xticks(range(1, len(feature_names) + 1))\n",
    "ax.set_xticklabels(feature_names, rotation = 'vertical')\n",
    "ax.set_xlabel('Variáveis');"
   ]
  },
  {
   "cell_type": "markdown",
   "metadata": {
    "id": "Y30TQgMp9sP8"
   },
   "source": [
    "### Logistic Regression (Regressão Logística)\n",
    "\n",
    "Apesar do seu nome, a regressão logística serve para resolver problemas de classificação. Nesse modelo a saída será um valor variando entre 0 a 1, que indica a probabilidade de determinadas features/variáveis preditoras se referirem a uma certa classe, quando comparada com as demais.\n",
    "\n",
    "\n",
    "<center> \n",
    "A saída esperada será similar à figura abaixo:\n",
    "</center> \n",
    "<figure>\n",
    "<center>\n",
    "<img src='https://developers.google.com/machine-learning/crash-course/images/LogisticRegressionOutput.svg' />\n",
    "<figcaption> O valor de saída ficará entre 0 e 1, indicando a probabilidade de pertencer àquela classe [4]. </figcaption></center>\n",
    "</figure>\n",
    "\n",
    "[Observemos esse vídeo](https://www.youtube.com/watch?v=yIYKR4sgzI8&ab_channel=StatQuestwithJoshStarmer) para entender um pouco mais sobre a ideia por trás desse método.\n",
    "\n",
    "Em seguida, execute as células abaixo para treinar o modelo de Regressão Logística.\n",
    "\n",
    "[[4] - Referência da figura](https://developers.google.com/machine-learning/crash-course/logistic-regression/calculating-a-probability)"
   ]
  },
  {
   "cell_type": "code",
   "execution_count": null,
   "metadata": {
    "colab": {
     "background_save": true
    },
    "id": "UtoplNs99uVQ"
   },
   "outputs": [],
   "source": [
    "from sklearn.linear_model import LogisticRegression"
   ]
  },
  {
   "cell_type": "code",
   "execution_count": null,
   "metadata": {
    "colab": {
     "base_uri": "https://localhost:8080/"
    },
    "executionInfo": {
     "elapsed": 53857,
     "status": "ok",
     "timestamp": 1621470540350,
     "user": {
      "displayName": "Marcos Jacinto",
      "photoUrl": "https://lh3.googleusercontent.com/a-/AOh14GgbcVTAhRu9oGb5IKipaiU_8kupX4M204C8_T4b=s64",
      "userId": "07933679891367927601"
     },
     "user_tz": 180
    },
    "id": "DlUVfkYa-Dkr",
    "outputId": "948f21dd-847a-45eb-a95b-c6e4c7c0c5a3"
   },
   "outputs": [],
   "source": [
    "max_iter = 100\n",
    "\n",
    "lr = LogisticRegression(max_iter = max_iter)\n",
    "start = time.time()\n",
    "lr.fit(xtreino, ytreino)\n",
    "end = time.time()\n",
    "print(f'Treino concluído. Tempo de treino {end - start} s')\n",
    " # Configurar max_iter # Pontuar que quanto mais iterações, mais tempo necessário para treinar, ex 10.000 demora muito"
   ]
  },
  {
   "cell_type": "markdown",
   "metadata": {
    "id": "6HGAO2iNdCRF"
   },
   "source": [
    "Após treinar a célula abaixo nos informará da acurácia do nosso modelo."
   ]
  },
  {
   "cell_type": "code",
   "execution_count": null,
   "metadata": {
    "colab": {
     "base_uri": "https://localhost:8080/"
    },
    "executionInfo": {
     "elapsed": 711,
     "status": "ok",
     "timestamp": 1621470568727,
     "user": {
      "displayName": "Marcos Jacinto",
      "photoUrl": "https://lh3.googleusercontent.com/a-/AOh14GgbcVTAhRu9oGb5IKipaiU_8kupX4M204C8_T4b=s64",
      "userId": "07933679891367927601"
     },
     "user_tz": 180
    },
    "id": "o0ipNbuo_cf5",
    "outputId": "9e6e39e2-2070-4deb-c805-68e3c68daf6a"
   },
   "outputs": [],
   "source": [
    "score = lr.score(xteste, yteste)\n",
    "print(f'O modelo treinado teve uma acurácia de {100*score:.2f}%')"
   ]
  },
  {
   "cell_type": "markdown",
   "metadata": {
    "id": "puskhDRcc5xc"
   },
   "source": [
    "As duas próximas células serão utilizadas para comparar as litologias reais nos poços com as previsões realizadas pelo modelo acima. Selecione um número entre 1 e 96 para ver o respectivo resultado para aquele poço."
   ]
  },
  {
   "cell_type": "code",
   "execution_count": null,
   "metadata": {
    "colab": {
     "base_uri": "https://localhost:8080/",
     "height": 66,
     "referenced_widgets": [
      "b48cd262dea5468584ec735adfeab358",
      "7c2a9cfc4e1842db8aaca221f76e216a",
      "d77f41bbfefe43fe9e3c6e18d9ed9054"
     ]
    },
    "executionInfo": {
     "elapsed": 720,
     "status": "ok",
     "timestamp": 1621470573154,
     "user": {
      "displayName": "Marcos Jacinto",
      "photoUrl": "https://lh3.googleusercontent.com/a-/AOh14GgbcVTAhRu9oGb5IKipaiU_8kupX4M204C8_T4b=s64",
      "userId": "07933679891367927601"
     },
     "user_tz": 180
    },
    "id": "CeNzhzqTaPdG",
    "outputId": "31adc98d-d3ce-40be-d00d-cbed548da40d"
   },
   "outputs": [],
   "source": [
    "numeroDoPocoPred = widgets.IntSlider(min = 1, max = 96, step = 1,\n",
    "                                 description = 'Número do poço')\n",
    "print('Selecione abaixo o número do poço a ser previsto:')\n",
    "display(numeroDoPocoPred)"
   ]
  },
  {
   "cell_type": "code",
   "execution_count": null,
   "metadata": {
    "id": "b11pCCHTaTkm"
   },
   "outputs": [],
   "source": [
    "plotarPredicao(numeroDoPocoPred.value - 1, lr)"
   ]
  },
  {
   "cell_type": "markdown",
   "metadata": {
    "id": "Zc7u9WJecZz8"
   },
   "source": [
    "Devemos lembrar que na estratégia de separação, consideramos todo o conjunto de dados. Logo, alguns poços visualizados acima todos podem conter todo o seu trecho utilizado durante o treino. Isso implica não podermos usá-los como comparativo para avaliar visualmente a performance do nosso modelo. \n",
    "\n",
    "Assim, execute as duas células abaixo para observar somente os dados de teste e suas respectivas previsões, comparando litologia a litologia. Note ainda que essa visualização não reflete de forma alguma estratigrafia ou a disposição das litologias em um poço específico."
   ]
  },
  {
   "cell_type": "code",
   "execution_count": null,
   "metadata": {
    "id": "3YnciuROaWgz"
   },
   "outputs": [],
   "source": [
    "numeroLito = widgets.IntSlider(min = 1, max = 12, step = 1,\n",
    "                                 description = 'Litologia:')\n",
    "print('Escolha um número entre 1 e 12 refere à litologia, para comparação:')\n",
    "display(numeroLito)"
   ]
  },
  {
   "cell_type": "code",
   "execution_count": null,
   "metadata": {
    "id": "VpV03PhaaYIp"
   },
   "outputs": [],
   "source": [
    "plotarTeste(lr, numeroLito.value - 1)"
   ]
  },
  {
   "cell_type": "markdown",
   "metadata": {
    "id": "ZknPka6VcqN6"
   },
   "source": [
    "Vimos acima uma métrica numérica para avaliar a performance do nosso modelo: a acurácia. A acurácia compara o total de acertos com o número de exemplos na nosso conjunto de teste que está sendo avaliado através da fórmula:\n",
    "\n",
    "<center> $ \\frac {Total \\: de \\: acertos} {Total  \\:  de  \\:  exemplos}$ </center>\n",
    "\n",
    "O problema dessa métrica é que ela avalia todas as classes/litologias ao mesmo tempo, mas não nos informa individualmente a eficiência de previsão de uma certa litologia. Por isso, é importante também utilizar as métricas Precisão, Recall e F1-Score, definidas do seguinte modo:\n",
    "\n",
    "<center>\n",
    "Precisão:\n",
    "\n",
    "$ \\frac {Positivos \\: verdadeiros} {Positivos \\: verdadeiros \\: + \\:Falsos \\: verdadeiros}$\n",
    "\n",
    "Recall:\n",
    "\n",
    "$ \\frac {Positivos \\: verdadeiros} {Positivos \\: verdadeiros \\: + \\:Falsos \\: negativos}$\n",
    "\n",
    "F1-Score:\n",
    "\n",
    "$ 2 \\cdot \\frac {Precisao \\:\\cdot\\: Recall} {Precisao \\:+\\: Recall}$\n",
    "\n",
    "</center>\n",
    "\n",
    "Quanto mais próximos de 1, melhor a eficiência de predição da litologia, e quanto mais próximo de 0, pior. Na dúvida, basta olhar para o F1-Score visto que o mesmo leva em consideração tanto precisão quanto recall para unificar as métricas."
   ]
  },
  {
   "cell_type": "code",
   "execution_count": null,
   "metadata": {
    "id": "1Qr-ON88aapx"
   },
   "outputs": [],
   "source": [
    "print(classification_report(yteste, lr.predict(xteste),\n",
    "                            target_names = lithology_keys.values()))"
   ]
  },
  {
   "cell_type": "markdown",
   "metadata": {
    "id": "wovYNJRBcf-L"
   },
   "source": [
    "Uma outra forma de observar os resultados individualmente é a matriz de confusão. Execute a célula abaixo e vamos discutir o significado da matriz de confusão e como realizar sua leitura."
   ]
  },
  {
   "cell_type": "code",
   "execution_count": null,
   "metadata": {
    "id": "FSKuan0IadAt"
   },
   "outputs": [],
   "source": [
    "confusionMatrix = confusion_matrix(yteste, lr.predict(xteste))\n",
    "\n",
    "fig, ax = plt.subplots(1, 1, figsize = (20 , 12))\n",
    "\n",
    "sns.heatmap(confusionMatrix, cmap = 'GnBu', annot = True, square = True,\n",
    "            ax = ax, fmt = 'g')\n",
    "ax.set_xticklabels(list(lithology_keys.values()), rotation = 'vertical')\n",
    "ax.set_yticklabels(list(lithology_keys.values()), rotation = 'horizontal')\n",
    "ax.set_title('Matriz de confusão', fontsize = 14)\n",
    "ax.set_xlabel('Previsto')\n",
    "ax.set_ylabel('Verdadeiro');"
   ]
  },
  {
   "cell_type": "markdown",
   "metadata": {
    "id": "g8no74Gmpd3v"
   },
   "source": [
    "### Redes Neurais: MLP\n",
    "\n",
    "As redes neurais são algoritmos de Machine Learning inspirados no funcionamento dos neurônios e a interconectividade entre os mesmos no cérebro humano. A sua unidade fundamental é o perceptron, como visto na figura abaixo:\n",
    "\n",
    "<center> \n",
    "O perceptron, unidade fundamental em uma rede neural:\n",
    "<figure>\n",
    "<img src='https://miro.medium.com/max/510/1*7pwA1DjBw6JDkwZQecUNiw.png' />\n",
    "<figcaption> Para obter o valor de saída (y), cada valor de entrada Xi é multiplicado por um peso Wi [5]. </figcaption>\n",
    "</center> \n",
    "</figure>\n",
    "\n",
    "A ideia por trás disso não é nova, mas remonta à decada de 1940. Com o avanço computacional foi possível criar estruturas mais complexas, surgindo então o Multi Layer Perceptron (MLP). Veja abaixo sua estrutura e seus componentes.\n",
    "\n",
    "<center> \n",
    "A estrutura de uma rede neural pode ser esquematizada como abaixo:\n",
    "</center> \n",
    "<figure>\n",
    "<center>\n",
    "<img src='https://developers.google.com/machine-learning/crash-course/images/1hidden.svg' />\n",
    "<figcaption> Rede neural com um hidden layer, com três neurônios cada [6]. </figcaption>\n",
    "<img src='https://developers.google.com/machine-learning/crash-course/images/2hidden.svg' />\n",
    "<figcaption> Rede neural com dois hidden layers, com três neurônios cada. Estamos transicionando para Deep Learning nesse caso. [6]. </figcaption></center>\n",
    "</figure>\n",
    "\n",
    "As redes neurais possuem duas fases principais:\n",
    "* Forward Propagation: durante essa fase os valores de entrada (nossas variáveis preditoras) serão multiplicadas pelos seus respectivos pesos, e em seguida passada por uma função de ativação em cada neurônio. Isso se repete para as demais camadas e neurônios da rede, até chegarmos no valor de saída (output);\n",
    "* [Back Propagation](https://www.youtube.com/watch?v=Ilg3gGewQ5U&ab_channel=3Blue1Brown): durante essa fase a rede neural irá calcular uma função chamada função de custo que vai nos informar o quanto a rede neural errou em suas previsões. A partir desse valor, a rede neural irá reajustar os pesos utilizados, buscando minimizar esse erro, e consequentemente, a função de custo. Pode-se entender que a parte ativa do aprendizado nesse algoritmo ocorre nessa fase.\n",
    "\n",
    "[Vamos observar através desse link](https://playground.tensorflow.org/) alguns conceitos relativos a redes neurais antes de realizarmos o nosso treinamento.\n",
    "\n",
    "[[5] - Referência da figura](https://towardsdatascience.com/the-perceptron-3af34c84838c)\n",
    "\n",
    "[[6] - Referência da figura](https://developers.google.com/machine-learning/crash-course/introduction-to-neural-networks/anatomy)"
   ]
  },
  {
   "cell_type": "markdown",
   "metadata": {
    "id": "yciW2n62l7xO"
   },
   "source": [
    "Execute a célula abaixo para criar uma função que irá nos ajudar a construir o nosso modelo de rede neural."
   ]
  },
  {
   "cell_type": "code",
   "execution_count": null,
   "metadata": {
    "executionInfo": {
     "elapsed": 418,
     "status": "ok",
     "timestamp": 1637189046426,
     "user": {
      "displayName": "Marcos Jacinto",
      "photoUrl": "https://lh3.googleusercontent.com/a-/AOh14GgbcVTAhRu9oGb5IKipaiU_8kupX4M204C8_T4b=s64",
      "userId": "07933679891367927601"
     },
     "user_tz": 180
    },
    "id": "pnAi2Jiyd8RJ"
   },
   "outputs": [],
   "source": [
    "def construirModeloNN(neuronios = 16,\n",
    "                      numeroDeCamadas = 0,\n",
    "                      neuronios2 = 32,                      \n",
    "                      saida = 1):\n",
    "  \n",
    "  modelo = Sequential()\n",
    "\n",
    "  modelo.add(Dense(neuronios,\n",
    "                   activation = 'relu',\n",
    "                   input_shape = (xtreino.shape[-1], )\n",
    "                   ))\n",
    "  #modelo.add(Dropout(rate = 0.2))\n",
    "  \n",
    "  for i in range(numeroDeCamadas):\n",
    "    modelo.add(Dense(neuronios2,\n",
    "                   activation = 'relu',\n",
    "                   ))\n",
    "  \n",
    "  modelo.add(Dense(saida,\n",
    "                   activation = 'softmax'))\n",
    "  \n",
    "  modelo.compile(loss = 'categorical_crossentropy',\n",
    "                 optimizer = 'Adam',\n",
    "                 metrics = ['categorical_accuracy'])\n",
    "\n",
    "  return modelo"
   ]
  },
  {
   "cell_type": "markdown",
   "metadata": {
    "id": "dF2mXZTMmBqc"
   },
   "source": [
    "Execute a célula abaixo para escolher o número de camadas ocultas adicionais, o número de neurônios na primeira camada, e o número de neurônios nas camadas adicionais."
   ]
  },
  {
   "cell_type": "code",
   "execution_count": null,
   "metadata": {
    "colab": {
     "base_uri": "https://localhost:8080/",
     "height": 113,
     "referenced_widgets": [
      "0598f3c204334d209e3b22f1ad6b5ae9",
      "1d408215ee64477cac83474159d0b57e",
      "14aef9f3835f4cce95836a3efccd4c0c",
      "99acfee107ad441190cf715006adfbc3",
      "757dbbd3cb87408d9dfee7851ee64732",
      "ffd4f8a46dd24a7ab524f961456d6538",
      "566129d20b04403d89caecc6118a58a7",
      "f6e1c6c8926d493095c09fa9199b00ae",
      "80cb25b8c6e34ba7b0c9d04127b3a871",
      "729f9113cbae4e858a74b4dbcd323309",
      "efe5869381dd4100bbeb274c9113f34d",
      "779cfdae9a3847809a0e152dbf3d21c7",
      "066f0208a3504886abf818d0bdfa4fe7"
     ]
    },
    "executionInfo": {
     "elapsed": 389,
     "status": "ok",
     "timestamp": 1637189048464,
     "user": {
      "displayName": "Marcos Jacinto",
      "photoUrl": "https://lh3.googleusercontent.com/a-/AOh14GgbcVTAhRu9oGb5IKipaiU_8kupX4M204C8_T4b=s64",
      "userId": "07933679891367927601"
     },
     "user_tz": 180
    },
    "id": "lb_S4_EJd9JS",
    "outputId": "fba617d5-4c26-4cab-e781-b1aa8620d7d1"
   },
   "outputs": [],
   "source": [
    "modeloWidget = interactive(construirModeloNN,\n",
    "                           neuronios = widgets.IntSlider(min = 4, max = 256,\n",
    "                                                         step = 8,\n",
    "                                                         description = 'Neurônios-1'),\n",
    "                           numeroDeCamadas = widgets.IntSlider(min = 0, max = 5,\n",
    "                                                          step = 1,\n",
    "                                                          description = 'Camadas Adicionais'),\n",
    "                           neuronios2 = widgets.IntSlider(min = 8, max = 256,\n",
    "                                                          step = 8,\n",
    "                                                          description = 'Neurônios-2'),\n",
    "                           saida = fixed(12))\n",
    "\n",
    "display(modeloWidget)"
   ]
  },
  {
   "cell_type": "markdown",
   "metadata": {
    "id": "z7ihvfAhmLGo"
   },
   "source": [
    "Após escolher as configurações desejadas execute abaixo para criar nosso modelo, e observe as características do mesmo."
   ]
  },
  {
   "cell_type": "code",
   "execution_count": null,
   "metadata": {
    "colab": {
     "base_uri": "https://localhost:8080/"
    },
    "executionInfo": {
     "elapsed": 317,
     "status": "ok",
     "timestamp": 1637189066901,
     "user": {
      "displayName": "Marcos Jacinto",
      "photoUrl": "https://lh3.googleusercontent.com/a-/AOh14GgbcVTAhRu9oGb5IKipaiU_8kupX4M204C8_T4b=s64",
      "userId": "07933679891367927601"
     },
     "user_tz": 180
    },
    "id": "FhYTJPYpeGir",
    "outputId": "71ab59e7-844e-4a98-fa3f-229362bf62c6"
   },
   "outputs": [],
   "source": [
    "modelo = modeloWidget.result\n",
    "modelo.summary()"
   ]
  },
  {
   "cell_type": "markdown",
   "metadata": {
    "id": "nUBYNk6gmVOt"
   },
   "source": [
    "Defina abaixo o número de epochs de treinamento, e quantas amostras serão vistas pela rede neural por vez."
   ]
  },
  {
   "cell_type": "code",
   "execution_count": null,
   "metadata": {
    "colab": {
     "base_uri": "https://localhost:8080/",
     "height": 79,
     "referenced_widgets": [
      "d529cf3fab2a499cbe23afcc3b0e31c5",
      "9f3a450c1bd34528b551c0e280262c40",
      "6b79cfec029d4731aeceedfe98de7ed3",
      "054b0332dd3547209f0056f83db0740d",
      "6e1fd02df5e0407cac7c0bc6667117c7",
      "60046b3be61e4856b0965263314577af"
     ]
    },
    "executionInfo": {
     "elapsed": 296,
     "status": "ok",
     "timestamp": 1637188326476,
     "user": {
      "displayName": "Marcos Jacinto",
      "photoUrl": "https://lh3.googleusercontent.com/a-/AOh14GgbcVTAhRu9oGb5IKipaiU_8kupX4M204C8_T4b=s64",
      "userId": "07933679891367927601"
     },
     "user_tz": 180
    },
    "id": "kZRULualerAE",
    "outputId": "92d7f296-0ffc-4799-be7c-d3a22462b094"
   },
   "outputs": [],
   "source": [
    "epochsWidget = widgets.IntSlider(min = 10, max = 100, step = 10,\n",
    "                                 description = 'Num. Epochs')\n",
    "batchWidget = widgets.IntSlider(min = 32, max = 1024, step = 32,\n",
    "                                description = 'Tam. Batch')\n",
    "\n",
    "display(epochsWidget, batchWidget)"
   ]
  },
  {
   "cell_type": "markdown",
   "metadata": {
    "id": "cZ7mKH4VmbFf"
   },
   "source": [
    "Execute abaixo para iniciar o treinamento."
   ]
  },
  {
   "cell_type": "code",
   "execution_count": null,
   "metadata": {
    "colab": {
     "base_uri": "https://localhost:8080/",
     "height": 357
    },
    "executionInfo": {
     "elapsed": 282,
     "status": "error",
     "timestamp": 1637189126880,
     "user": {
      "displayName": "Marcos Jacinto",
      "photoUrl": "https://lh3.googleusercontent.com/a-/AOh14GgbcVTAhRu9oGb5IKipaiU_8kupX4M204C8_T4b=s64",
      "userId": "07933679891367927601"
     },
     "user_tz": 180
    },
    "id": "CRB9XMdoewk0",
    "outputId": "6eb280a3-d704-4bb2-a930-48ccef73650f"
   },
   "outputs": [],
   "source": [
    "EPOCHS = epochsWidget.value\n",
    "BATCH_SIZE = batchWidget.value\n",
    "\n",
    "ytreino_onehot = tf.one_hot(ytreino, 12)\n",
    "yteste_onehot = tf.one_hot(yteste, 12)\n",
    "\n",
    "modelo.fit(xtreino, ytreino_onehot, epochs = EPOCHS, batch_size = BATCH_SIZE,\n",
    "           validation_data = (xteste, yteste_onehot))"
   ]
  },
  {
   "cell_type": "markdown",
   "metadata": {
    "id": "7rThDRtwdYje"
   },
   "source": [
    "Após treinar a célula abaixo nos informará da acurácia do nosso modelo."
   ]
  },
  {
   "cell_type": "code",
   "execution_count": null,
   "metadata": {
    "colab": {
     "base_uri": "https://localhost:8080/"
    },
    "executionInfo": {
     "elapsed": 3894,
     "status": "ok",
     "timestamp": 1637188387344,
     "user": {
      "displayName": "Marcos Jacinto",
      "photoUrl": "https://lh3.googleusercontent.com/a-/AOh14GgbcVTAhRu9oGb5IKipaiU_8kupX4M204C8_T4b=s64",
      "userId": "07933679891367927601"
     },
     "user_tz": 180
    },
    "id": "jcoLBNLfNQYz",
    "outputId": "94d1ceae-922a-4ec3-9073-49b0717d8153"
   },
   "outputs": [],
   "source": [
    "score = modelo.evaluate(xteste, yteste_onehot, return_dict = True)['categorical_accuracy']\n",
    "print(f'O modelo treinado teve uma acurácia de {100*(score):.2f}%')"
   ]
  },
  {
   "cell_type": "markdown",
   "metadata": {
    "id": "CHPzftWtdpXr"
   },
   "source": [
    "As duas próximas células serão utilizadas para comparar as litologias reais nos poços com as previsões realizadas pelo modelo acima. Selecione um número entre 1 e 96 para ver o respectivo resultado para aquele poço.\n",
    "\n"
   ]
  },
  {
   "cell_type": "code",
   "execution_count": null,
   "metadata": {
    "colab": {
     "base_uri": "https://localhost:8080/",
     "height": 66,
     "referenced_widgets": [
      "054e5a095f8b4b0082575f829b2ec4b2",
      "f142504236c6425c91358872bf044ea9",
      "99007fe97ef24e0e8e43675da9ad3113"
     ]
    },
    "executionInfo": {
     "elapsed": 10,
     "status": "ok",
     "timestamp": 1637188387345,
     "user": {
      "displayName": "Marcos Jacinto",
      "photoUrl": "https://lh3.googleusercontent.com/a-/AOh14GgbcVTAhRu9oGb5IKipaiU_8kupX4M204C8_T4b=s64",
      "userId": "07933679891367927601"
     },
     "user_tz": 180
    },
    "id": "Uz69Gh3bdlF8",
    "outputId": "20597b8e-a287-4871-91ac-b42a9dde9f9d"
   },
   "outputs": [],
   "source": [
    "numeroDoPocoPred = widgets.IntSlider(min = 1, max = 96, step = 1,\n",
    "                                 description = 'Número do poço')\n",
    "print('Selecione abaixo o número do poço a ser previsto:')\n",
    "display(numeroDoPocoPred)"
   ]
  },
  {
   "cell_type": "code",
   "execution_count": null,
   "metadata": {
    "colab": {
     "base_uri": "https://localhost:8080/",
     "height": 972
    },
    "executionInfo": {
     "elapsed": 910,
     "status": "error",
     "timestamp": 1637188388248,
     "user": {
      "displayName": "Marcos Jacinto",
      "photoUrl": "https://lh3.googleusercontent.com/a-/AOh14GgbcVTAhRu9oGb5IKipaiU_8kupX4M204C8_T4b=s64",
      "userId": "07933679891367927601"
     },
     "user_tz": 180
    },
    "id": "ZlitZLDHdoT4",
    "outputId": "d0ab759b-c5c5-4c00-d3a8-afef18f79f0c"
   },
   "outputs": [],
   "source": [
    "plotarPredicao(numeroDoPocoPred.value - 1, modelo, redeNeural = True)"
   ]
  },
  {
   "cell_type": "markdown",
   "metadata": {
    "id": "wTv2Zx0HdoY1"
   },
   "source": [
    "Devemos lembrar que na estratégia de separação, consideramos todo o conjunto de dados. Logo, alguns poços visualizados acima todos podem conter todo o seu trecho utilizado durante o treino. Isso implica não podermos usá-los como comparativo para avaliar visualmente a performance do nosso modelo. \n",
    "\n",
    "Assim, execute as duas células abaixo para observar somente os dados de teste e suas respectivas previsões, comparando litologia a litologia. Note ainda que essa visualização não reflete de forma alguma estratigrafia ou a disposição das litologias em um poço específico."
   ]
  },
  {
   "cell_type": "code",
   "execution_count": null,
   "metadata": {
    "colab": {
     "base_uri": "https://localhost:8080/",
     "height": 66,
     "referenced_widgets": [
      "439dda01daff4eceadfe1741d64ad916",
      "0b704849213c448dba10af5ab4d3b953",
      "f757e2dbe7774b699cfd186fbe3dd4d1"
     ]
    },
    "executionInfo": {
     "elapsed": 276,
     "status": "ok",
     "timestamp": 1637188396335,
     "user": {
      "displayName": "Marcos Jacinto",
      "photoUrl": "https://lh3.googleusercontent.com/a-/AOh14GgbcVTAhRu9oGb5IKipaiU_8kupX4M204C8_T4b=s64",
      "userId": "07933679891367927601"
     },
     "user_tz": 180
    },
    "id": "FmX5s-PIdx7U",
    "outputId": "33dd6657-7a39-492d-c128-00b35cfcacec"
   },
   "outputs": [],
   "source": [
    "numeroLito = widgets.IntSlider(min = 1, max = 12, step = 1,\n",
    "                                 description = 'Litologia:')\n",
    "print('Escolha um número entre 1 e 12 refere à litologia, para comparação:')\n",
    "display(numeroLito)"
   ]
  },
  {
   "cell_type": "code",
   "execution_count": null,
   "metadata": {
    "colab": {
     "base_uri": "https://localhost:8080/",
     "height": 1000
    },
    "executionInfo": {
     "elapsed": 5862,
     "status": "error",
     "timestamp": 1637188404586,
     "user": {
      "displayName": "Marcos Jacinto",
      "photoUrl": "https://lh3.googleusercontent.com/a-/AOh14GgbcVTAhRu9oGb5IKipaiU_8kupX4M204C8_T4b=s64",
      "userId": "07933679891367927601"
     },
     "user_tz": 180
    },
    "id": "d6EDUJuTdvFN",
    "outputId": "49d031ed-34fc-4eda-b39a-17099a53b1cc"
   },
   "outputs": [],
   "source": [
    "plotarTeste(modelo, numeroLito.value - 1, redeNeural = True)"
   ]
  },
  {
   "cell_type": "markdown",
   "metadata": {
    "id": "NrOKjMZwdmwb"
   },
   "source": [
    "Vimos acima uma métrica numérica para avaliar a performance do nosso modelo: a acurácia. A acurácia compara o total de acertos com o número de exemplos na nosso conjunto de teste que está sendo avaliado através da fórmula:\n",
    "\n",
    "<center> $ \\frac {Total \\: de \\: acertos} {Total  \\:  de  \\:  exemplos}$ </center>\n",
    "\n",
    "O problema dessa métrica é que ela avalia todas as classes/litologias ao mesmo tempo, mas não nos informa individualmente a eficiência de previsão de uma certa litologia. Por isso, é importante também utilizar as métricas Precisão, Recall e F1-Score, definidas do seguinte modo:\n",
    "\n",
    "<center>\n",
    "Precisão:\n",
    "\n",
    "$ \\frac {Positivos \\: verdadeiros} {Positivos \\: verdadeiros \\: + \\:Falsos \\: verdadeiros}$\n",
    "\n",
    "Recall:\n",
    "\n",
    "$ \\frac {Positivos \\: verdadeiros} {Positivos \\: verdadeiros \\: + \\:Falsos \\: negativos}$\n",
    "\n",
    "F1-Score:\n",
    "\n",
    "$ 2 \\cdot \\frac {Precisao \\:\\cdot\\: Recall} {Precisao \\:+\\: Recall}$\n",
    "\n",
    "</center>\n",
    "\n",
    "Quanto mais próximos de 1, melhor a eficiência de predição da litologia, e quanto mais próximo de 0, pior. Na dúvida, basta olhar para o F1-Score visto que o mesmo leva em consideração tanto precisão quanto recall para unificar as métricas."
   ]
  },
  {
   "cell_type": "code",
   "execution_count": null,
   "metadata": {
    "executionInfo": {
     "elapsed": 6,
     "status": "aborted",
     "timestamp": 1637188404586,
     "user": {
      "displayName": "Marcos Jacinto",
      "photoUrl": "https://lh3.googleusercontent.com/a-/AOh14GgbcVTAhRu9oGb5IKipaiU_8kupX4M204C8_T4b=s64",
      "userId": "07933679891367927601"
     },
     "user_tz": 180
    },
    "id": "IXuW8B0Od3gj"
   },
   "outputs": [],
   "source": [
    "print(classification_report(yteste, np.argmax(modelo.predict(xteste), axis = 1),\n",
    "                            target_names = lithology_keys.values()))"
   ]
  },
  {
   "cell_type": "markdown",
   "metadata": {
    "id": "gh5tKvaQdhxP"
   },
   "source": [
    "Uma outra forma de observar os resultados individualmente é a matriz de confusão. Execute a célula abaixo e vamos discutir o significado da matriz de confusão e como realizar sua leitura."
   ]
  },
  {
   "cell_type": "code",
   "execution_count": null,
   "metadata": {
    "colab": {
     "base_uri": "https://localhost:8080/",
     "height": 914
    },
    "executionInfo": {
     "elapsed": 6414,
     "status": "error",
     "timestamp": 1637188410996,
     "user": {
      "displayName": "Marcos Jacinto",
      "photoUrl": "https://lh3.googleusercontent.com/a-/AOh14GgbcVTAhRu9oGb5IKipaiU_8kupX4M204C8_T4b=s64",
      "userId": "07933679891367927601"
     },
     "user_tz": 180
    },
    "id": "EbKZkj47eABb",
    "outputId": "e65703f5-829a-4d72-e812-62c870d493c0"
   },
   "outputs": [],
   "source": [
    "confusionMatrix = confusion_matrix(yteste, np.argmax(modelo.predict(xteste), axis = 1))\n",
    "\n",
    "fig, ax = plt.subplots(1, 1, figsize = (20 , 12))\n",
    "\n",
    "sns.heatmap(confusionMatrix, cmap = 'GnBu', annot = True, square = True,\n",
    "            ax = ax, fmt = 'g')\n",
    "ax.set_xticklabels(list(lithology_keys.values()), rotation = 'vertical')\n",
    "ax.set_yticklabels(list(lithology_keys.values()), rotation = 'horizontal')\n",
    "ax.set_title('Matriz de confusão', fontsize = 14)\n",
    "ax.set_xlabel('Previsto')\n",
    "ax.set_ylabel('Verdadeiro');"
   ]
  },
  {
   "cell_type": "markdown",
   "metadata": {
    "id": "x5s2wMO2Jik-"
   },
   "source": [
    "## E agora, o que fazer com o modelo pronto?\n",
    "\n",
    "Dependendo dos resultados obtidos, o que fazer com o modelo pronto vai depender em que segmento estamos: academia ou indústria. Caso os resultados não foram positivos, a modelagem ou mesmo os dados devem ser revistos. Vamos tentar disuctir alguns possíveis pontos."
   ]
  },
  {
   "cell_type": "code",
   "execution_count": null,
   "metadata": {
    "executionInfo": {
     "elapsed": 273,
     "status": "ok",
     "timestamp": 1637188479585,
     "user": {
      "displayName": "Marcos Jacinto",
      "photoUrl": "https://lh3.googleusercontent.com/a-/AOh14GgbcVTAhRu9oGb5IKipaiU_8kupX4M204C8_T4b=s64",
      "userId": "07933679891367927601"
     },
     "user_tz": 180
    },
    "id": "m6R4lExOCP90"
   },
   "outputs": [],
   "source": [
    "modelo.save('litho_pred.h5')"
   ]
  }
 ],
 "metadata": {
  "colab": {
   "authorship_tag": "ABX9TyMhYtk97f9xLyVS9kn8HTQD",
   "collapsed_sections": [],
   "mount_file_id": "1uQ46G4nf2YjImEBZmjNRwWtJQu4SeCvF",
   "name": "Introdução a Machine Learning nas Goeciências.ipynb",
   "provenance": [],
   "toc_visible": true
  },
  "kernelspec": {
   "display_name": "Python 3 (ipykernel)",
   "language": "python",
   "name": "python3"
  },
  "language_info": {
   "codemirror_mode": {
    "name": "ipython",
    "version": 3
   },
   "file_extension": ".py",
   "mimetype": "text/x-python",
   "name": "python",
   "nbconvert_exporter": "python",
   "pygments_lexer": "ipython3",
   "version": "3.9.10"
  },
  "widgets": {
   "application/vnd.jupyter.widget-state+json": {
    "054b0332dd3547209f0056f83db0740d": {
     "model_module": "@jupyter-widgets/controls",
     "model_module_version": "1.5.0",
     "model_name": "IntSliderModel",
     "state": {
      "_dom_classes": [],
      "_model_module": "@jupyter-widgets/controls",
      "_model_module_version": "1.5.0",
      "_model_name": "IntSliderModel",
      "_view_count": null,
      "_view_module": "@jupyter-widgets/controls",
      "_view_module_version": "1.5.0",
      "_view_name": "IntSliderView",
      "continuous_update": true,
      "description": "Tam. Batch",
      "description_tooltip": null,
      "disabled": false,
      "layout": "IPY_MODEL_60046b3be61e4856b0965263314577af",
      "max": 1024,
      "min": 32,
      "orientation": "horizontal",
      "readout": true,
      "readout_format": "d",
      "step": 32,
      "style": "IPY_MODEL_6e1fd02df5e0407cac7c0bc6667117c7",
      "value": 1024
     }
    },
    "054e5a095f8b4b0082575f829b2ec4b2": {
     "model_module": "@jupyter-widgets/controls",
     "model_module_version": "1.5.0",
     "model_name": "IntSliderModel",
     "state": {
      "_dom_classes": [],
      "_model_module": "@jupyter-widgets/controls",
      "_model_module_version": "1.5.0",
      "_model_name": "IntSliderModel",
      "_view_count": null,
      "_view_module": "@jupyter-widgets/controls",
      "_view_module_version": "1.5.0",
      "_view_name": "IntSliderView",
      "continuous_update": true,
      "description": "Número do poço",
      "description_tooltip": null,
      "disabled": false,
      "layout": "IPY_MODEL_99007fe97ef24e0e8e43675da9ad3113",
      "max": 96,
      "min": 1,
      "orientation": "horizontal",
      "readout": true,
      "readout_format": "d",
      "step": 1,
      "style": "IPY_MODEL_f142504236c6425c91358872bf044ea9",
      "value": 1
     }
    },
    "0598f3c204334d209e3b22f1ad6b5ae9": {
     "model_module": "@jupyter-widgets/controls",
     "model_module_version": "1.5.0",
     "model_name": "VBoxModel",
     "state": {
      "_dom_classes": [
       "widget-interact"
      ],
      "_model_module": "@jupyter-widgets/controls",
      "_model_module_version": "1.5.0",
      "_model_name": "VBoxModel",
      "_view_count": null,
      "_view_module": "@jupyter-widgets/controls",
      "_view_module_version": "1.5.0",
      "_view_name": "VBoxView",
      "box_style": "",
      "children": [
       "IPY_MODEL_14aef9f3835f4cce95836a3efccd4c0c",
       "IPY_MODEL_99acfee107ad441190cf715006adfbc3",
       "IPY_MODEL_757dbbd3cb87408d9dfee7851ee64732",
       "IPY_MODEL_ffd4f8a46dd24a7ab524f961456d6538"
      ],
      "layout": "IPY_MODEL_1d408215ee64477cac83474159d0b57e"
     }
    },
    "066f0208a3504886abf818d0bdfa4fe7": {
     "model_module": "@jupyter-widgets/base",
     "model_module_version": "1.2.0",
     "model_name": "LayoutModel",
     "state": {
      "_model_module": "@jupyter-widgets/base",
      "_model_module_version": "1.2.0",
      "_model_name": "LayoutModel",
      "_view_count": null,
      "_view_module": "@jupyter-widgets/base",
      "_view_module_version": "1.2.0",
      "_view_name": "LayoutView",
      "align_content": null,
      "align_items": null,
      "align_self": null,
      "border": null,
      "bottom": null,
      "display": null,
      "flex": null,
      "flex_flow": null,
      "grid_area": null,
      "grid_auto_columns": null,
      "grid_auto_flow": null,
      "grid_auto_rows": null,
      "grid_column": null,
      "grid_gap": null,
      "grid_row": null,
      "grid_template_areas": null,
      "grid_template_columns": null,
      "grid_template_rows": null,
      "height": null,
      "justify_content": null,
      "justify_items": null,
      "left": null,
      "margin": null,
      "max_height": null,
      "max_width": null,
      "min_height": null,
      "min_width": null,
      "object_fit": null,
      "object_position": null,
      "order": null,
      "overflow": null,
      "overflow_x": null,
      "overflow_y": null,
      "padding": null,
      "right": null,
      "top": null,
      "visibility": null,
      "width": null
     }
    },
    "0b704849213c448dba10af5ab4d3b953": {
     "model_module": "@jupyter-widgets/controls",
     "model_module_version": "1.5.0",
     "model_name": "SliderStyleModel",
     "state": {
      "_model_module": "@jupyter-widgets/controls",
      "_model_module_version": "1.5.0",
      "_model_name": "SliderStyleModel",
      "_view_count": null,
      "_view_module": "@jupyter-widgets/base",
      "_view_module_version": "1.2.0",
      "_view_name": "StyleView",
      "description_width": "",
      "handle_color": null
     }
    },
    "14aef9f3835f4cce95836a3efccd4c0c": {
     "model_module": "@jupyter-widgets/controls",
     "model_module_version": "1.5.0",
     "model_name": "IntSliderModel",
     "state": {
      "_dom_classes": [],
      "_model_module": "@jupyter-widgets/controls",
      "_model_module_version": "1.5.0",
      "_model_name": "IntSliderModel",
      "_view_count": null,
      "_view_module": "@jupyter-widgets/controls",
      "_view_module_version": "1.5.0",
      "_view_name": "IntSliderView",
      "continuous_update": true,
      "description": "Neurônios-1",
      "description_tooltip": null,
      "disabled": false,
      "layout": "IPY_MODEL_f6e1c6c8926d493095c09fa9199b00ae",
      "max": 256,
      "min": 4,
      "orientation": "horizontal",
      "readout": true,
      "readout_format": "d",
      "step": 8,
      "style": "IPY_MODEL_566129d20b04403d89caecc6118a58a7",
      "value": 68
     }
    },
    "1cd2ac0def9c41d091a7ac6db6d1baad": {
     "model_module": "@jupyter-widgets/base",
     "model_module_version": "1.2.0",
     "model_name": "LayoutModel",
     "state": {
      "_model_module": "@jupyter-widgets/base",
      "_model_module_version": "1.2.0",
      "_model_name": "LayoutModel",
      "_view_count": null,
      "_view_module": "@jupyter-widgets/base",
      "_view_module_version": "1.2.0",
      "_view_name": "LayoutView",
      "align_content": null,
      "align_items": null,
      "align_self": null,
      "border": null,
      "bottom": null,
      "display": null,
      "flex": null,
      "flex_flow": null,
      "grid_area": null,
      "grid_auto_columns": null,
      "grid_auto_flow": null,
      "grid_auto_rows": null,
      "grid_column": null,
      "grid_gap": null,
      "grid_row": null,
      "grid_template_areas": null,
      "grid_template_columns": null,
      "grid_template_rows": null,
      "height": null,
      "justify_content": null,
      "justify_items": null,
      "left": null,
      "margin": null,
      "max_height": null,
      "max_width": null,
      "min_height": null,
      "min_width": null,
      "object_fit": null,
      "object_position": null,
      "order": null,
      "overflow": null,
      "overflow_x": null,
      "overflow_y": null,
      "padding": null,
      "right": null,
      "top": null,
      "visibility": null,
      "width": null
     }
    },
    "1d408215ee64477cac83474159d0b57e": {
     "model_module": "@jupyter-widgets/base",
     "model_module_version": "1.2.0",
     "model_name": "LayoutModel",
     "state": {
      "_model_module": "@jupyter-widgets/base",
      "_model_module_version": "1.2.0",
      "_model_name": "LayoutModel",
      "_view_count": null,
      "_view_module": "@jupyter-widgets/base",
      "_view_module_version": "1.2.0",
      "_view_name": "LayoutView",
      "align_content": null,
      "align_items": null,
      "align_self": null,
      "border": null,
      "bottom": null,
      "display": null,
      "flex": null,
      "flex_flow": null,
      "grid_area": null,
      "grid_auto_columns": null,
      "grid_auto_flow": null,
      "grid_auto_rows": null,
      "grid_column": null,
      "grid_gap": null,
      "grid_row": null,
      "grid_template_areas": null,
      "grid_template_columns": null,
      "grid_template_rows": null,
      "height": null,
      "justify_content": null,
      "justify_items": null,
      "left": null,
      "margin": null,
      "max_height": null,
      "max_width": null,
      "min_height": null,
      "min_width": null,
      "object_fit": null,
      "object_position": null,
      "order": null,
      "overflow": null,
      "overflow_x": null,
      "overflow_y": null,
      "padding": null,
      "right": null,
      "top": null,
      "visibility": null,
      "width": null
     }
    },
    "3403d626de6f402ab9e944019f15ac46": {
     "model_module": "@jupyter-widgets/controls",
     "model_module_version": "1.5.0",
     "model_name": "SliderStyleModel",
     "state": {
      "_model_module": "@jupyter-widgets/controls",
      "_model_module_version": "1.5.0",
      "_model_name": "SliderStyleModel",
      "_view_count": null,
      "_view_module": "@jupyter-widgets/base",
      "_view_module_version": "1.2.0",
      "_view_name": "StyleView",
      "description_width": "",
      "handle_color": null
     }
    },
    "3731d8f01c7b4804b2090d69c1b4e567": {
     "model_module": "@jupyter-widgets/controls",
     "model_module_version": "1.5.0",
     "model_name": "IntSliderModel",
     "state": {
      "_dom_classes": [],
      "_model_module": "@jupyter-widgets/controls",
      "_model_module_version": "1.5.0",
      "_model_name": "IntSliderModel",
      "_view_count": null,
      "_view_module": "@jupyter-widgets/controls",
      "_view_module_version": "1.5.0",
      "_view_name": "IntSliderView",
      "continuous_update": true,
      "description": "Número do poço",
      "description_tooltip": null,
      "disabled": false,
      "layout": "IPY_MODEL_80a025a1efc5486caf650b0b7c80fa5c",
      "max": 96,
      "min": 1,
      "orientation": "horizontal",
      "readout": true,
      "readout_format": "d",
      "step": 1,
      "style": "IPY_MODEL_fe0c47077ed146029d87c01e4f03e003",
      "value": 42
     }
    },
    "439dda01daff4eceadfe1741d64ad916": {
     "model_module": "@jupyter-widgets/controls",
     "model_module_version": "1.5.0",
     "model_name": "IntSliderModel",
     "state": {
      "_dom_classes": [],
      "_model_module": "@jupyter-widgets/controls",
      "_model_module_version": "1.5.0",
      "_model_name": "IntSliderModel",
      "_view_count": null,
      "_view_module": "@jupyter-widgets/controls",
      "_view_module_version": "1.5.0",
      "_view_name": "IntSliderView",
      "continuous_update": true,
      "description": "Litologia:",
      "description_tooltip": null,
      "disabled": false,
      "layout": "IPY_MODEL_f757e2dbe7774b699cfd186fbe3dd4d1",
      "max": 12,
      "min": 1,
      "orientation": "horizontal",
      "readout": true,
      "readout_format": "d",
      "step": 1,
      "style": "IPY_MODEL_0b704849213c448dba10af5ab4d3b953",
      "value": 1
     }
    },
    "46636ef61ed94531abf5d1aaa3d5f283": {
     "model_module": "@jupyter-widgets/base",
     "model_module_version": "1.2.0",
     "model_name": "LayoutModel",
     "state": {
      "_model_module": "@jupyter-widgets/base",
      "_model_module_version": "1.2.0",
      "_model_name": "LayoutModel",
      "_view_count": null,
      "_view_module": "@jupyter-widgets/base",
      "_view_module_version": "1.2.0",
      "_view_name": "LayoutView",
      "align_content": null,
      "align_items": null,
      "align_self": null,
      "border": null,
      "bottom": null,
      "display": null,
      "flex": null,
      "flex_flow": null,
      "grid_area": null,
      "grid_auto_columns": null,
      "grid_auto_flow": null,
      "grid_auto_rows": null,
      "grid_column": null,
      "grid_gap": null,
      "grid_row": null,
      "grid_template_areas": null,
      "grid_template_columns": null,
      "grid_template_rows": null,
      "height": null,
      "justify_content": null,
      "justify_items": null,
      "left": null,
      "margin": null,
      "max_height": null,
      "max_width": null,
      "min_height": null,
      "min_width": null,
      "object_fit": null,
      "object_position": null,
      "order": null,
      "overflow": null,
      "overflow_x": null,
      "overflow_y": null,
      "padding": null,
      "right": null,
      "top": null,
      "visibility": null,
      "width": null
     }
    },
    "4de7397cd9e248d69154adeac764dad3": {
     "model_module": "@jupyter-widgets/base",
     "model_module_version": "1.2.0",
     "model_name": "LayoutModel",
     "state": {
      "_model_module": "@jupyter-widgets/base",
      "_model_module_version": "1.2.0",
      "_model_name": "LayoutModel",
      "_view_count": null,
      "_view_module": "@jupyter-widgets/base",
      "_view_module_version": "1.2.0",
      "_view_name": "LayoutView",
      "align_content": null,
      "align_items": null,
      "align_self": null,
      "border": null,
      "bottom": null,
      "display": null,
      "flex": null,
      "flex_flow": null,
      "grid_area": null,
      "grid_auto_columns": null,
      "grid_auto_flow": null,
      "grid_auto_rows": null,
      "grid_column": null,
      "grid_gap": null,
      "grid_row": null,
      "grid_template_areas": null,
      "grid_template_columns": null,
      "grid_template_rows": null,
      "height": null,
      "justify_content": null,
      "justify_items": null,
      "left": null,
      "margin": null,
      "max_height": null,
      "max_width": null,
      "min_height": null,
      "min_width": null,
      "object_fit": null,
      "object_position": null,
      "order": null,
      "overflow": null,
      "overflow_x": null,
      "overflow_y": null,
      "padding": null,
      "right": null,
      "top": null,
      "visibility": null,
      "width": null
     }
    },
    "566129d20b04403d89caecc6118a58a7": {
     "model_module": "@jupyter-widgets/controls",
     "model_module_version": "1.5.0",
     "model_name": "SliderStyleModel",
     "state": {
      "_model_module": "@jupyter-widgets/controls",
      "_model_module_version": "1.5.0",
      "_model_name": "SliderStyleModel",
      "_view_count": null,
      "_view_module": "@jupyter-widgets/base",
      "_view_module_version": "1.2.0",
      "_view_name": "StyleView",
      "description_width": "",
      "handle_color": null
     }
    },
    "5a36a58d148a4a728bf1876fd018a00d": {
     "model_module": "@jupyter-widgets/controls",
     "model_module_version": "1.5.0",
     "model_name": "SliderStyleModel",
     "state": {
      "_model_module": "@jupyter-widgets/controls",
      "_model_module_version": "1.5.0",
      "_model_name": "SliderStyleModel",
      "_view_count": null,
      "_view_module": "@jupyter-widgets/base",
      "_view_module_version": "1.2.0",
      "_view_name": "StyleView",
      "description_width": "",
      "handle_color": null
     }
    },
    "60046b3be61e4856b0965263314577af": {
     "model_module": "@jupyter-widgets/base",
     "model_module_version": "1.2.0",
     "model_name": "LayoutModel",
     "state": {
      "_model_module": "@jupyter-widgets/base",
      "_model_module_version": "1.2.0",
      "_model_name": "LayoutModel",
      "_view_count": null,
      "_view_module": "@jupyter-widgets/base",
      "_view_module_version": "1.2.0",
      "_view_name": "LayoutView",
      "align_content": null,
      "align_items": null,
      "align_self": null,
      "border": null,
      "bottom": null,
      "display": null,
      "flex": null,
      "flex_flow": null,
      "grid_area": null,
      "grid_auto_columns": null,
      "grid_auto_flow": null,
      "grid_auto_rows": null,
      "grid_column": null,
      "grid_gap": null,
      "grid_row": null,
      "grid_template_areas": null,
      "grid_template_columns": null,
      "grid_template_rows": null,
      "height": null,
      "justify_content": null,
      "justify_items": null,
      "left": null,
      "margin": null,
      "max_height": null,
      "max_width": null,
      "min_height": null,
      "min_width": null,
      "object_fit": null,
      "object_position": null,
      "order": null,
      "overflow": null,
      "overflow_x": null,
      "overflow_y": null,
      "padding": null,
      "right": null,
      "top": null,
      "visibility": null,
      "width": null
     }
    },
    "6b79cfec029d4731aeceedfe98de7ed3": {
     "model_module": "@jupyter-widgets/base",
     "model_module_version": "1.2.0",
     "model_name": "LayoutModel",
     "state": {
      "_model_module": "@jupyter-widgets/base",
      "_model_module_version": "1.2.0",
      "_model_name": "LayoutModel",
      "_view_count": null,
      "_view_module": "@jupyter-widgets/base",
      "_view_module_version": "1.2.0",
      "_view_name": "LayoutView",
      "align_content": null,
      "align_items": null,
      "align_self": null,
      "border": null,
      "bottom": null,
      "display": null,
      "flex": null,
      "flex_flow": null,
      "grid_area": null,
      "grid_auto_columns": null,
      "grid_auto_flow": null,
      "grid_auto_rows": null,
      "grid_column": null,
      "grid_gap": null,
      "grid_row": null,
      "grid_template_areas": null,
      "grid_template_columns": null,
      "grid_template_rows": null,
      "height": null,
      "justify_content": null,
      "justify_items": null,
      "left": null,
      "margin": null,
      "max_height": null,
      "max_width": null,
      "min_height": null,
      "min_width": null,
      "object_fit": null,
      "object_position": null,
      "order": null,
      "overflow": null,
      "overflow_x": null,
      "overflow_y": null,
      "padding": null,
      "right": null,
      "top": null,
      "visibility": null,
      "width": null
     }
    },
    "6e1fd02df5e0407cac7c0bc6667117c7": {
     "model_module": "@jupyter-widgets/controls",
     "model_module_version": "1.5.0",
     "model_name": "SliderStyleModel",
     "state": {
      "_model_module": "@jupyter-widgets/controls",
      "_model_module_version": "1.5.0",
      "_model_name": "SliderStyleModel",
      "_view_count": null,
      "_view_module": "@jupyter-widgets/base",
      "_view_module_version": "1.2.0",
      "_view_name": "StyleView",
      "description_width": "",
      "handle_color": null
     }
    },
    "729f9113cbae4e858a74b4dbcd323309": {
     "model_module": "@jupyter-widgets/base",
     "model_module_version": "1.2.0",
     "model_name": "LayoutModel",
     "state": {
      "_model_module": "@jupyter-widgets/base",
      "_model_module_version": "1.2.0",
      "_model_name": "LayoutModel",
      "_view_count": null,
      "_view_module": "@jupyter-widgets/base",
      "_view_module_version": "1.2.0",
      "_view_name": "LayoutView",
      "align_content": null,
      "align_items": null,
      "align_self": null,
      "border": null,
      "bottom": null,
      "display": null,
      "flex": null,
      "flex_flow": null,
      "grid_area": null,
      "grid_auto_columns": null,
      "grid_auto_flow": null,
      "grid_auto_rows": null,
      "grid_column": null,
      "grid_gap": null,
      "grid_row": null,
      "grid_template_areas": null,
      "grid_template_columns": null,
      "grid_template_rows": null,
      "height": null,
      "justify_content": null,
      "justify_items": null,
      "left": null,
      "margin": null,
      "max_height": null,
      "max_width": null,
      "min_height": null,
      "min_width": null,
      "object_fit": null,
      "object_position": null,
      "order": null,
      "overflow": null,
      "overflow_x": null,
      "overflow_y": null,
      "padding": null,
      "right": null,
      "top": null,
      "visibility": null,
      "width": null
     }
    },
    "757dbbd3cb87408d9dfee7851ee64732": {
     "model_module": "@jupyter-widgets/controls",
     "model_module_version": "1.5.0",
     "model_name": "IntSliderModel",
     "state": {
      "_dom_classes": [],
      "_model_module": "@jupyter-widgets/controls",
      "_model_module_version": "1.5.0",
      "_model_name": "IntSliderModel",
      "_view_count": null,
      "_view_module": "@jupyter-widgets/controls",
      "_view_module_version": "1.5.0",
      "_view_name": "IntSliderView",
      "continuous_update": true,
      "description": "Neurônios-2",
      "description_tooltip": null,
      "disabled": false,
      "layout": "IPY_MODEL_779cfdae9a3847809a0e152dbf3d21c7",
      "max": 256,
      "min": 8,
      "orientation": "horizontal",
      "readout": true,
      "readout_format": "d",
      "step": 8,
      "style": "IPY_MODEL_efe5869381dd4100bbeb274c9113f34d",
      "value": 32
     }
    },
    "779cfdae9a3847809a0e152dbf3d21c7": {
     "model_module": "@jupyter-widgets/base",
     "model_module_version": "1.2.0",
     "model_name": "LayoutModel",
     "state": {
      "_model_module": "@jupyter-widgets/base",
      "_model_module_version": "1.2.0",
      "_model_name": "LayoutModel",
      "_view_count": null,
      "_view_module": "@jupyter-widgets/base",
      "_view_module_version": "1.2.0",
      "_view_name": "LayoutView",
      "align_content": null,
      "align_items": null,
      "align_self": null,
      "border": null,
      "bottom": null,
      "display": null,
      "flex": null,
      "flex_flow": null,
      "grid_area": null,
      "grid_auto_columns": null,
      "grid_auto_flow": null,
      "grid_auto_rows": null,
      "grid_column": null,
      "grid_gap": null,
      "grid_row": null,
      "grid_template_areas": null,
      "grid_template_columns": null,
      "grid_template_rows": null,
      "height": null,
      "justify_content": null,
      "justify_items": null,
      "left": null,
      "margin": null,
      "max_height": null,
      "max_width": null,
      "min_height": null,
      "min_width": null,
      "object_fit": null,
      "object_position": null,
      "order": null,
      "overflow": null,
      "overflow_x": null,
      "overflow_y": null,
      "padding": null,
      "right": null,
      "top": null,
      "visibility": null,
      "width": null
     }
    },
    "7b2f5616a6aa4897b10b3d2a4d179baf": {
     "model_module": "@jupyter-widgets/base",
     "model_module_version": "1.2.0",
     "model_name": "LayoutModel",
     "state": {
      "_model_module": "@jupyter-widgets/base",
      "_model_module_version": "1.2.0",
      "_model_name": "LayoutModel",
      "_view_count": null,
      "_view_module": "@jupyter-widgets/base",
      "_view_module_version": "1.2.0",
      "_view_name": "LayoutView",
      "align_content": null,
      "align_items": null,
      "align_self": null,
      "border": null,
      "bottom": null,
      "display": null,
      "flex": null,
      "flex_flow": null,
      "grid_area": null,
      "grid_auto_columns": null,
      "grid_auto_flow": null,
      "grid_auto_rows": null,
      "grid_column": null,
      "grid_gap": null,
      "grid_row": null,
      "grid_template_areas": null,
      "grid_template_columns": null,
      "grid_template_rows": null,
      "height": null,
      "justify_content": null,
      "justify_items": null,
      "left": null,
      "margin": null,
      "max_height": null,
      "max_width": null,
      "min_height": null,
      "min_width": null,
      "object_fit": null,
      "object_position": null,
      "order": null,
      "overflow": null,
      "overflow_x": null,
      "overflow_y": null,
      "padding": null,
      "right": null,
      "top": null,
      "visibility": null,
      "width": null
     }
    },
    "7c2a9cfc4e1842db8aaca221f76e216a": {
     "model_module": "@jupyter-widgets/controls",
     "model_module_version": "1.5.0",
     "model_name": "SliderStyleModel",
     "state": {
      "_model_module": "@jupyter-widgets/controls",
      "_model_module_version": "1.5.0",
      "_model_name": "SliderStyleModel",
      "_view_count": null,
      "_view_module": "@jupyter-widgets/base",
      "_view_module_version": "1.2.0",
      "_view_name": "StyleView",
      "description_width": "",
      "handle_color": null
     }
    },
    "7fcdbb974d004b84bfdb7840edc65996": {
     "model_module": "@jupyter-widgets/base",
     "model_module_version": "1.2.0",
     "model_name": "LayoutModel",
     "state": {
      "_model_module": "@jupyter-widgets/base",
      "_model_module_version": "1.2.0",
      "_model_name": "LayoutModel",
      "_view_count": null,
      "_view_module": "@jupyter-widgets/base",
      "_view_module_version": "1.2.0",
      "_view_name": "LayoutView",
      "align_content": null,
      "align_items": null,
      "align_self": null,
      "border": null,
      "bottom": null,
      "display": null,
      "flex": null,
      "flex_flow": null,
      "grid_area": null,
      "grid_auto_columns": null,
      "grid_auto_flow": null,
      "grid_auto_rows": null,
      "grid_column": null,
      "grid_gap": null,
      "grid_row": null,
      "grid_template_areas": null,
      "grid_template_columns": null,
      "grid_template_rows": null,
      "height": null,
      "justify_content": null,
      "justify_items": null,
      "left": null,
      "margin": null,
      "max_height": null,
      "max_width": null,
      "min_height": null,
      "min_width": null,
      "object_fit": null,
      "object_position": null,
      "order": null,
      "overflow": null,
      "overflow_x": null,
      "overflow_y": null,
      "padding": null,
      "right": null,
      "top": null,
      "visibility": null,
      "width": null
     }
    },
    "80a025a1efc5486caf650b0b7c80fa5c": {
     "model_module": "@jupyter-widgets/base",
     "model_module_version": "1.2.0",
     "model_name": "LayoutModel",
     "state": {
      "_model_module": "@jupyter-widgets/base",
      "_model_module_version": "1.2.0",
      "_model_name": "LayoutModel",
      "_view_count": null,
      "_view_module": "@jupyter-widgets/base",
      "_view_module_version": "1.2.0",
      "_view_name": "LayoutView",
      "align_content": null,
      "align_items": null,
      "align_self": null,
      "border": null,
      "bottom": null,
      "display": null,
      "flex": null,
      "flex_flow": null,
      "grid_area": null,
      "grid_auto_columns": null,
      "grid_auto_flow": null,
      "grid_auto_rows": null,
      "grid_column": null,
      "grid_gap": null,
      "grid_row": null,
      "grid_template_areas": null,
      "grid_template_columns": null,
      "grid_template_rows": null,
      "height": null,
      "justify_content": null,
      "justify_items": null,
      "left": null,
      "margin": null,
      "max_height": null,
      "max_width": null,
      "min_height": null,
      "min_width": null,
      "object_fit": null,
      "object_position": null,
      "order": null,
      "overflow": null,
      "overflow_x": null,
      "overflow_y": null,
      "padding": null,
      "right": null,
      "top": null,
      "visibility": null,
      "width": null
     }
    },
    "80cb25b8c6e34ba7b0c9d04127b3a871": {
     "model_module": "@jupyter-widgets/controls",
     "model_module_version": "1.5.0",
     "model_name": "SliderStyleModel",
     "state": {
      "_model_module": "@jupyter-widgets/controls",
      "_model_module_version": "1.5.0",
      "_model_name": "SliderStyleModel",
      "_view_count": null,
      "_view_module": "@jupyter-widgets/base",
      "_view_module_version": "1.2.0",
      "_view_name": "StyleView",
      "description_width": "",
      "handle_color": null
     }
    },
    "99007fe97ef24e0e8e43675da9ad3113": {
     "model_module": "@jupyter-widgets/base",
     "model_module_version": "1.2.0",
     "model_name": "LayoutModel",
     "state": {
      "_model_module": "@jupyter-widgets/base",
      "_model_module_version": "1.2.0",
      "_model_name": "LayoutModel",
      "_view_count": null,
      "_view_module": "@jupyter-widgets/base",
      "_view_module_version": "1.2.0",
      "_view_name": "LayoutView",
      "align_content": null,
      "align_items": null,
      "align_self": null,
      "border": null,
      "bottom": null,
      "display": null,
      "flex": null,
      "flex_flow": null,
      "grid_area": null,
      "grid_auto_columns": null,
      "grid_auto_flow": null,
      "grid_auto_rows": null,
      "grid_column": null,
      "grid_gap": null,
      "grid_row": null,
      "grid_template_areas": null,
      "grid_template_columns": null,
      "grid_template_rows": null,
      "height": null,
      "justify_content": null,
      "justify_items": null,
      "left": null,
      "margin": null,
      "max_height": null,
      "max_width": null,
      "min_height": null,
      "min_width": null,
      "object_fit": null,
      "object_position": null,
      "order": null,
      "overflow": null,
      "overflow_x": null,
      "overflow_y": null,
      "padding": null,
      "right": null,
      "top": null,
      "visibility": null,
      "width": null
     }
    },
    "99acfee107ad441190cf715006adfbc3": {
     "model_module": "@jupyter-widgets/controls",
     "model_module_version": "1.5.0",
     "model_name": "IntSliderModel",
     "state": {
      "_dom_classes": [],
      "_model_module": "@jupyter-widgets/controls",
      "_model_module_version": "1.5.0",
      "_model_name": "IntSliderModel",
      "_view_count": null,
      "_view_module": "@jupyter-widgets/controls",
      "_view_module_version": "1.5.0",
      "_view_name": "IntSliderView",
      "continuous_update": true,
      "description": "Camadas Adicionais",
      "description_tooltip": null,
      "disabled": false,
      "layout": "IPY_MODEL_729f9113cbae4e858a74b4dbcd323309",
      "max": 5,
      "min": 0,
      "orientation": "horizontal",
      "readout": true,
      "readout_format": "d",
      "step": 1,
      "style": "IPY_MODEL_80cb25b8c6e34ba7b0c9d04127b3a871",
      "value": 1
     }
    },
    "9c8ebecdc6054fe4bd4370dc87047057": {
     "model_module": "@jupyter-widgets/controls",
     "model_module_version": "1.5.0",
     "model_name": "IntSliderModel",
     "state": {
      "_dom_classes": [],
      "_model_module": "@jupyter-widgets/controls",
      "_model_module_version": "1.5.0",
      "_model_name": "IntSliderModel",
      "_view_count": null,
      "_view_module": "@jupyter-widgets/controls",
      "_view_module_version": "1.5.0",
      "_view_name": "IntSliderView",
      "continuous_update": true,
      "description": "Número do poço",
      "description_tooltip": null,
      "disabled": false,
      "layout": "IPY_MODEL_c7e0613858ae498ca98ab6b191c352df",
      "max": 96,
      "min": 1,
      "orientation": "horizontal",
      "readout": true,
      "readout_format": "d",
      "step": 1,
      "style": "IPY_MODEL_3403d626de6f402ab9e944019f15ac46",
      "value": 1
     }
    },
    "9f3a450c1bd34528b551c0e280262c40": {
     "model_module": "@jupyter-widgets/controls",
     "model_module_version": "1.5.0",
     "model_name": "SliderStyleModel",
     "state": {
      "_model_module": "@jupyter-widgets/controls",
      "_model_module_version": "1.5.0",
      "_model_name": "SliderStyleModel",
      "_view_count": null,
      "_view_module": "@jupyter-widgets/base",
      "_view_module_version": "1.2.0",
      "_view_name": "StyleView",
      "description_width": "",
      "handle_color": null
     }
    },
    "abcd0308f5b14eb0a84b913d12238a1d": {
     "model_module": "@jupyter-widgets/controls",
     "model_module_version": "1.5.0",
     "model_name": "SliderStyleModel",
     "state": {
      "_model_module": "@jupyter-widgets/controls",
      "_model_module_version": "1.5.0",
      "_model_name": "SliderStyleModel",
      "_view_count": null,
      "_view_module": "@jupyter-widgets/base",
      "_view_module_version": "1.2.0",
      "_view_name": "StyleView",
      "description_width": "",
      "handle_color": null
     }
    },
    "aef9c89fa55d4052ac186a47d845fcf7": {
     "model_module": "@jupyter-widgets/controls",
     "model_module_version": "1.5.0",
     "model_name": "SliderStyleModel",
     "state": {
      "_model_module": "@jupyter-widgets/controls",
      "_model_module_version": "1.5.0",
      "_model_name": "SliderStyleModel",
      "_view_count": null,
      "_view_module": "@jupyter-widgets/base",
      "_view_module_version": "1.2.0",
      "_view_name": "StyleView",
      "description_width": "",
      "handle_color": null
     }
    },
    "b48cd262dea5468584ec735adfeab358": {
     "model_module": "@jupyter-widgets/controls",
     "model_module_version": "1.5.0",
     "model_name": "IntSliderModel",
     "state": {
      "_dom_classes": [],
      "_model_module": "@jupyter-widgets/controls",
      "_model_module_version": "1.5.0",
      "_model_name": "IntSliderModel",
      "_view_count": null,
      "_view_module": "@jupyter-widgets/controls",
      "_view_module_version": "1.5.0",
      "_view_name": "IntSliderView",
      "continuous_update": true,
      "description": "Número do poço",
      "description_tooltip": null,
      "disabled": false,
      "layout": "IPY_MODEL_d77f41bbfefe43fe9e3c6e18d9ed9054",
      "max": 96,
      "min": 1,
      "orientation": "horizontal",
      "readout": true,
      "readout_format": "d",
      "step": 1,
      "style": "IPY_MODEL_7c2a9cfc4e1842db8aaca221f76e216a",
      "value": 1
     }
    },
    "c3ad1aa7b7f9423d9b7c14a878a9fa03": {
     "model_module": "@jupyter-widgets/controls",
     "model_module_version": "1.5.0",
     "model_name": "IntSliderModel",
     "state": {
      "_dom_classes": [],
      "_model_module": "@jupyter-widgets/controls",
      "_model_module_version": "1.5.0",
      "_model_name": "IntSliderModel",
      "_view_count": null,
      "_view_module": "@jupyter-widgets/controls",
      "_view_module_version": "1.5.0",
      "_view_name": "IntSliderView",
      "continuous_update": true,
      "description": "Número do poço",
      "description_tooltip": null,
      "disabled": false,
      "layout": "IPY_MODEL_7b2f5616a6aa4897b10b3d2a4d179baf",
      "max": 96,
      "min": 1,
      "orientation": "horizontal",
      "readout": true,
      "readout_format": "d",
      "step": 1,
      "style": "IPY_MODEL_e2fdf54045304f569573ffbdbd735630",
      "value": 1
     }
    },
    "c7e0613858ae498ca98ab6b191c352df": {
     "model_module": "@jupyter-widgets/base",
     "model_module_version": "1.2.0",
     "model_name": "LayoutModel",
     "state": {
      "_model_module": "@jupyter-widgets/base",
      "_model_module_version": "1.2.0",
      "_model_name": "LayoutModel",
      "_view_count": null,
      "_view_module": "@jupyter-widgets/base",
      "_view_module_version": "1.2.0",
      "_view_name": "LayoutView",
      "align_content": null,
      "align_items": null,
      "align_self": null,
      "border": null,
      "bottom": null,
      "display": null,
      "flex": null,
      "flex_flow": null,
      "grid_area": null,
      "grid_auto_columns": null,
      "grid_auto_flow": null,
      "grid_auto_rows": null,
      "grid_column": null,
      "grid_gap": null,
      "grid_row": null,
      "grid_template_areas": null,
      "grid_template_columns": null,
      "grid_template_rows": null,
      "height": null,
      "justify_content": null,
      "justify_items": null,
      "left": null,
      "margin": null,
      "max_height": null,
      "max_width": null,
      "min_height": null,
      "min_width": null,
      "object_fit": null,
      "object_position": null,
      "order": null,
      "overflow": null,
      "overflow_x": null,
      "overflow_y": null,
      "padding": null,
      "right": null,
      "top": null,
      "visibility": null,
      "width": null
     }
    },
    "cc56fa161dc647679053aeeb25b902f2": {
     "model_module": "@jupyter-widgets/controls",
     "model_module_version": "1.5.0",
     "model_name": "SliderStyleModel",
     "state": {
      "_model_module": "@jupyter-widgets/controls",
      "_model_module_version": "1.5.0",
      "_model_name": "SliderStyleModel",
      "_view_count": null,
      "_view_module": "@jupyter-widgets/base",
      "_view_module_version": "1.2.0",
      "_view_name": "StyleView",
      "description_width": "",
      "handle_color": null
     }
    },
    "d480e000c33748f294fa13a4fa1c2b62": {
     "model_module": "@jupyter-widgets/controls",
     "model_module_version": "1.5.0",
     "model_name": "IntSliderModel",
     "state": {
      "_dom_classes": [],
      "_model_module": "@jupyter-widgets/controls",
      "_model_module_version": "1.5.0",
      "_model_name": "IntSliderModel",
      "_view_count": null,
      "_view_module": "@jupyter-widgets/controls",
      "_view_module_version": "1.5.0",
      "_view_name": "IntSliderView",
      "continuous_update": true,
      "description": "Litologia:",
      "description_tooltip": null,
      "disabled": false,
      "layout": "IPY_MODEL_46636ef61ed94531abf5d1aaa3d5f283",
      "max": 12,
      "min": 1,
      "orientation": "horizontal",
      "readout": true,
      "readout_format": "d",
      "step": 1,
      "style": "IPY_MODEL_5a36a58d148a4a728bf1876fd018a00d",
      "value": 7
     }
    },
    "d529cf3fab2a499cbe23afcc3b0e31c5": {
     "model_module": "@jupyter-widgets/controls",
     "model_module_version": "1.5.0",
     "model_name": "IntSliderModel",
     "state": {
      "_dom_classes": [],
      "_model_module": "@jupyter-widgets/controls",
      "_model_module_version": "1.5.0",
      "_model_name": "IntSliderModel",
      "_view_count": null,
      "_view_module": "@jupyter-widgets/controls",
      "_view_module_version": "1.5.0",
      "_view_name": "IntSliderView",
      "continuous_update": true,
      "description": "Num. Epochs",
      "description_tooltip": null,
      "disabled": false,
      "layout": "IPY_MODEL_6b79cfec029d4731aeceedfe98de7ed3",
      "max": 100,
      "min": 10,
      "orientation": "horizontal",
      "readout": true,
      "readout_format": "d",
      "step": 10,
      "style": "IPY_MODEL_9f3a450c1bd34528b551c0e280262c40",
      "value": 20
     }
    },
    "d77f41bbfefe43fe9e3c6e18d9ed9054": {
     "model_module": "@jupyter-widgets/base",
     "model_module_version": "1.2.0",
     "model_name": "LayoutModel",
     "state": {
      "_model_module": "@jupyter-widgets/base",
      "_model_module_version": "1.2.0",
      "_model_name": "LayoutModel",
      "_view_count": null,
      "_view_module": "@jupyter-widgets/base",
      "_view_module_version": "1.2.0",
      "_view_name": "LayoutView",
      "align_content": null,
      "align_items": null,
      "align_self": null,
      "border": null,
      "bottom": null,
      "display": null,
      "flex": null,
      "flex_flow": null,
      "grid_area": null,
      "grid_auto_columns": null,
      "grid_auto_flow": null,
      "grid_auto_rows": null,
      "grid_column": null,
      "grid_gap": null,
      "grid_row": null,
      "grid_template_areas": null,
      "grid_template_columns": null,
      "grid_template_rows": null,
      "height": null,
      "justify_content": null,
      "justify_items": null,
      "left": null,
      "margin": null,
      "max_height": null,
      "max_width": null,
      "min_height": null,
      "min_width": null,
      "object_fit": null,
      "object_position": null,
      "order": null,
      "overflow": null,
      "overflow_x": null,
      "overflow_y": null,
      "padding": null,
      "right": null,
      "top": null,
      "visibility": null,
      "width": null
     }
    },
    "e2fdf54045304f569573ffbdbd735630": {
     "model_module": "@jupyter-widgets/controls",
     "model_module_version": "1.5.0",
     "model_name": "SliderStyleModel",
     "state": {
      "_model_module": "@jupyter-widgets/controls",
      "_model_module_version": "1.5.0",
      "_model_name": "SliderStyleModel",
      "_view_count": null,
      "_view_module": "@jupyter-widgets/base",
      "_view_module_version": "1.2.0",
      "_view_name": "StyleView",
      "description_width": "",
      "handle_color": null
     }
    },
    "edd57f44bc8646fab73262ed9e7ac52f": {
     "model_module": "@jupyter-widgets/controls",
     "model_module_version": "1.5.0",
     "model_name": "IntSliderModel",
     "state": {
      "_dom_classes": [],
      "_model_module": "@jupyter-widgets/controls",
      "_model_module_version": "1.5.0",
      "_model_name": "IntSliderModel",
      "_view_count": null,
      "_view_module": "@jupyter-widgets/controls",
      "_view_module_version": "1.5.0",
      "_view_name": "IntSliderView",
      "continuous_update": true,
      "description": "Número do poço",
      "description_tooltip": null,
      "disabled": false,
      "layout": "IPY_MODEL_7fcdbb974d004b84bfdb7840edc65996",
      "max": 96,
      "min": 1,
      "orientation": "horizontal",
      "readout": true,
      "readout_format": "d",
      "step": 1,
      "style": "IPY_MODEL_aef9c89fa55d4052ac186a47d845fcf7",
      "value": 42
     }
    },
    "ede39935252e487289edcdd30b823251": {
     "model_module": "@jupyter-widgets/controls",
     "model_module_version": "1.5.0",
     "model_name": "IntSliderModel",
     "state": {
      "_dom_classes": [],
      "_model_module": "@jupyter-widgets/controls",
      "_model_module_version": "1.5.0",
      "_model_name": "IntSliderModel",
      "_view_count": null,
      "_view_module": "@jupyter-widgets/controls",
      "_view_module_version": "1.5.0",
      "_view_name": "IntSliderView",
      "continuous_update": true,
      "description": "Litologia:",
      "description_tooltip": null,
      "disabled": false,
      "layout": "IPY_MODEL_4de7397cd9e248d69154adeac764dad3",
      "max": 12,
      "min": 1,
      "orientation": "horizontal",
      "readout": true,
      "readout_format": "d",
      "step": 1,
      "style": "IPY_MODEL_cc56fa161dc647679053aeeb25b902f2",
      "value": 5
     }
    },
    "efe5869381dd4100bbeb274c9113f34d": {
     "model_module": "@jupyter-widgets/controls",
     "model_module_version": "1.5.0",
     "model_name": "SliderStyleModel",
     "state": {
      "_model_module": "@jupyter-widgets/controls",
      "_model_module_version": "1.5.0",
      "_model_name": "SliderStyleModel",
      "_view_count": null,
      "_view_module": "@jupyter-widgets/base",
      "_view_module_version": "1.2.0",
      "_view_name": "StyleView",
      "description_width": "",
      "handle_color": null
     }
    },
    "f0b948ef6c234349bfcff000b7c501f0": {
     "model_module": "@jupyter-widgets/controls",
     "model_module_version": "1.5.0",
     "model_name": "IntSliderModel",
     "state": {
      "_dom_classes": [],
      "_model_module": "@jupyter-widgets/controls",
      "_model_module_version": "1.5.0",
      "_model_name": "IntSliderModel",
      "_view_count": null,
      "_view_module": "@jupyter-widgets/controls",
      "_view_module_version": "1.5.0",
      "_view_name": "IntSliderView",
      "continuous_update": true,
      "description": "Litologia:",
      "description_tooltip": null,
      "disabled": false,
      "layout": "IPY_MODEL_1cd2ac0def9c41d091a7ac6db6d1baad",
      "max": 12,
      "min": 1,
      "orientation": "horizontal",
      "readout": true,
      "readout_format": "d",
      "step": 1,
      "style": "IPY_MODEL_abcd0308f5b14eb0a84b913d12238a1d",
      "value": 5
     }
    },
    "f142504236c6425c91358872bf044ea9": {
     "model_module": "@jupyter-widgets/controls",
     "model_module_version": "1.5.0",
     "model_name": "SliderStyleModel",
     "state": {
      "_model_module": "@jupyter-widgets/controls",
      "_model_module_version": "1.5.0",
      "_model_name": "SliderStyleModel",
      "_view_count": null,
      "_view_module": "@jupyter-widgets/base",
      "_view_module_version": "1.2.0",
      "_view_name": "StyleView",
      "description_width": "",
      "handle_color": null
     }
    },
    "f6e1c6c8926d493095c09fa9199b00ae": {
     "model_module": "@jupyter-widgets/base",
     "model_module_version": "1.2.0",
     "model_name": "LayoutModel",
     "state": {
      "_model_module": "@jupyter-widgets/base",
      "_model_module_version": "1.2.0",
      "_model_name": "LayoutModel",
      "_view_count": null,
      "_view_module": "@jupyter-widgets/base",
      "_view_module_version": "1.2.0",
      "_view_name": "LayoutView",
      "align_content": null,
      "align_items": null,
      "align_self": null,
      "border": null,
      "bottom": null,
      "display": null,
      "flex": null,
      "flex_flow": null,
      "grid_area": null,
      "grid_auto_columns": null,
      "grid_auto_flow": null,
      "grid_auto_rows": null,
      "grid_column": null,
      "grid_gap": null,
      "grid_row": null,
      "grid_template_areas": null,
      "grid_template_columns": null,
      "grid_template_rows": null,
      "height": null,
      "justify_content": null,
      "justify_items": null,
      "left": null,
      "margin": null,
      "max_height": null,
      "max_width": null,
      "min_height": null,
      "min_width": null,
      "object_fit": null,
      "object_position": null,
      "order": null,
      "overflow": null,
      "overflow_x": null,
      "overflow_y": null,
      "padding": null,
      "right": null,
      "top": null,
      "visibility": null,
      "width": null
     }
    },
    "f757e2dbe7774b699cfd186fbe3dd4d1": {
     "model_module": "@jupyter-widgets/base",
     "model_module_version": "1.2.0",
     "model_name": "LayoutModel",
     "state": {
      "_model_module": "@jupyter-widgets/base",
      "_model_module_version": "1.2.0",
      "_model_name": "LayoutModel",
      "_view_count": null,
      "_view_module": "@jupyter-widgets/base",
      "_view_module_version": "1.2.0",
      "_view_name": "LayoutView",
      "align_content": null,
      "align_items": null,
      "align_self": null,
      "border": null,
      "bottom": null,
      "display": null,
      "flex": null,
      "flex_flow": null,
      "grid_area": null,
      "grid_auto_columns": null,
      "grid_auto_flow": null,
      "grid_auto_rows": null,
      "grid_column": null,
      "grid_gap": null,
      "grid_row": null,
      "grid_template_areas": null,
      "grid_template_columns": null,
      "grid_template_rows": null,
      "height": null,
      "justify_content": null,
      "justify_items": null,
      "left": null,
      "margin": null,
      "max_height": null,
      "max_width": null,
      "min_height": null,
      "min_width": null,
      "object_fit": null,
      "object_position": null,
      "order": null,
      "overflow": null,
      "overflow_x": null,
      "overflow_y": null,
      "padding": null,
      "right": null,
      "top": null,
      "visibility": null,
      "width": null
     }
    },
    "fe0c47077ed146029d87c01e4f03e003": {
     "model_module": "@jupyter-widgets/controls",
     "model_module_version": "1.5.0",
     "model_name": "SliderStyleModel",
     "state": {
      "_model_module": "@jupyter-widgets/controls",
      "_model_module_version": "1.5.0",
      "_model_name": "SliderStyleModel",
      "_view_count": null,
      "_view_module": "@jupyter-widgets/base",
      "_view_module_version": "1.2.0",
      "_view_name": "StyleView",
      "description_width": "",
      "handle_color": null
     }
    },
    "ffd4f8a46dd24a7ab524f961456d6538": {
     "model_module": "@jupyter-widgets/output",
     "model_module_version": "1.0.0",
     "model_name": "OutputModel",
     "state": {
      "_dom_classes": [],
      "_model_module": "@jupyter-widgets/output",
      "_model_module_version": "1.0.0",
      "_model_name": "OutputModel",
      "_view_count": null,
      "_view_module": "@jupyter-widgets/output",
      "_view_module_version": "1.0.0",
      "_view_name": "OutputView",
      "layout": "IPY_MODEL_066f0208a3504886abf818d0bdfa4fe7",
      "msg_id": "",
      "outputs": []
     }
    }
   }
  }
 },
 "nbformat": 4,
 "nbformat_minor": 4
}
